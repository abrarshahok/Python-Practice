{
 "cells": [
  {
   "cell_type": "markdown",
   "id": "e439b037-3c79-4446-be2b-1287703e2675",
   "metadata": {},
   "source": [
    "# Numpy\n"
   ]
  },
  {
   "cell_type": "code",
   "execution_count": 1,
   "id": "6c21906a-0609-4ab7-a621-aafcf78656e5",
   "metadata": {},
   "outputs": [
    {
     "name": "stdout",
     "output_type": "stream",
     "text": [
      "[1 2 3 4 5]\n"
     ]
    }
   ],
   "source": [
    "import numpy as np\n",
    "\n",
    "a = np.array([1,2,3,4,5])\n",
    "print(a)"
   ]
  },
  {
   "cell_type": "code",
   "execution_count": 9,
   "id": "2bb5712a-f1ae-4b8b-bbcf-ce7baa55419b",
   "metadata": {},
   "outputs": [
    {
     "name": "stdout",
     "output_type": "stream",
     "text": [
      "Variable   Type       Data/Info\n",
      "-------------------------------\n",
      "a          ndarray    5: 5 elems, type `int64`, 40 bytes\n",
      "b          ndarray    5: 5 elems, type `int64`, 40 bytes\n",
      "np         module     <module 'numpy' from '/ho<...>kages/numpy/__init__.py'>\n"
     ]
    }
   ],
   "source": [
    "%whos"
   ]
  },
  {
   "cell_type": "code",
   "execution_count": 4,
   "id": "a0d952eb-8b36-416d-b9bc-ae0c372268bc",
   "metadata": {},
   "outputs": [
    {
     "data": {
      "text/plain": [
       "array([1, 2, 3, 4], dtype=int32)"
      ]
     },
     "execution_count": 4,
     "metadata": {},
     "output_type": "execute_result"
    }
   ],
   "source": [
    "iArray = np.array([1,2,3,4],dtype='i')\n",
    "iArray"
   ]
  },
  {
   "cell_type": "code",
   "execution_count": 10,
   "id": "ad2ce8e4-f06a-4ff0-9958-0c8cf89cfa1c",
   "metadata": {},
   "outputs": [
    {
     "data": {
      "text/plain": [
       "dtype('float32')"
      ]
     },
     "execution_count": 10,
     "metadata": {},
     "output_type": "execute_result"
    }
   ],
   "source": [
    "fArray = np.array([1,2,3,4],dtype='f')\n",
    "fArray\n",
    "# fArray.dtype"
   ]
  },
  {
   "cell_type": "code",
   "execution_count": 16,
   "id": "17c61a5c-73f6-4bed-b782-66af8a5e5748",
   "metadata": {},
   "outputs": [
    {
     "name": "stdout",
     "output_type": "stream",
     "text": [
      "Variable   Type       Data/Info\n",
      "-------------------------------\n",
      "a          ndarray    5: 5 elems, type `int64`, 40 bytes\n",
      "b          ndarray    5: 5 elems, type `int64`, 40 bytes\n",
      "fArray     ndarray    4: 4 elems, type `float32`, 16 bytes\n",
      "intArray   ndarray    4: 4 elems, type `int32`, 16 bytes\n",
      "np         module     <module 'numpy' from '/ho<...>kages/numpy/__init__.py'>\n"
     ]
    }
   ],
   "source": [
    "%whos"
   ]
  },
  {
   "cell_type": "markdown",
   "id": "7512cb1f-29f8-41f0-9d1a-6443387c5267",
   "metadata": {},
   "source": [
    "# Numpy Dimensions"
   ]
  },
  {
   "cell_type": "code",
   "execution_count": 11,
   "id": "c2d75d2c-edf3-4f7c-8af4-09dd6a60f1f7",
   "metadata": {},
   "outputs": [
    {
     "data": {
      "text/plain": [
       "array([[1, 2, 3, 4],\n",
       "       [5, 6, 7, 8]])"
      ]
     },
     "execution_count": 11,
     "metadata": {},
     "output_type": "execute_result"
    }
   ],
   "source": [
    "a = np.array([[1,2,3,4],[5,6,7,8]])\n",
    "a"
   ]
  },
  {
   "cell_type": "code",
   "execution_count": 12,
   "id": "cc2c4f17-8529-42b9-bf88-37eee22a8efe",
   "metadata": {},
   "outputs": [
    {
     "data": {
      "text/plain": [
       "2"
      ]
     },
     "execution_count": 12,
     "metadata": {},
     "output_type": "execute_result"
    }
   ],
   "source": [
    "a.ndim"
   ]
  },
  {
   "cell_type": "code",
   "execution_count": 14,
   "id": "4354c06e-2571-42e0-836f-a64194e0e25d",
   "metadata": {},
   "outputs": [
    {
     "data": {
      "text/plain": [
       "array([[[1, 2, 3, 4],\n",
       "        [5, 6, 7, 8]],\n",
       "\n",
       "       [[1, 2, 3, 4],\n",
       "        [5, 6, 7, 8]]])"
      ]
     },
     "execution_count": 14,
     "metadata": {},
     "output_type": "execute_result"
    }
   ],
   "source": [
    "b = np.array([[[1,2,3,4],[5,6,7,8]],[[1,2,3,4],[5,6,7,8]]])\n",
    "b"
   ]
  },
  {
   "cell_type": "code",
   "execution_count": 22,
   "id": "5cac5e88-0465-4f30-9b82-c710b09e7dac",
   "metadata": {},
   "outputs": [
    {
     "data": {
      "text/plain": [
       "3"
      ]
     },
     "execution_count": 22,
     "metadata": {},
     "output_type": "execute_result"
    }
   ],
   "source": [
    "b.ndim"
   ]
  },
  {
   "cell_type": "code",
   "execution_count": 24,
   "id": "b3682d7a-6682-4d6b-a15f-f135a2d9760c",
   "metadata": {},
   "outputs": [
    {
     "data": {
      "text/plain": [
       "(2, 2, 4)"
      ]
     },
     "execution_count": 24,
     "metadata": {},
     "output_type": "execute_result"
    }
   ],
   "source": [
    "b.shape\n",
    "# Output\n",
    "# total 2Ds in 3D, total 1Ds in 2D, total elements in 1D\n",
    "# b.shape[0]     , b.shape[1]     , b.shape[2]\n",
    "# (2, 2, 4)"
   ]
  },
  {
   "cell_type": "code",
   "execution_count": 26,
   "id": "e0e856c5-cffd-4ed3-b7b4-68051551593f",
   "metadata": {},
   "outputs": [
    {
     "name": "stdout",
     "output_type": "stream",
     "text": [
      "1\n",
      "0\n"
     ]
    }
   ],
   "source": [
    "c = np.array([3])\n",
    "print(c.ndim)\n",
    "d = np.array(3)\n",
    "print(d.ndim)"
   ]
  },
  {
   "cell_type": "code",
   "execution_count": 36,
   "id": "f6f83f17-7695-4876-84d6-3dbdb6613977",
   "metadata": {},
   "outputs": [
    {
     "name": "stdout",
     "output_type": "stream",
     "text": [
      "2\n"
     ]
    }
   ],
   "source": [
    "print(b[0,0,1])"
   ]
  },
  {
   "cell_type": "markdown",
   "id": "51cc1573-c1d9-420a-8fec-691c32283a8c",
   "metadata": {},
   "source": [
    "# TODO: Numpy(arange, reshape,random)"
   ]
  },
  {
   "cell_type": "code",
   "execution_count": 6,
   "id": "9987183c-8ee3-47a1-8f67-f3cfbdbf3297",
   "metadata": {},
   "outputs": [
    {
     "name": "stdout",
     "output_type": "stream",
     "text": [
      "[10 12 14 16 18 20 22 24 26 28 30 32 34 36 38 40 42 44 46 48 50 52 54 56\n",
      " 58 60 62 64 66 68 70 72 74 76 78 80 82 84 86 88 90 92 94 96 98]\n"
     ]
    }
   ],
   "source": [
    "# A = np.arange(100)\n",
    "# A = np.arange(10,100)\n",
    "A = np.arange(10,100,2)\n",
    "print(A)"
   ]
  },
  {
   "cell_type": "code",
   "execution_count": 8,
   "id": "18dc59e9-df67-4db6-a150-4d8d182949e8",
   "metadata": {},
   "outputs": [
    {
     "name": "stdout",
     "output_type": "stream",
     "text": [
      "range(0, 10)\n",
      "[0, 1, 2, 3, 4, 5, 6, 7, 8, 9]\n"
     ]
    }
   ],
   "source": [
    "print(range(10))\n",
    "print(list(range(10)))"
   ]
  },
  {
   "cell_type": "code",
   "execution_count": 9,
   "id": "4d71734a-4306-422b-bde4-d6e5d0f6bc8e",
   "metadata": {},
   "outputs": [
    {
     "name": "stdout",
     "output_type": "stream",
     "text": [
      "[6 7 5 4 9 2 3 1 8 0]\n"
     ]
    }
   ],
   "source": [
    "B = np.random.permutation(np.arange(10))\n",
    "print(B)"
   ]
  },
  {
   "cell_type": "code",
   "execution_count": 12,
   "id": "ec7e1319-5d71-4c0a-b53c-c0d55c9fef45",
   "metadata": {},
   "outputs": [
    {
     "name": "stdout",
     "output_type": "stream",
     "text": [
      "133\n"
     ]
    },
    {
     "data": {
      "text/plain": [
       "int"
      ]
     },
     "execution_count": 12,
     "metadata": {},
     "output_type": "execute_result"
    }
   ],
   "source": [
    "C = np.random.randint(0,300)\n",
    "print(C)\n",
    "type(C)"
   ]
  },
  {
   "cell_type": "code",
   "execution_count": 25,
   "id": "8db0c49d-6ed8-4082-aef9-46d7ebefa883",
   "metadata": {},
   "outputs": [
    {
     "data": {
      "text/plain": [
       "array([[0, 1, 2, 3, 4],\n",
       "       [5, 6, 7, 8, 9]])"
      ]
     },
     "execution_count": 25,
     "metadata": {},
     "output_type": "execute_result"
    }
   ],
   "source": [
    "arr = np.arange(0,10)\n",
    "nArr = arr.reshape(2,5)\n",
    "nArr"
   ]
  },
  {
   "cell_type": "code",
   "execution_count": 34,
   "id": "6d38229c-7ea6-418a-94d6-dd309fc26f0d",
   "metadata": {},
   "outputs": [
    {
     "data": {
      "text/plain": [
       "array([ 2.19732966, -0.07576984, -1.18743043, ..., -1.21813248,\n",
       "        0.12799149, -0.25757133])"
      ]
     },
     "execution_count": 34,
     "metadata": {},
     "output_type": "execute_result"
    }
   ],
   "source": [
    "np.random.rand(10000)\n",
    "np.random.randn(10000)"
   ]
  },
  {
   "cell_type": "code",
   "execution_count": 37,
   "id": "43ed4a9d-8071-49e7-a4c1-b9f08642a98a",
   "metadata": {},
   "outputs": [
    {
     "data": {
      "text/plain": [
       "array([[0.89439713, 0.1365975 , 0.96183268, 0.34442455],\n",
       "       [0.48071966, 0.91450241, 0.61516644, 0.55475658],\n",
       "       [0.96568099, 0.05795839, 0.98922601, 0.47463484],\n",
       "       [0.08150957, 0.44816573, 0.65996646, 0.78641212]])"
      ]
     },
     "execution_count": 37,
     "metadata": {},
     "output_type": "execute_result"
    }
   ],
   "source": [
    "np.random.rand(4,4)"
   ]
  },
  {
   "cell_type": "code",
   "execution_count": 38,
   "id": "0e4babe8-eb9a-4b55-8631-ecb0f94851ef",
   "metadata": {},
   "outputs": [
    {
     "data": {
      "text/plain": [
       "array([[[[0.53355207, 0.4745584 , 0.70284586],\n",
       "         [0.60170741, 0.46488659, 0.60001958],\n",
       "         [0.35612256, 0.93327062, 0.64218244],\n",
       "         [0.74405818, 0.15264666, 0.71001461]],\n",
       "\n",
       "        [[0.56696015, 0.46823479, 0.32579023],\n",
       "         [0.92983653, 0.30992373, 0.3559163 ],\n",
       "         [0.01909129, 0.31062677, 0.95973165],\n",
       "         [0.88542708, 0.32683701, 0.39791569]],\n",
       "\n",
       "        [[0.27551234, 0.80625359, 0.0582602 ],\n",
       "         [0.93615259, 0.3619593 , 0.83395287],\n",
       "         [0.34191669, 0.94247359, 0.854643  ],\n",
       "         [0.35812097, 0.54130221, 0.08308164]]],\n",
       "\n",
       "\n",
       "       [[[0.28074802, 0.39876457, 0.67985933],\n",
       "         [0.83087519, 0.48664091, 0.87223298],\n",
       "         [0.26942877, 0.55997133, 0.68651713],\n",
       "         [0.30842455, 0.59220661, 0.65243682]],\n",
       "\n",
       "        [[0.2682423 , 0.62150811, 0.31134021],\n",
       "         [0.8182743 , 0.91270984, 0.38744869],\n",
       "         [0.0694086 , 0.52274372, 0.22160399],\n",
       "         [0.28873361, 0.63831552, 0.41123963]],\n",
       "\n",
       "        [[0.07643523, 0.55484563, 0.85056776],\n",
       "         [0.35417962, 0.15228724, 0.30517775],\n",
       "         [0.17037634, 0.21000673, 0.5583948 ],\n",
       "         [0.25182747, 0.07416209, 0.50087744]]]])"
      ]
     },
     "execution_count": 38,
     "metadata": {},
     "output_type": "execute_result"
    }
   ],
   "source": [
    "np.random.rand(2,3,4,3)"
   ]
  },
  {
   "cell_type": "code",
   "execution_count": 45,
   "id": "ff5ed195-8e35-4c4e-a841-5665fadfaed5",
   "metadata": {},
   "outputs": [
    {
     "data": {
      "text/plain": [
       "array([[[[ 0,  1,  2,  3,  4],\n",
       "         [ 5,  6,  7,  8,  9],\n",
       "         [10, 11, 12, 13, 14],\n",
       "         [15, 16, 17, 18, 19],\n",
       "         [20, 21, 22, 23, 24]],\n",
       "\n",
       "        [[25, 26, 27, 28, 29],\n",
       "         [30, 31, 32, 33, 34],\n",
       "         [35, 36, 37, 38, 39],\n",
       "         [40, 41, 42, 43, 44],\n",
       "         [45, 46, 47, 48, 49]]],\n",
       "\n",
       "\n",
       "       [[[50, 51, 52, 53, 54],\n",
       "         [55, 56, 57, 58, 59],\n",
       "         [60, 61, 62, 63, 64],\n",
       "         [65, 66, 67, 68, 69],\n",
       "         [70, 71, 72, 73, 74]],\n",
       "\n",
       "        [[75, 76, 77, 78, 79],\n",
       "         [80, 81, 82, 83, 84],\n",
       "         [85, 86, 87, 88, 89],\n",
       "         [90, 91, 92, 93, 94],\n",
       "         [95, 96, 97, 98, 99]]]])"
      ]
     },
     "execution_count": 45,
     "metadata": {},
     "output_type": "execute_result"
    }
   ],
   "source": [
    "rsh = np.arange(100).reshape(2,2,5,5)\n",
    "rsh"
   ]
  },
  {
   "cell_type": "code",
   "execution_count": 46,
   "id": "a85b3c07-2a44-40fd-b12b-38bdee274f01",
   "metadata": {
    "scrolled": true
   },
   "outputs": [
    {
     "data": {
      "text/plain": [
       "(2, 2, 5, 5)"
      ]
     },
     "execution_count": 46,
     "metadata": {},
     "output_type": "execute_result"
    }
   ],
   "source": [
    "rsh.shape"
   ]
  },
  {
   "cell_type": "markdown",
   "id": "373ad95d-29b5-4f3a-b60f-58dcbd701ad1",
   "metadata": {},
   "source": [
    "# Numpy (Slicing)"
   ]
  },
  {
   "cell_type": "code",
   "execution_count": 3,
   "id": "a27d6f11-b217-42b7-8599-1ecf50325f57",
   "metadata": {},
   "outputs": [
    {
     "name": "stdout",
     "output_type": "stream",
     "text": [
      "[10 11 12 13 14 15 16 17 18 19 20 21 22 23 24 25 26 27 28 29 30 31 32 33\n",
      " 34 35 36 37 38 39 40 41 42 43 44 45 46 47 48 49 50 51 52 53 54 55 56 57\n",
      " 58 59 60 61 62 63 64 65 66 67 68 69 70 71 72 73 74 75 76 77 78 79 80 81\n",
      " 82 83 84 85 86 87 88 89 90 91 92 93 94 95 96 97 98 99]\n",
      "[-1 20 30 40 50 60 70 80 90]\n"
     ]
    }
   ],
   "source": [
    "D = np.arange(10,100)\n",
    "# E = np.copy(D[0:100:10])\n",
    "E = D[0:100:10].copy()\n",
    "E[0] = -1\n",
    "print(D)\n",
    "print(E)"
   ]
  },
  {
   "cell_type": "code",
   "execution_count": 69,
   "id": "aba4ea8c-2974-4cbb-a2ce-9aa09c4845fa",
   "metadata": {},
   "outputs": [
    {
     "data": {
      "text/plain": [
       "array([99, 94, 89, 84, 79, 74, 69, 64, 59, 54, 49, 44, 39, 34, 29, 24, 19,\n",
       "       14,  9,  4])"
      ]
     },
     "execution_count": 69,
     "metadata": {},
     "output_type": "execute_result"
    }
   ],
   "source": [
    "D[::-5]"
   ]
  },
  {
   "cell_type": "code",
   "execution_count": 5,
   "id": "df32736e-3d27-4743-a806-1727d0c3fe42",
   "metadata": {},
   "outputs": [
    {
     "data": {
      "text/plain": [
       "78"
      ]
     },
     "execution_count": 5,
     "metadata": {},
     "output_type": "execute_result"
    }
   ],
   "source": [
    "index = np.argwhere(D == 88)[0][0]\n",
    "index"
   ]
  },
  {
   "cell_type": "code",
   "execution_count": 25,
   "id": "b3e2fb83-57ba-47b7-a072-183ef0629aab",
   "metadata": {},
   "outputs": [
    {
     "data": {
      "text/plain": [
       "array([[ 1.,  3.,  9.,  8.],\n",
       "       [ 8.,  5.,  4.,  7.],\n",
       "       [ 6.,  0.,  6.,  2.],\n",
       "       [ 3.,  2.,  1.,  1.],\n",
       "       [ 2.,  6., 10.,  7.]])"
      ]
     },
     "execution_count": 25,
     "metadata": {},
     "output_type": "execute_result"
    }
   ],
   "source": [
    "A = np.round(10*np.random.rand(5,4))\n",
    "A"
   ]
  },
  {
   "cell_type": "code",
   "execution_count": 11,
   "id": "4dda9c15-0279-4fdb-bed4-a3d1aa72bcf9",
   "metadata": {},
   "outputs": [
    {
     "data": {
      "text/plain": [
       "4.0"
      ]
     },
     "execution_count": 11,
     "metadata": {},
     "output_type": "execute_result"
    }
   ],
   "source": [
    "A[4,3]"
   ]
  },
  {
   "cell_type": "code",
   "execution_count": 12,
   "id": "c9effeba-d5a9-45b1-a51b-2e800c30454f",
   "metadata": {},
   "outputs": [
    {
     "data": {
      "text/plain": [
       "array([ 9., 10.,  3.,  4.])"
      ]
     },
     "execution_count": 12,
     "metadata": {},
     "output_type": "execute_result"
    }
   ],
   "source": [
    "A[4,:]"
   ]
  },
  {
   "cell_type": "code",
   "execution_count": 13,
   "id": "ca5ed6b3-5724-43e1-aa66-a753bf52fef3",
   "metadata": {},
   "outputs": [
    {
     "data": {
      "text/plain": [
       "array([ 4.,  1., 10.,  0.,  3.])"
      ]
     },
     "execution_count": 13,
     "metadata": {},
     "output_type": "execute_result"
    }
   ],
   "source": [
    "A[:,2]"
   ]
  },
  {
   "cell_type": "code",
   "execution_count": 15,
   "id": "60ef700b-56a5-43e7-ba41-5ee04357422b",
   "metadata": {},
   "outputs": [
    {
     "data": {
      "text/plain": [
       "array([[ 1.,  1.],\n",
       "       [10.,  9.]])"
      ]
     },
     "execution_count": 15,
     "metadata": {},
     "output_type": "execute_result"
    }
   ],
   "source": [
    "A[1:3,2:4]"
   ]
  },
  {
   "cell_type": "code",
   "execution_count": 16,
   "id": "6a059e26-13d0-4dd1-9bb8-012a004a2f49",
   "metadata": {},
   "outputs": [
    {
     "data": {
      "text/plain": [
       "array([[ 6.,  6.,  5.,  9.,  9.],\n",
       "       [ 6.,  5.,  9.,  1., 10.],\n",
       "       [ 4.,  1., 10.,  0.,  3.],\n",
       "       [10.,  1.,  9.,  1.,  4.]])"
      ]
     },
     "execution_count": 16,
     "metadata": {},
     "output_type": "execute_result"
    }
   ],
   "source": [
    "A.T"
   ]
  },
  {
   "cell_type": "code",
   "execution_count": 17,
   "id": "25850eb8-43e9-48e4-b0ae-1c89275ef840",
   "metadata": {},
   "outputs": [
    {
     "data": {
      "text/plain": [
       "array([[-0.92033831, -0.01315846,  1.26318361],\n",
       "       [-0.75416588,  1.62822733, -1.41489559],\n",
       "       [ 2.36868507, -0.07373848, -0.4125064 ]])"
      ]
     },
     "execution_count": 17,
     "metadata": {},
     "output_type": "execute_result"
    }
   ],
   "source": [
    "import numpy.linalg as la\n",
    "la.inv(np.random.rand(3,3))"
   ]
  },
  {
   "cell_type": "code",
   "execution_count": 24,
   "id": "9d8c43e9-2ea3-4cd5-afd8-9c2ccbb8e6b5",
   "metadata": {},
   "outputs": [
    {
     "data": {
      "text/plain": [
       "array([[ 0.,  1.,  1.,  6.],\n",
       "       [ 1.,  1.,  5.,  9.],\n",
       "       [ 3.,  4.,  6., 10.],\n",
       "       [ 4.,  6.,  9., 10.],\n",
       "       [ 5.,  9.,  9., 10.]])"
      ]
     },
     "execution_count": 24,
     "metadata": {},
     "output_type": "execute_result"
    }
   ],
   "source": [
    "A"
   ]
  },
  {
   "cell_type": "code",
   "execution_count": 28,
   "id": "591c3e7c-4826-4b1c-80c1-f4b38b49b651",
   "metadata": {},
   "outputs": [
    {
     "data": {
      "text/plain": [
       "array([[ 0.,  1.,  1.,  1.],\n",
       "       [ 2.,  2.,  2.,  4.],\n",
       "       [ 3.,  3.,  6.,  7.],\n",
       "       [ 5.,  6.,  7.,  9.],\n",
       "       [ 6.,  8.,  8., 10.]])"
      ]
     },
     "execution_count": 28,
     "metadata": {},
     "output_type": "execute_result"
    }
   ],
   "source": [
    "# Every Column will be sorted\n",
    "A.sort(axis=0)\n",
    "A"
   ]
  },
  {
   "cell_type": "code",
   "execution_count": 27,
   "id": "ba927386-129a-4196-a3cd-02ede487de1e",
   "metadata": {},
   "outputs": [
    {
     "data": {
      "text/plain": [
       "array([[ 0.,  1.,  1.,  1.],\n",
       "       [ 2.,  2.,  2.,  4.],\n",
       "       [ 3.,  3.,  6.,  7.],\n",
       "       [ 5.,  6.,  7.,  9.],\n",
       "       [ 6.,  8.,  8., 10.]])"
      ]
     },
     "execution_count": 27,
     "metadata": {},
     "output_type": "execute_result"
    }
   ],
   "source": [
    "# Every Row will be sorted\n",
    "A.sort(axis=1)\n",
    "A"
   ]
  },
  {
   "cell_type": "code",
   "execution_count": 34,
   "id": "899a00ad-572b-495b-8849-acc7a7058f80",
   "metadata": {},
   "outputs": [
    {
     "data": {
      "text/plain": [
       "array([[ 0.,  1.,  1.,  1.],\n",
       "       [ 2.,  2.,  2.,  4.],\n",
       "       [ 3.,  3.,  6.,  7.],\n",
       "       [ 5.,  6.,  7.,  9.],\n",
       "       [ 6.,  8.,  8., 10.]])"
      ]
     },
     "execution_count": 34,
     "metadata": {},
     "output_type": "execute_result"
    }
   ],
   "source": [
    "A[::1,:]"
   ]
  },
  {
   "cell_type": "markdown",
   "id": "e20084f6-ca77-49f3-84cd-cba2b75d99f6",
   "metadata": {},
   "source": [
    "# Numpy More Indexing"
   ]
  },
  {
   "cell_type": "code",
   "execution_count": 43,
   "id": "a392eaf6-d4c9-4432-83f2-e48685d59987",
   "metadata": {},
   "outputs": [
    {
     "data": {
      "text/plain": [
       "array([[ 2.,  2.,  2.,  4.],\n",
       "       [ 6.,  8.,  8., 10.],\n",
       "       [ 5.,  6.,  7.,  9.]])"
      ]
     },
     "execution_count": 43,
     "metadata": {},
     "output_type": "execute_result"
    }
   ],
   "source": [
    "# index 1,4 and 3 elements\n",
    "A[[1,4,3]]"
   ]
  },
  {
   "cell_type": "code",
   "execution_count": 45,
   "id": "9f3ba5f9-b0a3-4dc6-9fe3-9fde9dcd8807",
   "metadata": {},
   "outputs": [
    {
     "data": {
      "text/plain": [
       "array([[2., 2., 2., 4.],\n",
       "       [3., 3., 6., 7.],\n",
       "       [5., 6., 7., 9.]])"
      ]
     },
     "execution_count": 45,
     "metadata": {},
     "output_type": "execute_result"
    }
   ],
   "source": [
    "B = A[[1,2,3]]\n",
    "B"
   ]
  },
  {
   "cell_type": "code",
   "execution_count": 46,
   "id": "55540af6-3659-49e7-870d-6514474e9839",
   "metadata": {},
   "outputs": [
    {
     "data": {
      "text/plain": [
       "array([[   2., -100.,    2.,    4.],\n",
       "       [   3.,    3.,    6.,    7.],\n",
       "       [   5.,    6.,    7.,    9.]])"
      ]
     },
     "execution_count": 46,
     "metadata": {},
     "output_type": "execute_result"
    }
   ],
   "source": [
    "B[0][1] = -100\n",
    "B"
   ]
  },
  {
   "cell_type": "code",
   "execution_count": 47,
   "id": "654efbe1-44b6-4ccd-ab56-d7a623972b7b",
   "metadata": {},
   "outputs": [
    {
     "data": {
      "text/plain": [
       "array([[ 0.,  1.,  1.,  1.],\n",
       "       [ 2.,  2.,  2.,  4.],\n",
       "       [ 3.,  3.,  6.,  7.],\n",
       "       [ 5.,  6.,  7.,  9.],\n",
       "       [ 6.,  8.,  8., 10.]])"
      ]
     },
     "execution_count": 47,
     "metadata": {},
     "output_type": "execute_result"
    }
   ],
   "source": [
    "A"
   ]
  },
  {
   "cell_type": "code",
   "execution_count": 56,
   "id": "2ccb857a-411e-41c3-b7d4-f570b1e9c3f1",
   "metadata": {},
   "outputs": [
    {
     "data": {
      "text/plain": [
       "array([ 0,  1,  2,  3,  4,  5,  6,  7,  8,  9, 10, 11, 12, 13, 14, 15, 16,\n",
       "       17, 18, 19, 20, 21, 22, 23, 24, 25, 26, 27, 28, 29, 30, 31, 32, 33,\n",
       "       34, 35, 36, 37, 38, 39, 40, 41, 42, 43, 44, 45, 46, 47, 48, 49, 50,\n",
       "       51, 52, 53, 54, 55, 56, 57, 58, 59, 60, 61, 62, 63, 64, 65, 66, 67,\n",
       "       68, 69, 70, 71, 72, 73, 74, 75, 76, 77, 78, 79, 80, 81, 82, 83, 84,\n",
       "       85, 86, 87, 88, 89, 90, 91, 92, 93, 94, 95, 96, 97, 98, 99])"
      ]
     },
     "execution_count": 56,
     "metadata": {},
     "output_type": "execute_result"
    }
   ],
   "source": [
    "A = np.arange(100)\n",
    "A"
   ]
  },
  {
   "cell_type": "code",
   "execution_count": 62,
   "id": "aeb74796-7fd2-4f78-91c9-4d70039762dd",
   "metadata": {},
   "outputs": [],
   "source": [
    "B = A[(A<40) & (A>30)]"
   ]
  },
  {
   "cell_type": "code",
   "execution_count": 63,
   "id": "573eb22c-c170-4137-bd97-f30fd4424840",
   "metadata": {},
   "outputs": [
    {
     "data": {
      "text/plain": [
       "array([31, 32, 33, 34, 35, 36, 37, 38, 39])"
      ]
     },
     "execution_count": 63,
     "metadata": {},
     "output_type": "execute_result"
    }
   ],
   "source": [
    "B"
   ]
  },
  {
   "cell_type": "code",
   "execution_count": 64,
   "id": "3190d697-f32e-479b-9f46-67efc45f3557",
   "metadata": {},
   "outputs": [
    {
     "data": {
      "text/plain": [
       "array([-100,   32,   33,   34,   35,   36,   37,   38,   39])"
      ]
     },
     "execution_count": 64,
     "metadata": {},
     "output_type": "execute_result"
    }
   ],
   "source": [
    "B[0] = -100\n",
    "B"
   ]
  },
  {
   "cell_type": "code",
   "execution_count": 65,
   "id": "2a549884-c15c-418d-952a-bd9bfcb36d4e",
   "metadata": {},
   "outputs": [
    {
     "data": {
      "text/plain": [
       "array([ 0,  1,  2,  3,  4,  5,  6,  7,  8,  9, 10, 11, 12, 13, 14, 15, 16,\n",
       "       17, 18, 19, 20, 21, 22, 23, 24, 25, 26, 27, 28, 29, 30, 31, 32, 33,\n",
       "       34, 35, 36, 37, 38, 39, 40, 41, 42, 43, 44, 45, 46, 47, 48, 49, 50,\n",
       "       51, 52, 53, 54, 55, 56, 57, 58, 59, 60, 61, 62, 63, 64, 65, 66, 67,\n",
       "       68, 69, 70, 71, 72, 73, 74, 75, 76, 77, 78, 79, 80, 81, 82, 83, 84,\n",
       "       85, 86, 87, 88, 89, 90, 91, 92, 93, 94, 95, 96, 97, 98, 99])"
      ]
     },
     "execution_count": 65,
     "metadata": {},
     "output_type": "execute_result"
    }
   ],
   "source": [
    "A"
   ]
  },
  {
   "cell_type": "code",
   "execution_count": 71,
   "id": "f16f62e8-8550-4b1f-826d-4cffbe408629",
   "metadata": {},
   "outputs": [
    {
     "name": "stdout",
     "output_type": "stream",
     "text": [
      "[[0.34189172 0.47007268 0.68727581]\n",
      " [0.48450881 0.61657534 0.38803769]\n",
      " [0.50436821 0.81932564 0.75014816]] \n",
      "\n",
      "[[0.27211205 0.1951166  0.62384452]\n",
      " [0.69611819 0.46788609 0.02404156]\n",
      " [0.22078655 0.31933376 0.28897061]] \n",
      "\n",
      "[[0.61400377 0.66518929 1.31112033]\n",
      " [1.180627   1.08446143 0.41207925]\n",
      " [0.72515476 1.1386594  1.03911876]] \n",
      "\n",
      "[[5.34189172 5.47007268 5.68727581]\n",
      " [5.48450881 5.61657534 5.38803769]\n",
      " [5.50436821 5.81932564 5.75014816]] \n",
      "\n"
     ]
    }
   ],
   "source": [
    "\n",
    "A = np.random.rand(3,3)\n",
    "B = np.random.rand(3,3)\n",
    "C = A + B\n",
    "# Numpy Broadcasting\n",
    "D = A + 5\n",
    "print(A,'\\n')\n",
    "print(B,'\\n')\n",
    "print(C,'\\n')\n",
    "print(D,'\\n')"
   ]
  },
  {
   "cell_type": "markdown",
   "id": "c660492e-a879-466c-ae7e-975891484b1d",
   "metadata": {},
   "source": [
    "# Numpy (hstack, vstack, sort(axis=0))"
   ]
  },
  {
   "cell_type": "code",
   "execution_count": 3,
   "id": "ad852db5-d1b1-4ef3-8223-25aa0dd45313",
   "metadata": {},
   "outputs": [],
   "source": [
    "# hstack concatinates two arrays horizontaly\n",
    "# vstack concatinates two arrays verticaly"
   ]
  },
  {
   "cell_type": "code",
   "execution_count": 7,
   "id": "e42368d2-66f0-407c-967c-8221bb3bbe63",
   "metadata": {},
   "outputs": [
    {
     "data": {
      "text/plain": [
       "array([[8., 7., 8.],\n",
       "       [0., 7., 6.],\n",
       "       [6., 3., 8.]])"
      ]
     },
     "execution_count": 7,
     "metadata": {},
     "output_type": "execute_result"
    }
   ],
   "source": [
    "A = np.round(10*np.random.rand(3,3))\n",
    "A"
   ]
  },
  {
   "cell_type": "code",
   "execution_count": 11,
   "id": "a4145faa-d426-4504-ab5c-328f4c4734ba",
   "metadata": {},
   "outputs": [
    {
     "data": {
      "text/plain": [
       "array([[ 8.,  8., 10.],\n",
       "       [ 3., 11., 11.],\n",
       "       [12., 10., 16.]])"
      ]
     },
     "execution_count": 11,
     "metadata": {},
     "output_type": "execute_result"
    }
   ],
   "source": [
    "A + (np.arange(9).reshape(3,3))"
   ]
  },
  {
   "cell_type": "code",
   "execution_count": 29,
   "id": "53af429e-7ce6-4d38-a7f3-2df6084136c6",
   "metadata": {},
   "outputs": [
    {
     "data": {
      "text/plain": [
       "array([[1.],\n",
       "       [5.],\n",
       "       [5.]])"
      ]
     },
     "execution_count": 29,
     "metadata": {},
     "output_type": "execute_result"
    }
   ],
   "source": [
    "B = np.round(10*np.random.rand(3,1))\n",
    "B"
   ]
  },
  {
   "cell_type": "code",
   "execution_count": 30,
   "id": "c6620e1c-31c6-4026-acae-646a37199ec7",
   "metadata": {},
   "outputs": [
    {
     "name": "stdout",
     "output_type": "stream",
     "text": [
      "[[8. 7. 8.]\n",
      " [0. 7. 6.]\n",
      " [6. 3. 8.]]\n",
      "[[1.]\n",
      " [5.]\n",
      " [5.]]\n",
      "[[8. 7. 8. 1.]\n",
      " [0. 7. 6. 5.]\n",
      " [6. 3. 8. 5.]]\n"
     ]
    }
   ],
   "source": [
    "C = np.hstack((A,B))\n",
    "print(A)\n",
    "print(B)\n",
    "print(C)"
   ]
  },
  {
   "cell_type": "code",
   "execution_count": 32,
   "id": "00db1f55-fa87-49bd-ba1c-b83abccc6b4b",
   "metadata": {},
   "outputs": [
    {
     "name": "stdout",
     "output_type": "stream",
     "text": [
      "[[8. 7. 8.]\n",
      " [0. 7. 6.]\n",
      " [6. 3. 8.]]\n",
      "[[10.  6.  4.]]\n",
      "[[ 8.  7.  8.]\n",
      " [ 0.  7.  6.]\n",
      " [ 6.  3.  8.]\n",
      " [10.  6.  4.]]\n"
     ]
    }
   ],
   "source": [
    "B = np.round(10*np.random.rand(1,3))\n",
    "C = np.vstack((A,B))\n",
    "print(A)\n",
    "print(B)\n",
    "print(C)"
   ]
  },
  {
   "cell_type": "code",
   "execution_count": 33,
   "id": "4e949be5-0e27-4591-858c-307627ca7649",
   "metadata": {},
   "outputs": [
    {
     "data": {
      "text/plain": [
       "array([7, 1, 8, 6, 3, 5, 9, 4, 0, 2])"
      ]
     },
     "execution_count": 33,
     "metadata": {},
     "output_type": "execute_result"
    }
   ],
   "source": [
    "A = np.random.permutation(np.arange(10))\n",
    "A"
   ]
  },
  {
   "cell_type": "code",
   "execution_count": 35,
   "id": "fb24667c-4395-43fe-b50d-3e381148cc94",
   "metadata": {},
   "outputs": [
    {
     "data": {
      "text/plain": [
       "array([0, 1, 2, 3, 4, 5, 6, 7, 8, 9])"
      ]
     },
     "execution_count": 35,
     "metadata": {},
     "output_type": "execute_result"
    }
   ],
   "source": [
    "A.sort()\n",
    "A"
   ]
  },
  {
   "cell_type": "code",
   "execution_count": 36,
   "id": "443d4e54-89f4-4783-b24e-8f6ffcb0ee91",
   "metadata": {},
   "outputs": [
    {
     "data": {
      "text/plain": [
       "array([9, 8, 7, 6, 5, 4, 3, 2, 1, 0])"
      ]
     },
     "execution_count": 36,
     "metadata": {},
     "output_type": "execute_result"
    }
   ],
   "source": [
    "A[::-1]"
   ]
  },
  {
   "cell_type": "markdown",
   "id": "933bbdd7-a08c-4d01-add7-283082b1fafc",
   "metadata": {},
   "source": [
    "# Numpy (Seed: ufuncs)"
   ]
  },
  {
   "cell_type": "code",
   "execution_count": 38,
   "id": "520c36a1-2f97-4814-b6ac-a51a53b5da84",
   "metadata": {},
   "outputs": [],
   "source": [
    "B = np.arange(10000000)"
   ]
  },
  {
   "cell_type": "code",
   "execution_count": 52,
   "id": "fa551186-0529-4382-863f-c7ff42e02e66",
   "metadata": {},
   "outputs": [],
   "source": [
    "def sum(arg):\n",
    "    s = 0\n",
    "    for num in arg:\n",
    "        s+=num"
   ]
  },
  {
   "cell_type": "code",
   "execution_count": 53,
   "id": "1a6ba59a-83ad-4f03-bb37-a44a3330da5a",
   "metadata": {},
   "outputs": [
    {
     "name": "stdout",
     "output_type": "stream",
     "text": [
      "450 ms ± 8.96 ms per loop (mean ± std. dev. of 7 runs, 1 loop each)\n"
     ]
    }
   ],
   "source": [
    "%timeit sum(B)"
   ]
  },
  {
   "cell_type": "code",
   "execution_count": 54,
   "id": "f6c72325-73bb-4240-93d3-fdf4680a7f50",
   "metadata": {},
   "outputs": [
    {
     "name": "stdout",
     "output_type": "stream",
     "text": [
      "3.74 ms ± 190 µs per loop (mean ± std. dev. of 7 runs, 100 loops each)\n"
     ]
    }
   ],
   "source": [
    "%timeit np.sum(B)"
   ]
  }
 ],
 "metadata": {
  "kernelspec": {
   "display_name": "Python 3 (ipykernel)",
   "language": "python",
   "name": "python3"
  },
  "language_info": {
   "codemirror_mode": {
    "name": "ipython",
    "version": 3
   },
   "file_extension": ".py",
   "mimetype": "text/x-python",
   "name": "python",
   "nbconvert_exporter": "python",
   "pygments_lexer": "ipython3",
   "version": "3.10.12"
  }
 },
 "nbformat": 4,
 "nbformat_minor": 5
}
