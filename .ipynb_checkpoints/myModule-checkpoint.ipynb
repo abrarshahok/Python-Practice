{
 "cells": [
  {
   "cell_type": "code",
   "execution_count": null,
   "id": "5a6f10aa-2821-4c6c-a8e1-ccff116fbe9c",
   "metadata": {},
   "outputs": [],
   "source": [
    "def printValues(**args):\n",
    "    for i in args:\n",
    "        print(i,args[i])"
   ]
  },
  {
   "cell_type": "code",
   "execution_count": null,
   "id": "c1af26b3-ad4a-4bec-8f74-e38b88d7e3eb",
   "metadata": {},
   "outputs": [],
   "source": [
    "def addNums(*args):\n",
    "    sum = 0\n",
    "    for num in args:\n",
    "        sum += num;\n",
    "    return sum"
   ]
  },
  {
   "cell_type": "code",
   "execution_count": null,
   "id": "3e5dca31-b637-45bf-aec4-b23f2f38d1af",
   "metadata": {},
   "outputs": [],
   "source": [
    "def sortList(lis):\n",
    "    size = len(lis)\n",
    "    for i in range(size):\n",
    "        for j in range(size-1):\n",
    "            if(lis[i] < lis[j]):\n",
    "                temp = lis[i]\n",
    "                lis[i] = lis[j]\n",
    "                lis[j] = temp\n",
    "    return lis"
   ]
  }
 ],
 "metadata": {
  "kernelspec": {
   "display_name": "Python 3 (ipykernel)",
   "language": "python",
   "name": "python3"
  },
  "language_info": {
   "codemirror_mode": {
    "name": "ipython",
    "version": 3
   },
   "file_extension": ".py",
   "mimetype": "text/x-python",
   "name": "python",
   "nbconvert_exporter": "python",
   "pygments_lexer": "ipython3",
   "version": "3.10.12"
  }
 },
 "nbformat": 4,
 "nbformat_minor": 5
}
