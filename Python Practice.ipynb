{
 "cells": [
  {
   "cell_type": "code",
   "execution_count": 1,
   "id": "36e35688-78ae-4783-a841-cdb2c368875e",
   "metadata": {},
   "outputs": [
    {
     "data": {
      "text/plain": [
       "120"
      ]
     },
     "execution_count": 1,
     "metadata": {},
     "output_type": "execute_result"
    }
   ],
   "source": [
    "def fact(n):\n",
    "    if(n<2): \n",
    "        return 1\n",
    "    else:    \n",
    "        return n*fact(n-1)\n",
    "\n",
    "fact(5)"
   ]
  },
  {
   "cell_type": "code",
   "execution_count": 12,
   "id": "f658fbfd-93b7-40bf-b723-2445d03a6f02",
   "metadata": {},
   "outputs": [
    {
     "name": "stdout",
     "output_type": "stream",
     "text": [
      "Variable   Type        Data/Info\n",
      "--------------------------------\n",
      "fact       function    <function fact at 0x7f0c6c4f89d0>\n",
      "x          int         5\n",
      "y          float       5.5\n",
      "z          str         Men\n"
     ]
    }
   ],
   "source": [
    "%whos"
   ]
  },
  {
   "cell_type": "code",
   "execution_count": 38,
   "id": "235e4437-3b1f-446d-b197-4ab0371c09ec",
   "metadata": {},
   "outputs": [
    {
     "name": "stdout",
     "output_type": "stream",
     "text": [
      "<class 'int'>\n",
      "<class 'int'>\n",
      "<class 'str'>\n"
     ]
    }
   ],
   "source": [
    "x = 5\n",
    "y = 5.5\n",
    "z = \"Men\"\n",
    "print(type(x))\n",
    "print(type(y))\n",
    "print(type(z))"
   ]
  },
  {
   "cell_type": "code",
   "execution_count": 13,
   "id": "464465b2-ec65-4530-ae44-e1923a64b149",
   "metadata": {},
   "outputs": [
    {
     "name": "stdout",
     "output_type": "stream",
     "text": [
      "Variable   Type        Data/Info\n",
      "--------------------------------\n",
      "fact       function    <function fact at 0x7f0c6c4f89d0>\n",
      "x          int         5\n",
      "y          float       5.5\n",
      "z          str         Men\n"
     ]
    }
   ],
   "source": [
    "%whos"
   ]
  },
  {
   "cell_type": "code",
   "execution_count": 15,
   "id": "2362a353-773e-456d-a3bb-fcf7dfaaa608",
   "metadata": {},
   "outputs": [
    {
     "name": "stdout",
     "output_type": "stream",
     "text": [
      "125\n"
     ]
    }
   ],
   "source": [
    "x**3"
   ]
  },
  {
   "cell_type": "code",
   "execution_count": 16,
   "id": "de665c60-dc16-4bfc-91ca-e893c5161c4e",
   "metadata": {},
   "outputs": [
    {
     "name": "stdout",
     "output_type": "stream",
     "text": [
      "1.1\n"
     ]
    }
   ],
   "source": [
    "y/x"
   ]
  },
  {
   "cell_type": "code",
   "execution_count": 18,
   "id": "3f0e6975-b9b9-44ba-88c3-97676f2eb354",
   "metadata": {},
   "outputs": [
    {
     "data": {
      "text/plain": [
       "1.0"
      ]
     },
     "execution_count": 18,
     "metadata": {},
     "output_type": "execute_result"
    }
   ],
   "source": [
    "y//x"
   ]
  },
  {
   "cell_type": "code",
   "execution_count": 26,
   "id": "23aa4f33-dace-4282-8baf-25011f49bd06",
   "metadata": {},
   "outputs": [],
   "source": [
    "a = True\n",
    "b = False\n",
    "c = a and b\n",
    "d = a or b\n",
    "e = not(b or c)"
   ]
  },
  {
   "cell_type": "code",
   "execution_count": 27,
   "id": "02415e51-1f29-4cb4-b210-7744358362a2",
   "metadata": {},
   "outputs": [
    {
     "name": "stdout",
     "output_type": "stream",
     "text": [
      "Variable   Type        Data/Info\n",
      "--------------------------------\n",
      "a          bool        True\n",
      "b          bool        False\n",
      "c          bool        False\n",
      "d          bool        True\n",
      "e          bool        True\n",
      "fact       function    <function fact at 0x7f0c6c158c10>\n",
      "x          int         5\n",
      "y          float       5.5\n",
      "z          str         Men\n"
     ]
    }
   ],
   "source": [
    "%whos"
   ]
  },
  {
   "cell_type": "code",
   "execution_count": 32,
   "id": "a22b0a3a-81ce-4796-acae-3a5054a0e43e",
   "metadata": {},
   "outputs": [
    {
     "name": "stdout",
     "output_type": "stream",
     "text": [
      "You are eligible to vote\n"
     ]
    }
   ],
   "source": [
    "age = 17\n",
    "if(age>=18):\n",
    "    print('You are eligible to vote')\n",
    "else:\n",
    "    print('You are not eligible to vote')"
   ]
  },
  {
   "cell_type": "code",
   "execution_count": 49,
   "id": "c6bd54db-d77b-405f-8e3d-087d80168a60",
   "metadata": {},
   "outputs": [
    {
     "data": {
      "text/plain": [
       "(5, 2)"
      ]
     },
     "execution_count": 49,
     "metadata": {},
     "output_type": "execute_result"
    }
   ],
   "source": [
    "G = divmod(27,5)\n",
    "G"
   ]
  },
  {
   "cell_type": "code",
   "execution_count": 47,
   "id": "c685f44f-af14-4ee6-bf16-70e836b892e4",
   "metadata": {},
   "outputs": [
    {
     "data": {
      "text/plain": [
       "tuple"
      ]
     },
     "execution_count": 47,
     "metadata": {},
     "output_type": "execute_result"
    }
   ],
   "source": [
    "type(G)"
   ]
  },
  {
   "cell_type": "code",
   "execution_count": 53,
   "id": "57906485-9cfb-45c6-99ee-9ad37ff14e75",
   "metadata": {},
   "outputs": [
    {
     "data": {
      "text/plain": [
       "True"
      ]
     },
     "execution_count": 53,
     "metadata": {},
     "output_type": "execute_result"
    }
   ],
   "source": [
    "isinstance(2+3j,(float,int,str,complex))"
   ]
  },
  {
   "cell_type": "code",
   "execution_count": 54,
   "id": "039d3f38-b262-4ab9-9c1a-be6181652bd2",
   "metadata": {},
   "outputs": [
    {
     "data": {
      "text/plain": [
       "8"
      ]
     },
     "execution_count": 54,
     "metadata": {},
     "output_type": "execute_result"
    }
   ],
   "source": [
    "pow(2,3)"
   ]
  },
  {
   "cell_type": "code",
   "execution_count": 56,
   "id": "47d58f3a-5b01-4ab8-a0fb-04f042d2612f",
   "metadata": {},
   "outputs": [
    {
     "data": {
      "text/plain": [
       "2"
      ]
     },
     "execution_count": 56,
     "metadata": {},
     "output_type": "execute_result"
    }
   ],
   "source": [
    "# Calculates power and pow%3\n",
    "pow(2,3,3) "
   ]
  },
  {
   "cell_type": "code",
   "execution_count": 58,
   "id": "58488141-682e-4cee-ba79-db1ea4fb0aec",
   "metadata": {},
   "outputs": [
    {
     "name": "stdin",
     "output_type": "stream",
     "text": [
      "Enter your name:  Abrar\n"
     ]
    },
    {
     "name": "stdout",
     "output_type": "stream",
     "text": [
      "Abrar\n"
     ]
    }
   ],
   "source": [
    "name = input(\"Enter your name: \")\n",
    "print(name)"
   ]
  },
  {
   "cell_type": "code",
   "execution_count": 64,
   "id": "7c056c17-8f3d-4124-913d-6ff5da2295cc",
   "metadata": {},
   "outputs": [
    {
     "name": "stdin",
     "output_type": "stream",
     "text": [
      "Enter first number:  5\n",
      "Enter second number:  2\n"
     ]
    },
    {
     "name": "stdout",
     "output_type": "stream",
     "text": [
      "5\n"
     ]
    }
   ],
   "source": [
    "num1 = int(input(\"Enter first number: \"))\n",
    "num2 = int(input(\"Enter second number: \"))\n",
    "if(num1>num2):\n",
    "    print(num1)\n",
    "else:\n",
    "    print(num2)"
   ]
  },
  {
   "cell_type": "code",
   "execution_count": 69,
   "id": "32b5188d-f873-4104-8b9a-c88700f665eb",
   "metadata": {},
   "outputs": [
    {
     "name": "stdin",
     "output_type": "stream",
     "text": [
      "Enter number:  5\n"
     ]
    },
    {
     "name": "stdout",
     "output_type": "stream",
     "text": [
      "1\n",
      "2\n",
      "3\n",
      "4\n",
      "5\n"
     ]
    }
   ],
   "source": [
    "num = int(input(\"Enter number: \"))\n",
    "i = 1\n",
    "while i <= num:\n",
    "    print(i)\n",
    "    i = i+1;"
   ]
  },
  {
   "cell_type": "code",
   "execution_count": 76,
   "id": "2b000574-f0c8-4389-ae3e-01037cc61b8e",
   "metadata": {},
   "outputs": [
    {
     "name": "stdout",
     "output_type": "stream",
     "text": [
      "[0, 2, 4, 6, 8, 10, 12, 14, 16, 18]\n"
     ]
    }
   ],
   "source": [
    "l = []\n",
    "for i in range(0,20,2):\n",
    "    l.append(i)\n",
    "print(l)    "
   ]
  },
  {
   "cell_type": "code",
   "execution_count": 86,
   "id": "03533f85-204a-426b-9a14-df593184d42e",
   "metadata": {},
   "outputs": [
    {
     "name": "stdout",
     "output_type": "stream",
     "text": [
      "abrar\n",
      "25\n",
      "hala\n",
      "Loop ended!\n"
     ]
    }
   ],
   "source": [
    "S = {\"abrar\",25,\"hala\"}\n",
    "for x in S:\n",
    "    print(x)\n",
    "else:\n",
    "    print(\"Loop ended!\")"
   ]
  },
  {
   "cell_type": "code",
   "execution_count": 88,
   "id": "5d651023-277a-4371-8596-1d0c30873a6d",
   "metadata": {},
   "outputs": [
    {
     "name": "stdout",
     "output_type": "stream",
     "text": [
      "name abrar\n",
      "age 20\n",
      "dept CS\n",
      "Loop ended!\n"
     ]
    }
   ],
   "source": [
    "dic = {'name':'abrar','age':20,'dept':'CS'}\n",
    "for key in dic:\n",
    "    print(key,dic[key])\n",
    "else:\n",
    "    print(\"Loop ended!\")"
   ]
  },
  {
   "cell_type": "code",
   "execution_count": 104,
   "id": "27069860-66f8-4db6-934c-7149d40c24c6",
   "metadata": {},
   "outputs": [
    {
     "name": "stdout",
     "output_type": "stream",
     "text": [
      "[-5, 1, 2, 2, 3, 4, 7, 9]\n"
     ]
    }
   ],
   "source": [
    "def sortList(lis):\n",
    "    size = len(lis)\n",
    "    for i in range(size):\n",
    "        for j in range(size-1):\n",
    "            if(lis[i] < lis[j]):\n",
    "                temp = lis[i]\n",
    "                lis[i] = lis[j]\n",
    "                lis[j] = temp\n",
    "    return lis\n",
    "\n",
    "lis = [1,2,4,-5,7,9,3,2]\n",
    "print(sortList(lis))"
   ]
  },
  {
   "cell_type": "code",
   "execution_count": 111,
   "id": "afac4baa-f67f-4cdf-bfbc-5801c69162a8",
   "metadata": {},
   "outputs": [
    {
     "name": "stdout",
     "output_type": "stream",
     "text": [
      "10\n"
     ]
    }
   ],
   "source": [
    "def addNums(*args):\n",
    "    sum = 0\n",
    "    for num in args:\n",
    "        sum += num;\n",
    "    return sum\n",
    "\n",
    "print(addNums(1,2,3,4))"
   ]
  },
  {
   "cell_type": "code",
   "execution_count": 115,
   "id": "7f9b8767-bc9f-4fe1-9b50-f78fe51efad2",
   "metadata": {},
   "outputs": [
    {
     "name": "stdout",
     "output_type": "stream",
     "text": [
      "a 1\n",
      "b 2\n",
      "c 3\n",
      "d 4\n"
     ]
    }
   ],
   "source": [
    "def printValues(**args):\n",
    "    for i in args:\n",
    "        print(i,args[i])\n",
    "\n",
    "printValues(a = 1,b = 2,c = 3,d = 4)"
   ]
  },
  {
   "cell_type": "code",
   "execution_count": 2,
   "id": "de36e005-9c00-41d9-b908-3573c5c0864d",
   "metadata": {},
   "outputs": [],
   "source": [
    "import sys\n",
    "sys.path.append(\"/home/abrar/Python Practice/\")"
   ]
  },
  {
   "cell_type": "code",
   "execution_count": 5,
   "id": "7de42ccf-3c6b-4e47-887c-ecf8420c1a43",
   "metadata": {},
   "outputs": [
    {
     "name": "stdout",
     "output_type": "stream",
     "text": [
      "10\n",
      "a 1\n",
      "b 2\n",
      "c 3\n",
      "d 4\n",
      "[-5, 1, 2, 2, 3, 4, 7, 9]\n"
     ]
    }
   ],
   "source": [
    "import myModule as module\n",
    "\n",
    "print(module.addNums(1,2,3,4))\n",
    "\n",
    "module.printValues(a = 1,b = 2,c = 3,d = 4)\n",
    "\n",
    "print(module.sortList([1,2,4,-5,7,9,3,2]))"
   ]
  },
  {
   "cell_type": "code",
   "execution_count": 25,
   "id": "470441cf-aa36-470e-bc05-19ae0771753a",
   "metadata": {},
   "outputs": [
    {
     "data": {
      "text/plain": [
       "'demhA rarbA'"
      ]
     },
     "execution_count": 25,
     "metadata": {},
     "output_type": "execute_result"
    }
   ],
   "source": [
    "a = 'Abrar Ahmed'\n",
    "# a[-11:-6]\n",
    "# a[0:11:2]\n",
    "# a[6:]\n",
    "# a[:5]\n",
    "a[::-1]"
   ]
  },
  {
   "cell_type": "code",
   "execution_count": 26,
   "id": "8674e148-15f9-469b-8c61-08b621efffc2",
   "metadata": {},
   "outputs": [
    {
     "data": {
      "text/plain": [
       "'This is a String'"
      ]
     },
     "execution_count": 26,
     "metadata": {},
     "output_type": "execute_result"
    }
   ],
   "source": [
    "s = '   This is a String   '\n",
    "s.strip()"
   ]
  },
  {
   "cell_type": "code",
   "execution_count": 28,
   "id": "0c94c048-0272-4b41-9a46-3d1909658304",
   "metadata": {},
   "outputs": [
    {
     "data": {
      "text/plain": [
       "['', '', '', 'This', 'is', 'a', 'String', '', '', '']"
      ]
     },
     "execution_count": 28,
     "metadata": {},
     "output_type": "execute_result"
    }
   ],
   "source": [
    "s.split(' ')"
   ]
  },
  {
   "cell_type": "code",
   "execution_count": 29,
   "id": "8ce707b8-d3e4-49be-a801-a4af7f42de3f",
   "metadata": {},
   "outputs": [
    {
     "data": {
      "text/plain": [
       "'   THIS IS A STRING   '"
      ]
     },
     "execution_count": 29,
     "metadata": {},
     "output_type": "execute_result"
    }
   ],
   "source": [
    "s.upper()"
   ]
  },
  {
   "cell_type": "code",
   "execution_count": 30,
   "id": "9f30c964-2433-47ea-9a6c-951af4a0b46f",
   "metadata": {},
   "outputs": [
    {
     "data": {
      "text/plain": [
       "'   this is a string   '"
      ]
     },
     "execution_count": 30,
     "metadata": {},
     "output_type": "execute_result"
    }
   ],
   "source": [
    "s.lower()"
   ]
  },
  {
   "cell_type": "code",
   "execution_count": 31,
   "id": "cc96e615-d200-49ec-83ba-b91b1372630a",
   "metadata": {},
   "outputs": [
    {
     "data": {
      "text/plain": [
       "'this is a string'"
      ]
     },
     "execution_count": 31,
     "metadata": {},
     "output_type": "execute_result"
    }
   ],
   "source": [
    "s.strip().lower()"
   ]
  },
  {
   "cell_type": "code",
   "execution_count": 32,
   "id": "174574d1-4c3f-4ad0-bb59-ab816442d533",
   "metadata": {},
   "outputs": [
    {
     "data": {
      "text/plain": [
       "'THIS IS A STRING'"
      ]
     },
     "execution_count": 32,
     "metadata": {},
     "output_type": "execute_result"
    }
   ],
   "source": [
    "s.strip().upper()"
   ]
  },
  {
   "cell_type": "code",
   "execution_count": 35,
   "id": "1a64e711-79a9-4f51-b764-51fc8c2f08f6",
   "metadata": {},
   "outputs": [
    {
     "data": {
      "text/plain": [
       "'   This is a New String   '"
      ]
     },
     "execution_count": 35,
     "metadata": {},
     "output_type": "execute_result"
    }
   ],
   "source": [
    "s.replace('String','New String')"
   ]
  },
  {
   "cell_type": "markdown",
   "id": "70eb8686-db59-4225-91b1-91f32332e6ef",
   "metadata": {},
   "source": [
    "# Data Structures"
   ]
  },
  {
   "cell_type": "code",
   "execution_count": 55,
   "id": "f9a6c2a7-d679-4493-81c1-61afa0ff12a4",
   "metadata": {},
   "outputs": [],
   "source": [
    "L = [1,2,3,'abrar']\n",
    "S = {1,2,2,3,4,5,5,'ab','ab'}\n",
    "T = (1,2,2,3,'ab','ab')\n",
    "D = {1:'One',2:'Two',3:'Three'}"
   ]
  },
  {
   "cell_type": "code",
   "execution_count": 57,
   "id": "32e6051d-4a96-4f99-9928-d46b2843214e",
   "metadata": {},
   "outputs": [
    {
     "name": "stdout",
     "output_type": "stream",
     "text": [
      "Type of L <class 'list'> \tValues:  [1, 2, 3, 'abrar']\n",
      "Type of S <class 'set'> \tValues:  {1, 2, 3, 4, 5, 'ab'}\n",
      "Type of T <class 'tuple'> \tValues:  (1, 2, 2, 3, 'ab', 'ab')\n",
      "Type of D <class 'dict'> \tValues:  {1: 'One', 2: 'Two', 3: 'Three'}\n"
     ]
    }
   ],
   "source": [
    "print('Type of L',type(L),'\\tValues: ',L)\n",
    "print('Type of S',type(S),'\\tValues: ',S)\n",
    "print('Type of T',type(T),'\\tValues: ',T)\n",
    "print('Type of D',type(D),'\\tValues: ',D)"
   ]
  },
  {
   "cell_type": "code",
   "execution_count": 58,
   "id": "9a8488a6-7a48-495b-ba35-29b27eae2453",
   "metadata": {},
   "outputs": [
    {
     "name": "stdout",
     "output_type": "stream",
     "text": [
      "2\n",
      "2\n",
      "One\n",
      "True\n"
     ]
    }
   ],
   "source": [
    "print(L[1])\n",
    "print(T[1])\n",
    "print(D[1])\n",
    "print(1 in S)"
   ]
  },
  {
   "cell_type": "code",
   "execution_count": 65,
   "id": "1df3ae11-f631-404d-8e9b-dacdfd3e78b6",
   "metadata": {},
   "outputs": [
    {
     "name": "stdout",
     "output_type": "stream",
     "text": [
      "abrar\n",
      "[2, 3, 'abrar']\n",
      "ab\n",
      "(1, 2)\n"
     ]
    }
   ],
   "source": [
    "print(L[-1])\n",
    "print(L[1:])\n",
    "print(T[-2])\n",
    "print(T[:2])"
   ]
  },
  {
   "cell_type": "code",
   "execution_count": 78,
   "id": "49df90fe-7914-49d0-bfa6-6a475a23b525",
   "metadata": {},
   "outputs": [],
   "source": [
    "L += ['extra1','extra2'] \n",
    "L.append('extra3')\n",
    "L"
   ]
  },
  {
   "cell_type": "code",
   "execution_count": 80,
   "id": "a13c9d5f-1a57-4f67-8702-6afedb37917b",
   "metadata": {},
   "outputs": [
    {
     "data": {
      "text/plain": [
       "(1, 2, 2, 3, 'ab', 'ab', 1, 2, 6)"
      ]
     },
     "execution_count": 80,
     "metadata": {},
     "output_type": "execute_result"
    }
   ],
   "source": [
    "# Tuple is immutable\n",
    "T2 = (1,2,6)\n",
    "T3 = T + T2\n",
    "T3 "
   ]
  },
  {
   "cell_type": "code",
   "execution_count": 81,
   "id": "473281f6-05cd-4943-af0c-3e3e31a8f2e3",
   "metadata": {},
   "outputs": [
    {
     "data": {
      "text/plain": [
       "{1, 2, 3, 4, 5, 'ab', 'abrar'}"
      ]
     },
     "execution_count": 81,
     "metadata": {},
     "output_type": "execute_result"
    }
   ],
   "source": [
    "S.add('abrar')\n",
    "S"
   ]
  },
  {
   "cell_type": "code",
   "execution_count": 82,
   "id": "15830aa9-ba4e-4541-9314-2c26ac7c4506",
   "metadata": {},
   "outputs": [
    {
     "data": {
      "text/plain": [
       "{1, 2, 3, 4, 5, 'a', 'ab', 'abrar', 'b', 'c'}"
      ]
     },
     "execution_count": 82,
     "metadata": {},
     "output_type": "execute_result"
    }
   ],
   "source": [
    "S.update({'a','b','c'})\n",
    "S"
   ]
  },
  {
   "cell_type": "code",
   "execution_count": 87,
   "id": "7294226e-14db-45c0-bb01-9b8382c8c1b2",
   "metadata": {},
   "outputs": [
    {
     "data": {
      "text/plain": [
       "{2: 'Two', 3: 'Three', 4: 'Four'}"
      ]
     },
     "execution_count": 87,
     "metadata": {},
     "output_type": "execute_result"
    }
   ],
   "source": [
    "D[4] = 'Four'\n",
    "del D[1]\n",
    "D"
   ]
  },
  {
   "cell_type": "code",
   "execution_count": 88,
   "id": "12c396cf-401b-49de-8830-80dd61cd2e7a",
   "metadata": {},
   "outputs": [
    {
     "data": {
      "text/plain": [
       "{2: 'Two', 3: 'Three', 4: 'Four', 1: 'One Again'}"
      ]
     },
     "execution_count": 88,
     "metadata": {},
     "output_type": "execute_result"
    }
   ],
   "source": [
    "D.update({1:'One Again'})\n",
    "D"
   ]
  },
  {
   "cell_type": "code",
   "execution_count": 89,
   "id": "a0ebb01b-73f1-49be-9cea-6929f3246318",
   "metadata": {},
   "outputs": [
    {
     "data": {
      "text/plain": [
       "{2: 'Two', 3: 'Three', 4: 'Four', 1: 'One Again'}"
      ]
     },
     "execution_count": 89,
     "metadata": {},
     "output_type": "execute_result"
    }
   ],
   "source": [
    "D2 = D.copy()\n",
    "D2"
   ]
  },
  {
   "cell_type": "code",
   "execution_count": 93,
   "id": "bd4757d8-0911-4c43-9598-8a80b2df56a0",
   "metadata": {},
   "outputs": [
    {
     "data": {
      "text/plain": [
       "[0, 1, 4, 9, 16, 25, 36, 49, 64, 81, 100]"
      ]
     },
     "execution_count": 93,
     "metadata": {},
     "output_type": "execute_result"
    }
   ],
   "source": [
    "X = [x**2 for x in range(11)]\n",
    "X"
   ]
  },
  {
   "cell_type": "code",
   "execution_count": 94,
   "id": "a740c281-028b-4406-8cf5-2e9de57282e9",
   "metadata": {},
   "outputs": [
    {
     "data": {
      "text/plain": [
       "{0, 1, 4, 9, 16, 25, 36, 49, 64, 81, 100}"
      ]
     },
     "execution_count": 94,
     "metadata": {},
     "output_type": "execute_result"
    }
   ],
   "source": [
    "S2 = {x**2 for x in range(11)}\n",
    "S2"
   ]
  },
  {
   "cell_type": "code",
   "execution_count": 96,
   "id": "08da9a4b-804b-486d-b4f4-0775d65859e0",
   "metadata": {},
   "outputs": [
    {
     "name": "stdin",
     "output_type": "stream",
     "text": [
      "Enter Your Name:  Abrar\n",
      "Enter Your Roll No:  21bscs20\n",
      "Enter Your Name:  Faizan\n",
      "Enter Your Roll No:  21bscs27\n",
      "Enter Your Name:  Farhad\n",
      "Enter Your Roll No:  21bscs34\n",
      "Enter Your Name:  Taha\n",
      "Enter Your Roll No:  21bscs22\n",
      "Enter Your Name:  Shoaib\n",
      "Enter Your Roll No:  21bscs37\n"
     ]
    },
    {
     "data": {
      "text/plain": [
       "{1: {'Name': 'Abrar', 'Roll No': '21bscs20'},\n",
       " 2: {'Name': 'Faizan', 'Roll No': '21bscs27'},\n",
       " 3: {'Name': 'Farhad', 'Roll No': '21bscs34'},\n",
       " 4: {'Name': 'Taha', 'Roll No': '21bscs22'},\n",
       " 5: {'Name': 'Shoaib', 'Roll No': '21bscs37'}}"
      ]
     },
     "execution_count": 96,
     "metadata": {},
     "output_type": "execute_result"
    }
   ],
   "source": [
    "D3 = {}\n",
    "def getStudentsData():\n",
    "    for i in range (5):\n",
    "        name = input('Enter Your Name: ')\n",
    "        rollNo = input('Enter Your Roll No: ')\n",
    "        D3[i+1] = {'Name':name,'Roll No':rollNo}\n",
    "\n",
    "getStudentsData()\n",
    "D3"
   ]
  },
  {
   "cell_type": "code",
   "execution_count": 101,
   "id": "43861df0-61d6-4c5c-9481-3042631445b1",
   "metadata": {},
   "outputs": [
    {
     "data": {
      "text/plain": [
       "{1: 68.0, 2: 64.33333333333333, 3: 75.33333333333333}"
      ]
     },
     "execution_count": 101,
     "metadata": {},
     "output_type": "execute_result"
    }
   ],
   "source": [
    "D4 = {1:[53,84,67],\n",
    "     2:[72,64,57], \n",
    "     3:[75,54,97],}\n",
    "\n",
    "D5 = {}\n",
    "\n",
    "def getAverageMarks():\n",
    "    for i in D4:\n",
    "        sum = 0\n",
    "        marks = D4[i]\n",
    "        size = len(marks)\n",
    "        for score in marks:\n",
    "            sum+=score\n",
    "        D5[i] = sum/size\n",
    "        \n",
    "getAverageMarks()\n",
    "\n",
    "D5"
   ]
  },
  {
   "cell_type": "code",
   "execution_count": null,
   "id": "a21e74fe-3265-4195-ba4b-03d4bf94d646",
   "metadata": {},
   "outputs": [],
   "source": []
  }
 ],
 "metadata": {
  "kernelspec": {
   "display_name": "Python 3 (ipykernel)",
   "language": "python",
   "name": "python3"
  },
  "language_info": {
   "codemirror_mode": {
    "name": "ipython",
    "version": 3
   },
   "file_extension": ".py",
   "mimetype": "text/x-python",
   "name": "python",
   "nbconvert_exporter": "python",
   "pygments_lexer": "ipython3",
   "version": "3.10.12"
  }
 },
 "nbformat": 4,
 "nbformat_minor": 5
}
