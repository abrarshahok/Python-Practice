{
 "cells": [
  {
   "cell_type": "markdown",
   "id": "8f08640e-4996-431f-9338-84ce5331be5f",
   "metadata": {},
   "source": [
    "# Exploratory Data Analysis (EDA)"
   ]
  },
  {
   "cell_type": "code",
   "execution_count": 1,
   "id": "e65af64e-db92-43e0-a2e1-9a174538019f",
   "metadata": {},
   "outputs": [],
   "source": [
    "import numpy as np\n",
    "import pandas as pd\n",
    "import matplotlib.pyplot as plt"
   ]
  },
  {
   "cell_type": "code",
   "execution_count": 2,
   "id": "ded223ae-7f2b-4886-a057-d46b8e806b9d",
   "metadata": {},
   "outputs": [],
   "source": [
    "df = pd.read_csv('../Data/Churn_Modelling.csv')"
   ]
  },
  {
   "cell_type": "code",
   "execution_count": 63,
   "id": "5e3eee20-7744-4412-9abf-10002f78379e",
   "metadata": {},
   "outputs": [],
   "source": [
    "# Manually Making Values Null / NaN\n",
    "df.loc[0:50, 'Gender'] = np.nan\n",
    "df['Age'] = df['Age'].where(df['Age'] < 70, np.nan)"
   ]
  },
  {
   "cell_type": "code",
   "execution_count": 64,
   "id": "17dc943f-b86d-400c-af77-37713a2bdbf1",
   "metadata": {},
   "outputs": [
    {
     "name": "stdout",
     "output_type": "stream",
     "text": [
      "<class 'pandas.core.frame.DataFrame'>\n",
      "RangeIndex: 10000 entries, 0 to 9999\n",
      "Data columns (total 14 columns):\n",
      " #   Column           Non-Null Count  Dtype  \n",
      "---  ------           --------------  -----  \n",
      " 0   RowNumber        10000 non-null  int64  \n",
      " 1   CustomerId       10000 non-null  int64  \n",
      " 2   Surname          10000 non-null  object \n",
      " 3   CreditScore      10000 non-null  int64  \n",
      " 4   Geography        10000 non-null  object \n",
      " 5   Gender           9949 non-null   object \n",
      " 6   Age              9849 non-null   float64\n",
      " 7   Tenure           10000 non-null  int64  \n",
      " 8   Balance          10000 non-null  float64\n",
      " 9   NumOfProducts    10000 non-null  int64  \n",
      " 10  HasCrCard        10000 non-null  int64  \n",
      " 11  IsActiveMember   10000 non-null  int64  \n",
      " 12  EstimatedSalary  10000 non-null  float64\n",
      " 13  Exited           10000 non-null  int64  \n",
      "dtypes: float64(3), int64(8), object(3)\n",
      "memory usage: 1.1+ MB\n"
     ]
    }
   ],
   "source": [
    "df.info()"
   ]
  },
  {
   "cell_type": "code",
   "execution_count": 65,
   "id": "449b1ce4-5f47-4737-bc0c-6be0224b6966",
   "metadata": {},
   "outputs": [
    {
     "data": {
      "text/html": [
       "<div>\n",
       "<style scoped>\n",
       "    .dataframe tbody tr th:only-of-type {\n",
       "        vertical-align: middle;\n",
       "    }\n",
       "\n",
       "    .dataframe tbody tr th {\n",
       "        vertical-align: top;\n",
       "    }\n",
       "\n",
       "    .dataframe thead th {\n",
       "        text-align: right;\n",
       "    }\n",
       "</style>\n",
       "<table border=\"1\" class=\"dataframe\">\n",
       "  <thead>\n",
       "    <tr style=\"text-align: right;\">\n",
       "      <th></th>\n",
       "      <th>RowNumber</th>\n",
       "      <th>CustomerId</th>\n",
       "      <th>CreditScore</th>\n",
       "      <th>Age</th>\n",
       "      <th>Tenure</th>\n",
       "      <th>Balance</th>\n",
       "      <th>NumOfProducts</th>\n",
       "      <th>HasCrCard</th>\n",
       "      <th>IsActiveMember</th>\n",
       "      <th>EstimatedSalary</th>\n",
       "      <th>Exited</th>\n",
       "    </tr>\n",
       "  </thead>\n",
       "  <tbody>\n",
       "    <tr>\n",
       "      <th>count</th>\n",
       "      <td>10000.00000</td>\n",
       "      <td>1.000000e+04</td>\n",
       "      <td>10000.000000</td>\n",
       "      <td>9849.000000</td>\n",
       "      <td>10000.000000</td>\n",
       "      <td>10000.000000</td>\n",
       "      <td>10000.000000</td>\n",
       "      <td>10000.00000</td>\n",
       "      <td>10000.000000</td>\n",
       "      <td>10000.000000</td>\n",
       "      <td>10000.000000</td>\n",
       "    </tr>\n",
       "    <tr>\n",
       "      <th>mean</th>\n",
       "      <td>5000.50000</td>\n",
       "      <td>1.569094e+07</td>\n",
       "      <td>650.528800</td>\n",
       "      <td>38.380242</td>\n",
       "      <td>5.012800</td>\n",
       "      <td>76485.889288</td>\n",
       "      <td>1.530200</td>\n",
       "      <td>0.70550</td>\n",
       "      <td>0.515100</td>\n",
       "      <td>100090.239881</td>\n",
       "      <td>0.203700</td>\n",
       "    </tr>\n",
       "    <tr>\n",
       "      <th>std</th>\n",
       "      <td>2886.89568</td>\n",
       "      <td>7.193619e+04</td>\n",
       "      <td>96.653299</td>\n",
       "      <td>9.591467</td>\n",
       "      <td>2.892174</td>\n",
       "      <td>62397.405202</td>\n",
       "      <td>0.581654</td>\n",
       "      <td>0.45584</td>\n",
       "      <td>0.499797</td>\n",
       "      <td>57510.492818</td>\n",
       "      <td>0.402769</td>\n",
       "    </tr>\n",
       "    <tr>\n",
       "      <th>min</th>\n",
       "      <td>1.00000</td>\n",
       "      <td>1.556570e+07</td>\n",
       "      <td>350.000000</td>\n",
       "      <td>18.000000</td>\n",
       "      <td>0.000000</td>\n",
       "      <td>0.000000</td>\n",
       "      <td>1.000000</td>\n",
       "      <td>0.00000</td>\n",
       "      <td>0.000000</td>\n",
       "      <td>11.580000</td>\n",
       "      <td>0.000000</td>\n",
       "    </tr>\n",
       "    <tr>\n",
       "      <th>25%</th>\n",
       "      <td>2500.75000</td>\n",
       "      <td>1.562853e+07</td>\n",
       "      <td>584.000000</td>\n",
       "      <td>32.000000</td>\n",
       "      <td>3.000000</td>\n",
       "      <td>0.000000</td>\n",
       "      <td>1.000000</td>\n",
       "      <td>0.00000</td>\n",
       "      <td>0.000000</td>\n",
       "      <td>51002.110000</td>\n",
       "      <td>0.000000</td>\n",
       "    </tr>\n",
       "    <tr>\n",
       "      <th>50%</th>\n",
       "      <td>5000.50000</td>\n",
       "      <td>1.569074e+07</td>\n",
       "      <td>652.000000</td>\n",
       "      <td>37.000000</td>\n",
       "      <td>5.000000</td>\n",
       "      <td>97198.540000</td>\n",
       "      <td>1.000000</td>\n",
       "      <td>1.00000</td>\n",
       "      <td>1.000000</td>\n",
       "      <td>100193.915000</td>\n",
       "      <td>0.000000</td>\n",
       "    </tr>\n",
       "    <tr>\n",
       "      <th>75%</th>\n",
       "      <td>7500.25000</td>\n",
       "      <td>1.575323e+07</td>\n",
       "      <td>718.000000</td>\n",
       "      <td>43.000000</td>\n",
       "      <td>7.000000</td>\n",
       "      <td>127644.240000</td>\n",
       "      <td>2.000000</td>\n",
       "      <td>1.00000</td>\n",
       "      <td>1.000000</td>\n",
       "      <td>149388.247500</td>\n",
       "      <td>0.000000</td>\n",
       "    </tr>\n",
       "    <tr>\n",
       "      <th>max</th>\n",
       "      <td>10000.00000</td>\n",
       "      <td>1.581569e+07</td>\n",
       "      <td>850.000000</td>\n",
       "      <td>69.000000</td>\n",
       "      <td>10.000000</td>\n",
       "      <td>250898.090000</td>\n",
       "      <td>4.000000</td>\n",
       "      <td>1.00000</td>\n",
       "      <td>1.000000</td>\n",
       "      <td>199992.480000</td>\n",
       "      <td>1.000000</td>\n",
       "    </tr>\n",
       "  </tbody>\n",
       "</table>\n",
       "</div>"
      ],
      "text/plain": [
       "         RowNumber    CustomerId   CreditScore          Age        Tenure  \\\n",
       "count  10000.00000  1.000000e+04  10000.000000  9849.000000  10000.000000   \n",
       "mean    5000.50000  1.569094e+07    650.528800    38.380242      5.012800   \n",
       "std     2886.89568  7.193619e+04     96.653299     9.591467      2.892174   \n",
       "min        1.00000  1.556570e+07    350.000000    18.000000      0.000000   \n",
       "25%     2500.75000  1.562853e+07    584.000000    32.000000      3.000000   \n",
       "50%     5000.50000  1.569074e+07    652.000000    37.000000      5.000000   \n",
       "75%     7500.25000  1.575323e+07    718.000000    43.000000      7.000000   \n",
       "max    10000.00000  1.581569e+07    850.000000    69.000000     10.000000   \n",
       "\n",
       "             Balance  NumOfProducts    HasCrCard  IsActiveMember  \\\n",
       "count   10000.000000   10000.000000  10000.00000    10000.000000   \n",
       "mean    76485.889288       1.530200      0.70550        0.515100   \n",
       "std     62397.405202       0.581654      0.45584        0.499797   \n",
       "min         0.000000       1.000000      0.00000        0.000000   \n",
       "25%         0.000000       1.000000      0.00000        0.000000   \n",
       "50%     97198.540000       1.000000      1.00000        1.000000   \n",
       "75%    127644.240000       2.000000      1.00000        1.000000   \n",
       "max    250898.090000       4.000000      1.00000        1.000000   \n",
       "\n",
       "       EstimatedSalary        Exited  \n",
       "count     10000.000000  10000.000000  \n",
       "mean     100090.239881      0.203700  \n",
       "std       57510.492818      0.402769  \n",
       "min          11.580000      0.000000  \n",
       "25%       51002.110000      0.000000  \n",
       "50%      100193.915000      0.000000  \n",
       "75%      149388.247500      0.000000  \n",
       "max      199992.480000      1.000000  "
      ]
     },
     "execution_count": 65,
     "metadata": {},
     "output_type": "execute_result"
    }
   ],
   "source": [
    "df.describe()"
   ]
  },
  {
   "cell_type": "code",
   "execution_count": 66,
   "id": "d5d48a22-6551-444b-84be-73fcb9aa70f0",
   "metadata": {},
   "outputs": [
    {
     "data": {
      "text/html": [
       "<div>\n",
       "<style scoped>\n",
       "    .dataframe tbody tr th:only-of-type {\n",
       "        vertical-align: middle;\n",
       "    }\n",
       "\n",
       "    .dataframe tbody tr th {\n",
       "        vertical-align: top;\n",
       "    }\n",
       "\n",
       "    .dataframe thead th {\n",
       "        text-align: right;\n",
       "    }\n",
       "</style>\n",
       "<table border=\"1\" class=\"dataframe\">\n",
       "  <thead>\n",
       "    <tr style=\"text-align: right;\">\n",
       "      <th></th>\n",
       "      <th>RowNumber</th>\n",
       "      <th>CustomerId</th>\n",
       "      <th>Surname</th>\n",
       "      <th>CreditScore</th>\n",
       "      <th>Geography</th>\n",
       "      <th>Gender</th>\n",
       "      <th>Age</th>\n",
       "      <th>Tenure</th>\n",
       "      <th>Balance</th>\n",
       "      <th>NumOfProducts</th>\n",
       "      <th>HasCrCard</th>\n",
       "      <th>IsActiveMember</th>\n",
       "      <th>EstimatedSalary</th>\n",
       "      <th>Exited</th>\n",
       "    </tr>\n",
       "  </thead>\n",
       "  <tbody>\n",
       "    <tr>\n",
       "      <th>0</th>\n",
       "      <td>1</td>\n",
       "      <td>15634602</td>\n",
       "      <td>Hargrave</td>\n",
       "      <td>619</td>\n",
       "      <td>France</td>\n",
       "      <td>NaN</td>\n",
       "      <td>42.0</td>\n",
       "      <td>2</td>\n",
       "      <td>0.00</td>\n",
       "      <td>1</td>\n",
       "      <td>1</td>\n",
       "      <td>1</td>\n",
       "      <td>101348.88</td>\n",
       "      <td>1</td>\n",
       "    </tr>\n",
       "    <tr>\n",
       "      <th>1</th>\n",
       "      <td>2</td>\n",
       "      <td>15647311</td>\n",
       "      <td>Hill</td>\n",
       "      <td>608</td>\n",
       "      <td>Spain</td>\n",
       "      <td>NaN</td>\n",
       "      <td>41.0</td>\n",
       "      <td>1</td>\n",
       "      <td>83807.86</td>\n",
       "      <td>1</td>\n",
       "      <td>0</td>\n",
       "      <td>1</td>\n",
       "      <td>112542.58</td>\n",
       "      <td>0</td>\n",
       "    </tr>\n",
       "    <tr>\n",
       "      <th>2</th>\n",
       "      <td>3</td>\n",
       "      <td>15619304</td>\n",
       "      <td>Onio</td>\n",
       "      <td>502</td>\n",
       "      <td>France</td>\n",
       "      <td>NaN</td>\n",
       "      <td>42.0</td>\n",
       "      <td>8</td>\n",
       "      <td>159660.80</td>\n",
       "      <td>3</td>\n",
       "      <td>1</td>\n",
       "      <td>0</td>\n",
       "      <td>113931.57</td>\n",
       "      <td>1</td>\n",
       "    </tr>\n",
       "    <tr>\n",
       "      <th>3</th>\n",
       "      <td>4</td>\n",
       "      <td>15701354</td>\n",
       "      <td>Boni</td>\n",
       "      <td>699</td>\n",
       "      <td>France</td>\n",
       "      <td>NaN</td>\n",
       "      <td>39.0</td>\n",
       "      <td>1</td>\n",
       "      <td>0.00</td>\n",
       "      <td>2</td>\n",
       "      <td>0</td>\n",
       "      <td>0</td>\n",
       "      <td>93826.63</td>\n",
       "      <td>0</td>\n",
       "    </tr>\n",
       "    <tr>\n",
       "      <th>4</th>\n",
       "      <td>5</td>\n",
       "      <td>15737888</td>\n",
       "      <td>Mitchell</td>\n",
       "      <td>850</td>\n",
       "      <td>Spain</td>\n",
       "      <td>NaN</td>\n",
       "      <td>43.0</td>\n",
       "      <td>2</td>\n",
       "      <td>125510.82</td>\n",
       "      <td>1</td>\n",
       "      <td>1</td>\n",
       "      <td>1</td>\n",
       "      <td>79084.10</td>\n",
       "      <td>0</td>\n",
       "    </tr>\n",
       "    <tr>\n",
       "      <th>...</th>\n",
       "      <td>...</td>\n",
       "      <td>...</td>\n",
       "      <td>...</td>\n",
       "      <td>...</td>\n",
       "      <td>...</td>\n",
       "      <td>...</td>\n",
       "      <td>...</td>\n",
       "      <td>...</td>\n",
       "      <td>...</td>\n",
       "      <td>...</td>\n",
       "      <td>...</td>\n",
       "      <td>...</td>\n",
       "      <td>...</td>\n",
       "      <td>...</td>\n",
       "    </tr>\n",
       "    <tr>\n",
       "      <th>95</th>\n",
       "      <td>96</td>\n",
       "      <td>15699461</td>\n",
       "      <td>Fiorentini</td>\n",
       "      <td>515</td>\n",
       "      <td>Spain</td>\n",
       "      <td>Male</td>\n",
       "      <td>35.0</td>\n",
       "      <td>10</td>\n",
       "      <td>176273.95</td>\n",
       "      <td>1</td>\n",
       "      <td>0</td>\n",
       "      <td>1</td>\n",
       "      <td>121277.78</td>\n",
       "      <td>0</td>\n",
       "    </tr>\n",
       "    <tr>\n",
       "      <th>96</th>\n",
       "      <td>97</td>\n",
       "      <td>15738721</td>\n",
       "      <td>Graham</td>\n",
       "      <td>773</td>\n",
       "      <td>Spain</td>\n",
       "      <td>Male</td>\n",
       "      <td>41.0</td>\n",
       "      <td>9</td>\n",
       "      <td>102827.44</td>\n",
       "      <td>1</td>\n",
       "      <td>0</td>\n",
       "      <td>1</td>\n",
       "      <td>64595.25</td>\n",
       "      <td>0</td>\n",
       "    </tr>\n",
       "    <tr>\n",
       "      <th>97</th>\n",
       "      <td>98</td>\n",
       "      <td>15693683</td>\n",
       "      <td>Yuille</td>\n",
       "      <td>814</td>\n",
       "      <td>Germany</td>\n",
       "      <td>Male</td>\n",
       "      <td>29.0</td>\n",
       "      <td>8</td>\n",
       "      <td>97086.40</td>\n",
       "      <td>2</td>\n",
       "      <td>1</td>\n",
       "      <td>1</td>\n",
       "      <td>197276.13</td>\n",
       "      <td>0</td>\n",
       "    </tr>\n",
       "    <tr>\n",
       "      <th>98</th>\n",
       "      <td>99</td>\n",
       "      <td>15604348</td>\n",
       "      <td>Allard</td>\n",
       "      <td>710</td>\n",
       "      <td>Spain</td>\n",
       "      <td>Male</td>\n",
       "      <td>22.0</td>\n",
       "      <td>8</td>\n",
       "      <td>0.00</td>\n",
       "      <td>2</td>\n",
       "      <td>0</td>\n",
       "      <td>0</td>\n",
       "      <td>99645.04</td>\n",
       "      <td>0</td>\n",
       "    </tr>\n",
       "    <tr>\n",
       "      <th>99</th>\n",
       "      <td>100</td>\n",
       "      <td>15633059</td>\n",
       "      <td>Fanucci</td>\n",
       "      <td>413</td>\n",
       "      <td>France</td>\n",
       "      <td>Male</td>\n",
       "      <td>34.0</td>\n",
       "      <td>9</td>\n",
       "      <td>0.00</td>\n",
       "      <td>2</td>\n",
       "      <td>0</td>\n",
       "      <td>0</td>\n",
       "      <td>6534.18</td>\n",
       "      <td>0</td>\n",
       "    </tr>\n",
       "  </tbody>\n",
       "</table>\n",
       "<p>100 rows × 14 columns</p>\n",
       "</div>"
      ],
      "text/plain": [
       "    RowNumber  CustomerId     Surname  CreditScore Geography Gender   Age  \\\n",
       "0           1    15634602    Hargrave          619    France    NaN  42.0   \n",
       "1           2    15647311        Hill          608     Spain    NaN  41.0   \n",
       "2           3    15619304        Onio          502    France    NaN  42.0   \n",
       "3           4    15701354        Boni          699    France    NaN  39.0   \n",
       "4           5    15737888    Mitchell          850     Spain    NaN  43.0   \n",
       "..        ...         ...         ...          ...       ...    ...   ...   \n",
       "95         96    15699461  Fiorentini          515     Spain   Male  35.0   \n",
       "96         97    15738721      Graham          773     Spain   Male  41.0   \n",
       "97         98    15693683      Yuille          814   Germany   Male  29.0   \n",
       "98         99    15604348      Allard          710     Spain   Male  22.0   \n",
       "99        100    15633059     Fanucci          413    France   Male  34.0   \n",
       "\n",
       "    Tenure    Balance  NumOfProducts  HasCrCard  IsActiveMember  \\\n",
       "0        2       0.00              1          1               1   \n",
       "1        1   83807.86              1          0               1   \n",
       "2        8  159660.80              3          1               0   \n",
       "3        1       0.00              2          0               0   \n",
       "4        2  125510.82              1          1               1   \n",
       "..     ...        ...            ...        ...             ...   \n",
       "95      10  176273.95              1          0               1   \n",
       "96       9  102827.44              1          0               1   \n",
       "97       8   97086.40              2          1               1   \n",
       "98       8       0.00              2          0               0   \n",
       "99       9       0.00              2          0               0   \n",
       "\n",
       "    EstimatedSalary  Exited  \n",
       "0         101348.88       1  \n",
       "1         112542.58       0  \n",
       "2         113931.57       1  \n",
       "3          93826.63       0  \n",
       "4          79084.10       0  \n",
       "..              ...     ...  \n",
       "95        121277.78       0  \n",
       "96         64595.25       0  \n",
       "97        197276.13       0  \n",
       "98         99645.04       0  \n",
       "99          6534.18       0  \n",
       "\n",
       "[100 rows x 14 columns]"
      ]
     },
     "execution_count": 66,
     "metadata": {},
     "output_type": "execute_result"
    }
   ],
   "source": [
    "df.head(100)"
   ]
  },
  {
   "cell_type": "code",
   "execution_count": 67,
   "id": "93b1016c-24b6-4f14-be4e-4804d4e1a7d0",
   "metadata": {},
   "outputs": [],
   "source": [
    "df.drop(columns=['RowNumber'], inplace=True)"
   ]
  },
  {
   "cell_type": "code",
   "execution_count": 68,
   "id": "ca3a58ee-95b0-4832-87ff-5d3b3f917c2f",
   "metadata": {},
   "outputs": [
    {
     "data": {
      "text/html": [
       "<div>\n",
       "<style scoped>\n",
       "    .dataframe tbody tr th:only-of-type {\n",
       "        vertical-align: middle;\n",
       "    }\n",
       "\n",
       "    .dataframe tbody tr th {\n",
       "        vertical-align: top;\n",
       "    }\n",
       "\n",
       "    .dataframe thead th {\n",
       "        text-align: right;\n",
       "    }\n",
       "</style>\n",
       "<table border=\"1\" class=\"dataframe\">\n",
       "  <thead>\n",
       "    <tr style=\"text-align: right;\">\n",
       "      <th></th>\n",
       "      <th>CustomerId</th>\n",
       "      <th>Surname</th>\n",
       "      <th>CreditScore</th>\n",
       "      <th>Geography</th>\n",
       "      <th>Gender</th>\n",
       "      <th>Age</th>\n",
       "      <th>Tenure</th>\n",
       "      <th>Balance</th>\n",
       "      <th>NumOfProducts</th>\n",
       "      <th>HasCrCard</th>\n",
       "      <th>IsActiveMember</th>\n",
       "      <th>EstimatedSalary</th>\n",
       "      <th>Exited</th>\n",
       "    </tr>\n",
       "  </thead>\n",
       "  <tbody>\n",
       "    <tr>\n",
       "      <th>0</th>\n",
       "      <td>15634602</td>\n",
       "      <td>Hargrave</td>\n",
       "      <td>619</td>\n",
       "      <td>France</td>\n",
       "      <td>NaN</td>\n",
       "      <td>42.0</td>\n",
       "      <td>2</td>\n",
       "      <td>0.00</td>\n",
       "      <td>1</td>\n",
       "      <td>1</td>\n",
       "      <td>1</td>\n",
       "      <td>101348.88</td>\n",
       "      <td>1</td>\n",
       "    </tr>\n",
       "    <tr>\n",
       "      <th>1</th>\n",
       "      <td>15647311</td>\n",
       "      <td>Hill</td>\n",
       "      <td>608</td>\n",
       "      <td>Spain</td>\n",
       "      <td>NaN</td>\n",
       "      <td>41.0</td>\n",
       "      <td>1</td>\n",
       "      <td>83807.86</td>\n",
       "      <td>1</td>\n",
       "      <td>0</td>\n",
       "      <td>1</td>\n",
       "      <td>112542.58</td>\n",
       "      <td>0</td>\n",
       "    </tr>\n",
       "    <tr>\n",
       "      <th>2</th>\n",
       "      <td>15619304</td>\n",
       "      <td>Onio</td>\n",
       "      <td>502</td>\n",
       "      <td>France</td>\n",
       "      <td>NaN</td>\n",
       "      <td>42.0</td>\n",
       "      <td>8</td>\n",
       "      <td>159660.80</td>\n",
       "      <td>3</td>\n",
       "      <td>1</td>\n",
       "      <td>0</td>\n",
       "      <td>113931.57</td>\n",
       "      <td>1</td>\n",
       "    </tr>\n",
       "    <tr>\n",
       "      <th>3</th>\n",
       "      <td>15701354</td>\n",
       "      <td>Boni</td>\n",
       "      <td>699</td>\n",
       "      <td>France</td>\n",
       "      <td>NaN</td>\n",
       "      <td>39.0</td>\n",
       "      <td>1</td>\n",
       "      <td>0.00</td>\n",
       "      <td>2</td>\n",
       "      <td>0</td>\n",
       "      <td>0</td>\n",
       "      <td>93826.63</td>\n",
       "      <td>0</td>\n",
       "    </tr>\n",
       "    <tr>\n",
       "      <th>4</th>\n",
       "      <td>15737888</td>\n",
       "      <td>Mitchell</td>\n",
       "      <td>850</td>\n",
       "      <td>Spain</td>\n",
       "      <td>NaN</td>\n",
       "      <td>43.0</td>\n",
       "      <td>2</td>\n",
       "      <td>125510.82</td>\n",
       "      <td>1</td>\n",
       "      <td>1</td>\n",
       "      <td>1</td>\n",
       "      <td>79084.10</td>\n",
       "      <td>0</td>\n",
       "    </tr>\n",
       "  </tbody>\n",
       "</table>\n",
       "</div>"
      ],
      "text/plain": [
       "   CustomerId   Surname  CreditScore Geography Gender   Age  Tenure  \\\n",
       "0    15634602  Hargrave          619    France    NaN  42.0       2   \n",
       "1    15647311      Hill          608     Spain    NaN  41.0       1   \n",
       "2    15619304      Onio          502    France    NaN  42.0       8   \n",
       "3    15701354      Boni          699    France    NaN  39.0       1   \n",
       "4    15737888  Mitchell          850     Spain    NaN  43.0       2   \n",
       "\n",
       "     Balance  NumOfProducts  HasCrCard  IsActiveMember  EstimatedSalary  \\\n",
       "0       0.00              1          1               1        101348.88   \n",
       "1   83807.86              1          0               1        112542.58   \n",
       "2  159660.80              3          1               0        113931.57   \n",
       "3       0.00              2          0               0         93826.63   \n",
       "4  125510.82              1          1               1         79084.10   \n",
       "\n",
       "   Exited  \n",
       "0       1  \n",
       "1       0  \n",
       "2       1  \n",
       "3       0  \n",
       "4       0  "
      ]
     },
     "execution_count": 68,
     "metadata": {},
     "output_type": "execute_result"
    }
   ],
   "source": [
    "df.head()"
   ]
  },
  {
   "cell_type": "markdown",
   "id": "ec418ccd-c64a-4844-87a1-e5a3d3a2980b",
   "metadata": {},
   "source": [
    "## Handling Missing Values"
   ]
  },
  {
   "cell_type": "code",
   "execution_count": 69,
   "id": "6d484aa5-1616-48e4-b1a2-c14fae821656",
   "metadata": {},
   "outputs": [
    {
     "data": {
      "text/plain": [
       "CustomerId           0\n",
       "Surname              0\n",
       "CreditScore          0\n",
       "Geography            0\n",
       "Gender              51\n",
       "Age                151\n",
       "Tenure               0\n",
       "Balance              0\n",
       "NumOfProducts        0\n",
       "HasCrCard            0\n",
       "IsActiveMember       0\n",
       "EstimatedSalary      0\n",
       "Exited               0\n",
       "dtype: int64"
      ]
     },
     "execution_count": 69,
     "metadata": {},
     "output_type": "execute_result"
    }
   ],
   "source": [
    "# df.isna().sum()\n",
    "df.isnull().sum()"
   ]
  },
  {
   "cell_type": "markdown",
   "id": "f108d315-eebd-4c85-82a8-1d4e62306d53",
   "metadata": {},
   "source": [
    "### 1) Droping Columns with missing data"
   ]
  },
  {
   "cell_type": "code",
   "execution_count": 71,
   "id": "cfef4bcb-6d41-452c-a93b-b9ea570ecac4",
   "metadata": {},
   "outputs": [],
   "source": [
    "updated_df = df.dropna(axis=1)"
   ]
  },
  {
   "cell_type": "markdown",
   "id": "660f4270-c44d-48fe-a75d-f2c8a1c86178",
   "metadata": {},
   "source": [
    "In this case, 151 out of 10,000 values for Age and 51 out of 10,000 values for Gender are null.\n",
    "\n",
    "Dropping the entire column may not be wise, as it could result in losing valuable information.\n",
    "\n",
    "This approach should only be used when the number of nulls is excessively high."
   ]
  },
  {
   "cell_type": "code",
   "execution_count": 76,
   "id": "6b77f2ec-2554-466c-a605-2ca5e09f4f9c",
   "metadata": {},
   "outputs": [
    {
     "name": "stdout",
     "output_type": "stream",
     "text": [
      "<class 'pandas.core.frame.DataFrame'>\n",
      "RangeIndex: 10000 entries, 0 to 9999\n",
      "Data columns (total 11 columns):\n",
      " #   Column           Non-Null Count  Dtype  \n",
      "---  ------           --------------  -----  \n",
      " 0   CustomerId       10000 non-null  int64  \n",
      " 1   Surname          10000 non-null  object \n",
      " 2   CreditScore      10000 non-null  int64  \n",
      " 3   Geography        10000 non-null  object \n",
      " 4   Tenure           10000 non-null  int64  \n",
      " 5   Balance          10000 non-null  float64\n",
      " 6   NumOfProducts    10000 non-null  int64  \n",
      " 7   HasCrCard        10000 non-null  int64  \n",
      " 8   IsActiveMember   10000 non-null  int64  \n",
      " 9   EstimatedSalary  10000 non-null  float64\n",
      " 10  Exited           10000 non-null  int64  \n",
      "dtypes: float64(2), int64(7), object(2)\n",
      "memory usage: 859.5+ KB\n"
     ]
    }
   ],
   "source": [
    "updated_df.info()"
   ]
  },
  {
   "cell_type": "code",
   "execution_count": 75,
   "id": "9eea9508-0185-415b-acae-c2396dff0db0",
   "metadata": {},
   "outputs": [
    {
     "data": {
      "text/html": [
       "<div>\n",
       "<style scoped>\n",
       "    .dataframe tbody tr th:only-of-type {\n",
       "        vertical-align: middle;\n",
       "    }\n",
       "\n",
       "    .dataframe tbody tr th {\n",
       "        vertical-align: top;\n",
       "    }\n",
       "\n",
       "    .dataframe thead th {\n",
       "        text-align: right;\n",
       "    }\n",
       "</style>\n",
       "<table border=\"1\" class=\"dataframe\">\n",
       "  <thead>\n",
       "    <tr style=\"text-align: right;\">\n",
       "      <th></th>\n",
       "      <th>CustomerId</th>\n",
       "      <th>CreditScore</th>\n",
       "      <th>Tenure</th>\n",
       "      <th>Balance</th>\n",
       "      <th>NumOfProducts</th>\n",
       "      <th>HasCrCard</th>\n",
       "      <th>IsActiveMember</th>\n",
       "      <th>EstimatedSalary</th>\n",
       "      <th>Exited</th>\n",
       "    </tr>\n",
       "  </thead>\n",
       "  <tbody>\n",
       "    <tr>\n",
       "      <th>count</th>\n",
       "      <td>1.000000e+04</td>\n",
       "      <td>10000.000000</td>\n",
       "      <td>10000.000000</td>\n",
       "      <td>10000.000000</td>\n",
       "      <td>10000.000000</td>\n",
       "      <td>10000.00000</td>\n",
       "      <td>10000.000000</td>\n",
       "      <td>10000.000000</td>\n",
       "      <td>10000.000000</td>\n",
       "    </tr>\n",
       "    <tr>\n",
       "      <th>mean</th>\n",
       "      <td>1.569094e+07</td>\n",
       "      <td>650.528800</td>\n",
       "      <td>5.012800</td>\n",
       "      <td>76485.889288</td>\n",
       "      <td>1.530200</td>\n",
       "      <td>0.70550</td>\n",
       "      <td>0.515100</td>\n",
       "      <td>100090.239881</td>\n",
       "      <td>0.203700</td>\n",
       "    </tr>\n",
       "    <tr>\n",
       "      <th>std</th>\n",
       "      <td>7.193619e+04</td>\n",
       "      <td>96.653299</td>\n",
       "      <td>2.892174</td>\n",
       "      <td>62397.405202</td>\n",
       "      <td>0.581654</td>\n",
       "      <td>0.45584</td>\n",
       "      <td>0.499797</td>\n",
       "      <td>57510.492818</td>\n",
       "      <td>0.402769</td>\n",
       "    </tr>\n",
       "    <tr>\n",
       "      <th>min</th>\n",
       "      <td>1.556570e+07</td>\n",
       "      <td>350.000000</td>\n",
       "      <td>0.000000</td>\n",
       "      <td>0.000000</td>\n",
       "      <td>1.000000</td>\n",
       "      <td>0.00000</td>\n",
       "      <td>0.000000</td>\n",
       "      <td>11.580000</td>\n",
       "      <td>0.000000</td>\n",
       "    </tr>\n",
       "    <tr>\n",
       "      <th>25%</th>\n",
       "      <td>1.562853e+07</td>\n",
       "      <td>584.000000</td>\n",
       "      <td>3.000000</td>\n",
       "      <td>0.000000</td>\n",
       "      <td>1.000000</td>\n",
       "      <td>0.00000</td>\n",
       "      <td>0.000000</td>\n",
       "      <td>51002.110000</td>\n",
       "      <td>0.000000</td>\n",
       "    </tr>\n",
       "    <tr>\n",
       "      <th>50%</th>\n",
       "      <td>1.569074e+07</td>\n",
       "      <td>652.000000</td>\n",
       "      <td>5.000000</td>\n",
       "      <td>97198.540000</td>\n",
       "      <td>1.000000</td>\n",
       "      <td>1.00000</td>\n",
       "      <td>1.000000</td>\n",
       "      <td>100193.915000</td>\n",
       "      <td>0.000000</td>\n",
       "    </tr>\n",
       "    <tr>\n",
       "      <th>75%</th>\n",
       "      <td>1.575323e+07</td>\n",
       "      <td>718.000000</td>\n",
       "      <td>7.000000</td>\n",
       "      <td>127644.240000</td>\n",
       "      <td>2.000000</td>\n",
       "      <td>1.00000</td>\n",
       "      <td>1.000000</td>\n",
       "      <td>149388.247500</td>\n",
       "      <td>0.000000</td>\n",
       "    </tr>\n",
       "    <tr>\n",
       "      <th>max</th>\n",
       "      <td>1.581569e+07</td>\n",
       "      <td>850.000000</td>\n",
       "      <td>10.000000</td>\n",
       "      <td>250898.090000</td>\n",
       "      <td>4.000000</td>\n",
       "      <td>1.00000</td>\n",
       "      <td>1.000000</td>\n",
       "      <td>199992.480000</td>\n",
       "      <td>1.000000</td>\n",
       "    </tr>\n",
       "  </tbody>\n",
       "</table>\n",
       "</div>"
      ],
      "text/plain": [
       "         CustomerId   CreditScore        Tenure        Balance  NumOfProducts  \\\n",
       "count  1.000000e+04  10000.000000  10000.000000   10000.000000   10000.000000   \n",
       "mean   1.569094e+07    650.528800      5.012800   76485.889288       1.530200   \n",
       "std    7.193619e+04     96.653299      2.892174   62397.405202       0.581654   \n",
       "min    1.556570e+07    350.000000      0.000000       0.000000       1.000000   \n",
       "25%    1.562853e+07    584.000000      3.000000       0.000000       1.000000   \n",
       "50%    1.569074e+07    652.000000      5.000000   97198.540000       1.000000   \n",
       "75%    1.575323e+07    718.000000      7.000000  127644.240000       2.000000   \n",
       "max    1.581569e+07    850.000000     10.000000  250898.090000       4.000000   \n",
       "\n",
       "         HasCrCard  IsActiveMember  EstimatedSalary        Exited  \n",
       "count  10000.00000    10000.000000     10000.000000  10000.000000  \n",
       "mean       0.70550        0.515100    100090.239881      0.203700  \n",
       "std        0.45584        0.499797     57510.492818      0.402769  \n",
       "min        0.00000        0.000000        11.580000      0.000000  \n",
       "25%        0.00000        0.000000     51002.110000      0.000000  \n",
       "50%        1.00000        1.000000    100193.915000      0.000000  \n",
       "75%        1.00000        1.000000    149388.247500      0.000000  \n",
       "max        1.00000        1.000000    199992.480000      1.000000  "
      ]
     },
     "execution_count": 75,
     "metadata": {},
     "output_type": "execute_result"
    }
   ],
   "source": [
    "updated_df.describe()"
   ]
  },
  {
   "cell_type": "code",
   "execution_count": 74,
   "id": "c4ae0583-6f20-42f0-88e3-b397c7c7831f",
   "metadata": {},
   "outputs": [
    {
     "data": {
      "text/html": [
       "<div>\n",
       "<style scoped>\n",
       "    .dataframe tbody tr th:only-of-type {\n",
       "        vertical-align: middle;\n",
       "    }\n",
       "\n",
       "    .dataframe tbody tr th {\n",
       "        vertical-align: top;\n",
       "    }\n",
       "\n",
       "    .dataframe thead th {\n",
       "        text-align: right;\n",
       "    }\n",
       "</style>\n",
       "<table border=\"1\" class=\"dataframe\">\n",
       "  <thead>\n",
       "    <tr style=\"text-align: right;\">\n",
       "      <th></th>\n",
       "      <th>CustomerId</th>\n",
       "      <th>Surname</th>\n",
       "      <th>CreditScore</th>\n",
       "      <th>Geography</th>\n",
       "      <th>Tenure</th>\n",
       "      <th>Balance</th>\n",
       "      <th>NumOfProducts</th>\n",
       "      <th>HasCrCard</th>\n",
       "      <th>IsActiveMember</th>\n",
       "      <th>EstimatedSalary</th>\n",
       "      <th>Exited</th>\n",
       "    </tr>\n",
       "  </thead>\n",
       "  <tbody>\n",
       "    <tr>\n",
       "      <th>0</th>\n",
       "      <td>15634602</td>\n",
       "      <td>Hargrave</td>\n",
       "      <td>619</td>\n",
       "      <td>France</td>\n",
       "      <td>2</td>\n",
       "      <td>0.00</td>\n",
       "      <td>1</td>\n",
       "      <td>1</td>\n",
       "      <td>1</td>\n",
       "      <td>101348.88</td>\n",
       "      <td>1</td>\n",
       "    </tr>\n",
       "    <tr>\n",
       "      <th>1</th>\n",
       "      <td>15647311</td>\n",
       "      <td>Hill</td>\n",
       "      <td>608</td>\n",
       "      <td>Spain</td>\n",
       "      <td>1</td>\n",
       "      <td>83807.86</td>\n",
       "      <td>1</td>\n",
       "      <td>0</td>\n",
       "      <td>1</td>\n",
       "      <td>112542.58</td>\n",
       "      <td>0</td>\n",
       "    </tr>\n",
       "    <tr>\n",
       "      <th>2</th>\n",
       "      <td>15619304</td>\n",
       "      <td>Onio</td>\n",
       "      <td>502</td>\n",
       "      <td>France</td>\n",
       "      <td>8</td>\n",
       "      <td>159660.80</td>\n",
       "      <td>3</td>\n",
       "      <td>1</td>\n",
       "      <td>0</td>\n",
       "      <td>113931.57</td>\n",
       "      <td>1</td>\n",
       "    </tr>\n",
       "    <tr>\n",
       "      <th>3</th>\n",
       "      <td>15701354</td>\n",
       "      <td>Boni</td>\n",
       "      <td>699</td>\n",
       "      <td>France</td>\n",
       "      <td>1</td>\n",
       "      <td>0.00</td>\n",
       "      <td>2</td>\n",
       "      <td>0</td>\n",
       "      <td>0</td>\n",
       "      <td>93826.63</td>\n",
       "      <td>0</td>\n",
       "    </tr>\n",
       "    <tr>\n",
       "      <th>4</th>\n",
       "      <td>15737888</td>\n",
       "      <td>Mitchell</td>\n",
       "      <td>850</td>\n",
       "      <td>Spain</td>\n",
       "      <td>2</td>\n",
       "      <td>125510.82</td>\n",
       "      <td>1</td>\n",
       "      <td>1</td>\n",
       "      <td>1</td>\n",
       "      <td>79084.10</td>\n",
       "      <td>0</td>\n",
       "    </tr>\n",
       "  </tbody>\n",
       "</table>\n",
       "</div>"
      ],
      "text/plain": [
       "   CustomerId   Surname  CreditScore Geography  Tenure    Balance  \\\n",
       "0    15634602  Hargrave          619    France       2       0.00   \n",
       "1    15647311      Hill          608     Spain       1   83807.86   \n",
       "2    15619304      Onio          502    France       8  159660.80   \n",
       "3    15701354      Boni          699    France       1       0.00   \n",
       "4    15737888  Mitchell          850     Spain       2  125510.82   \n",
       "\n",
       "   NumOfProducts  HasCrCard  IsActiveMember  EstimatedSalary  Exited  \n",
       "0              1          1               1        101348.88       1  \n",
       "1              1          0               1        112542.58       0  \n",
       "2              3          1               0        113931.57       1  \n",
       "3              2          0               0         93826.63       0  \n",
       "4              1          1               1         79084.10       0  "
      ]
     },
     "execution_count": 74,
     "metadata": {},
     "output_type": "execute_result"
    }
   ],
   "source": [
    "updated_df.head()"
   ]
  },
  {
   "cell_type": "markdown",
   "id": "58c62ec1-5f0d-47de-ba02-d8d3c98f02f6",
   "metadata": {},
   "source": [
    "### 2) Droping Rows with missing data"
   ]
  },
  {
   "cell_type": "code",
   "execution_count": 89,
   "id": "db575d1c-96d3-4399-9693-ba9024b72a92",
   "metadata": {},
   "outputs": [],
   "source": [
    "updated_df = df.dropna(axis=0).reset_index(drop=True)"
   ]
  },
  {
   "cell_type": "markdown",
   "id": "4a347064-aa16-4a9a-a08e-368de685869e",
   "metadata": {},
   "source": [
    "In this case, dropping the rows with missing data seems wise decision, as it could not result in losing valuable information.\n",
    "\n",
    "And there are possibilities of getting better accuracy than before"
   ]
  },
  {
   "cell_type": "code",
   "execution_count": 90,
   "id": "2ba4408d-8f88-433a-961c-b93fadea9477",
   "metadata": {},
   "outputs": [
    {
     "name": "stdout",
     "output_type": "stream",
     "text": [
      "<class 'pandas.core.frame.DataFrame'>\n",
      "RangeIndex: 9798 entries, 0 to 9797\n",
      "Data columns (total 13 columns):\n",
      " #   Column           Non-Null Count  Dtype  \n",
      "---  ------           --------------  -----  \n",
      " 0   CustomerId       9798 non-null   int64  \n",
      " 1   Surname          9798 non-null   object \n",
      " 2   CreditScore      9798 non-null   int64  \n",
      " 3   Geography        9798 non-null   object \n",
      " 4   Gender           9798 non-null   object \n",
      " 5   Age              9798 non-null   float64\n",
      " 6   Tenure           9798 non-null   int64  \n",
      " 7   Balance          9798 non-null   float64\n",
      " 8   NumOfProducts    9798 non-null   int64  \n",
      " 9   HasCrCard        9798 non-null   int64  \n",
      " 10  IsActiveMember   9798 non-null   int64  \n",
      " 11  EstimatedSalary  9798 non-null   float64\n",
      " 12  Exited           9798 non-null   int64  \n",
      "dtypes: float64(3), int64(7), object(3)\n",
      "memory usage: 995.2+ KB\n"
     ]
    }
   ],
   "source": [
    "updated_df.info()"
   ]
  },
  {
   "cell_type": "code",
   "execution_count": 91,
   "id": "66e96bf4-9f9c-4835-8f4b-6a3b126baf14",
   "metadata": {},
   "outputs": [
    {
     "data": {
      "text/html": [
       "<div>\n",
       "<style scoped>\n",
       "    .dataframe tbody tr th:only-of-type {\n",
       "        vertical-align: middle;\n",
       "    }\n",
       "\n",
       "    .dataframe tbody tr th {\n",
       "        vertical-align: top;\n",
       "    }\n",
       "\n",
       "    .dataframe thead th {\n",
       "        text-align: right;\n",
       "    }\n",
       "</style>\n",
       "<table border=\"1\" class=\"dataframe\">\n",
       "  <thead>\n",
       "    <tr style=\"text-align: right;\">\n",
       "      <th></th>\n",
       "      <th>CustomerId</th>\n",
       "      <th>CreditScore</th>\n",
       "      <th>Age</th>\n",
       "      <th>Tenure</th>\n",
       "      <th>Balance</th>\n",
       "      <th>NumOfProducts</th>\n",
       "      <th>HasCrCard</th>\n",
       "      <th>IsActiveMember</th>\n",
       "      <th>EstimatedSalary</th>\n",
       "      <th>Exited</th>\n",
       "    </tr>\n",
       "  </thead>\n",
       "  <tbody>\n",
       "    <tr>\n",
       "      <th>count</th>\n",
       "      <td>9.798000e+03</td>\n",
       "      <td>9798.000000</td>\n",
       "      <td>9798.000000</td>\n",
       "      <td>9798.000000</td>\n",
       "      <td>9798.000000</td>\n",
       "      <td>9798.000000</td>\n",
       "      <td>9798.000000</td>\n",
       "      <td>9798.000000</td>\n",
       "      <td>9798.000000</td>\n",
       "      <td>9798.000000</td>\n",
       "    </tr>\n",
       "    <tr>\n",
       "      <th>mean</th>\n",
       "      <td>1.569090e+07</td>\n",
       "      <td>650.412839</td>\n",
       "      <td>38.378955</td>\n",
       "      <td>5.012758</td>\n",
       "      <td>76667.398677</td>\n",
       "      <td>1.529598</td>\n",
       "      <td>0.705450</td>\n",
       "      <td>0.508981</td>\n",
       "      <td>100117.117179</td>\n",
       "      <td>0.205144</td>\n",
       "    </tr>\n",
       "    <tr>\n",
       "      <th>std</th>\n",
       "      <td>7.187383e+04</td>\n",
       "      <td>96.482054</td>\n",
       "      <td>9.595067</td>\n",
       "      <td>2.891869</td>\n",
       "      <td>62413.840736</td>\n",
       "      <td>0.581863</td>\n",
       "      <td>0.455863</td>\n",
       "      <td>0.499945</td>\n",
       "      <td>57508.828783</td>\n",
       "      <td>0.403827</td>\n",
       "    </tr>\n",
       "    <tr>\n",
       "      <th>min</th>\n",
       "      <td>1.556570e+07</td>\n",
       "      <td>350.000000</td>\n",
       "      <td>18.000000</td>\n",
       "      <td>0.000000</td>\n",
       "      <td>0.000000</td>\n",
       "      <td>1.000000</td>\n",
       "      <td>0.000000</td>\n",
       "      <td>0.000000</td>\n",
       "      <td>11.580000</td>\n",
       "      <td>0.000000</td>\n",
       "    </tr>\n",
       "    <tr>\n",
       "      <th>25%</th>\n",
       "      <td>1.562852e+07</td>\n",
       "      <td>584.000000</td>\n",
       "      <td>32.000000</td>\n",
       "      <td>3.000000</td>\n",
       "      <td>0.000000</td>\n",
       "      <td>1.000000</td>\n",
       "      <td>0.000000</td>\n",
       "      <td>0.000000</td>\n",
       "      <td>51036.905000</td>\n",
       "      <td>0.000000</td>\n",
       "    </tr>\n",
       "    <tr>\n",
       "      <th>50%</th>\n",
       "      <td>1.569073e+07</td>\n",
       "      <td>652.000000</td>\n",
       "      <td>37.000000</td>\n",
       "      <td>5.000000</td>\n",
       "      <td>97387.355000</td>\n",
       "      <td>1.000000</td>\n",
       "      <td>1.000000</td>\n",
       "      <td>1.000000</td>\n",
       "      <td>100238.110000</td>\n",
       "      <td>0.000000</td>\n",
       "    </tr>\n",
       "    <tr>\n",
       "      <th>75%</th>\n",
       "      <td>1.575311e+07</td>\n",
       "      <td>717.000000</td>\n",
       "      <td>43.000000</td>\n",
       "      <td>7.000000</td>\n",
       "      <td>127736.122500</td>\n",
       "      <td>2.000000</td>\n",
       "      <td>1.000000</td>\n",
       "      <td>1.000000</td>\n",
       "      <td>149400.922500</td>\n",
       "      <td>0.000000</td>\n",
       "    </tr>\n",
       "    <tr>\n",
       "      <th>max</th>\n",
       "      <td>1.581569e+07</td>\n",
       "      <td>850.000000</td>\n",
       "      <td>69.000000</td>\n",
       "      <td>10.000000</td>\n",
       "      <td>250898.090000</td>\n",
       "      <td>4.000000</td>\n",
       "      <td>1.000000</td>\n",
       "      <td>1.000000</td>\n",
       "      <td>199992.480000</td>\n",
       "      <td>1.000000</td>\n",
       "    </tr>\n",
       "  </tbody>\n",
       "</table>\n",
       "</div>"
      ],
      "text/plain": [
       "         CustomerId  CreditScore          Age       Tenure        Balance  \\\n",
       "count  9.798000e+03  9798.000000  9798.000000  9798.000000    9798.000000   \n",
       "mean   1.569090e+07   650.412839    38.378955     5.012758   76667.398677   \n",
       "std    7.187383e+04    96.482054     9.595067     2.891869   62413.840736   \n",
       "min    1.556570e+07   350.000000    18.000000     0.000000       0.000000   \n",
       "25%    1.562852e+07   584.000000    32.000000     3.000000       0.000000   \n",
       "50%    1.569073e+07   652.000000    37.000000     5.000000   97387.355000   \n",
       "75%    1.575311e+07   717.000000    43.000000     7.000000  127736.122500   \n",
       "max    1.581569e+07   850.000000    69.000000    10.000000  250898.090000   \n",
       "\n",
       "       NumOfProducts    HasCrCard  IsActiveMember  EstimatedSalary  \\\n",
       "count    9798.000000  9798.000000     9798.000000      9798.000000   \n",
       "mean        1.529598     0.705450        0.508981    100117.117179   \n",
       "std         0.581863     0.455863        0.499945     57508.828783   \n",
       "min         1.000000     0.000000        0.000000        11.580000   \n",
       "25%         1.000000     0.000000        0.000000     51036.905000   \n",
       "50%         1.000000     1.000000        1.000000    100238.110000   \n",
       "75%         2.000000     1.000000        1.000000    149400.922500   \n",
       "max         4.000000     1.000000        1.000000    199992.480000   \n",
       "\n",
       "            Exited  \n",
       "count  9798.000000  \n",
       "mean      0.205144  \n",
       "std       0.403827  \n",
       "min       0.000000  \n",
       "25%       0.000000  \n",
       "50%       0.000000  \n",
       "75%       0.000000  \n",
       "max       1.000000  "
      ]
     },
     "execution_count": 91,
     "metadata": {},
     "output_type": "execute_result"
    }
   ],
   "source": [
    "updated_df.describe()"
   ]
  },
  {
   "cell_type": "code",
   "execution_count": 92,
   "id": "ac778e20-29ca-46ea-a27a-a53045ea891f",
   "metadata": {},
   "outputs": [
    {
     "data": {
      "text/html": [
       "<div>\n",
       "<style scoped>\n",
       "    .dataframe tbody tr th:only-of-type {\n",
       "        vertical-align: middle;\n",
       "    }\n",
       "\n",
       "    .dataframe tbody tr th {\n",
       "        vertical-align: top;\n",
       "    }\n",
       "\n",
       "    .dataframe thead th {\n",
       "        text-align: right;\n",
       "    }\n",
       "</style>\n",
       "<table border=\"1\" class=\"dataframe\">\n",
       "  <thead>\n",
       "    <tr style=\"text-align: right;\">\n",
       "      <th></th>\n",
       "      <th>CustomerId</th>\n",
       "      <th>Surname</th>\n",
       "      <th>CreditScore</th>\n",
       "      <th>Geography</th>\n",
       "      <th>Gender</th>\n",
       "      <th>Age</th>\n",
       "      <th>Tenure</th>\n",
       "      <th>Balance</th>\n",
       "      <th>NumOfProducts</th>\n",
       "      <th>HasCrCard</th>\n",
       "      <th>IsActiveMember</th>\n",
       "      <th>EstimatedSalary</th>\n",
       "      <th>Exited</th>\n",
       "    </tr>\n",
       "  </thead>\n",
       "  <tbody>\n",
       "    <tr>\n",
       "      <th>0</th>\n",
       "      <td>15768193</td>\n",
       "      <td>Trevisani</td>\n",
       "      <td>585</td>\n",
       "      <td>Germany</td>\n",
       "      <td>Male</td>\n",
       "      <td>36.0</td>\n",
       "      <td>5</td>\n",
       "      <td>146050.97</td>\n",
       "      <td>2</td>\n",
       "      <td>0</td>\n",
       "      <td>0</td>\n",
       "      <td>86424.57</td>\n",
       "      <td>0</td>\n",
       "    </tr>\n",
       "    <tr>\n",
       "      <th>1</th>\n",
       "      <td>15683553</td>\n",
       "      <td>O'Brien</td>\n",
       "      <td>788</td>\n",
       "      <td>France</td>\n",
       "      <td>Female</td>\n",
       "      <td>33.0</td>\n",
       "      <td>5</td>\n",
       "      <td>0.00</td>\n",
       "      <td>2</td>\n",
       "      <td>0</td>\n",
       "      <td>0</td>\n",
       "      <td>116978.19</td>\n",
       "      <td>0</td>\n",
       "    </tr>\n",
       "    <tr>\n",
       "      <th>2</th>\n",
       "      <td>15702298</td>\n",
       "      <td>Parkhill</td>\n",
       "      <td>655</td>\n",
       "      <td>Germany</td>\n",
       "      <td>Male</td>\n",
       "      <td>41.0</td>\n",
       "      <td>8</td>\n",
       "      <td>125561.97</td>\n",
       "      <td>1</td>\n",
       "      <td>0</td>\n",
       "      <td>0</td>\n",
       "      <td>164040.94</td>\n",
       "      <td>1</td>\n",
       "    </tr>\n",
       "    <tr>\n",
       "      <th>3</th>\n",
       "      <td>15569590</td>\n",
       "      <td>Yoo</td>\n",
       "      <td>601</td>\n",
       "      <td>Germany</td>\n",
       "      <td>Male</td>\n",
       "      <td>42.0</td>\n",
       "      <td>1</td>\n",
       "      <td>98495.72</td>\n",
       "      <td>1</td>\n",
       "      <td>1</td>\n",
       "      <td>0</td>\n",
       "      <td>40014.76</td>\n",
       "      <td>1</td>\n",
       "    </tr>\n",
       "    <tr>\n",
       "      <th>4</th>\n",
       "      <td>15760861</td>\n",
       "      <td>Phillipps</td>\n",
       "      <td>619</td>\n",
       "      <td>France</td>\n",
       "      <td>Male</td>\n",
       "      <td>43.0</td>\n",
       "      <td>1</td>\n",
       "      <td>125211.92</td>\n",
       "      <td>1</td>\n",
       "      <td>1</td>\n",
       "      <td>1</td>\n",
       "      <td>113410.49</td>\n",
       "      <td>0</td>\n",
       "    </tr>\n",
       "  </tbody>\n",
       "</table>\n",
       "</div>"
      ],
      "text/plain": [
       "   CustomerId    Surname  CreditScore Geography  Gender   Age  Tenure  \\\n",
       "0    15768193  Trevisani          585   Germany    Male  36.0       5   \n",
       "1    15683553    O'Brien          788    France  Female  33.0       5   \n",
       "2    15702298   Parkhill          655   Germany    Male  41.0       8   \n",
       "3    15569590        Yoo          601   Germany    Male  42.0       1   \n",
       "4    15760861  Phillipps          619    France    Male  43.0       1   \n",
       "\n",
       "     Balance  NumOfProducts  HasCrCard  IsActiveMember  EstimatedSalary  \\\n",
       "0  146050.97              2          0               0         86424.57   \n",
       "1       0.00              2          0               0        116978.19   \n",
       "2  125561.97              1          0               0        164040.94   \n",
       "3   98495.72              1          1               0         40014.76   \n",
       "4  125211.92              1          1               1        113410.49   \n",
       "\n",
       "   Exited  \n",
       "0       0  \n",
       "1       0  \n",
       "2       1  \n",
       "3       1  \n",
       "4       0  "
      ]
     },
     "execution_count": 92,
     "metadata": {},
     "output_type": "execute_result"
    }
   ],
   "source": [
    "updated_df.head()"
   ]
  },
  {
   "cell_type": "markdown",
   "id": "b8f6414a-1f67-42c8-9d48-f55300124f2e",
   "metadata": {},
   "source": [
    "### 3) Filling the missing values - Imputation"
   ]
  },
  {
   "cell_type": "markdown",
   "id": "610eb16a-ef74-4750-b747-f3cf0169850e",
   "metadata": {},
   "source": [
    "**In this case, we will be filling the missing values with a certain number.**\n",
    "\n",
    "**The possible ways to do this are:**\n",
    "\n",
    "    Filling the missing data with the mean or median value if it's a numerical variable.\n",
    "\n",
    "    Filling the missing data with mode if it's a categorical value.\n",
    "\n",
    "    Filling the numerical value with 0 or -999, or some other number that will not occur in the data. This can be done so that the machine can recognize that the data is not real or is different.\n",
    "\n",
    "    Filling the categorical value with a new type for the missing values.\n",
    "\n",
    "    If dataset has too many outliers, it is better to use median and vise versa for mean"
   ]
  },
  {
   "cell_type": "code",
   "execution_count": 93,
   "id": "428cc538-053f-4d0f-ab1d-b13b13f258d5",
   "metadata": {},
   "outputs": [
    {
     "data": {
      "text/plain": [
       "np.float64(38.38024164889836)"
      ]
     },
     "execution_count": 93,
     "metadata": {},
     "output_type": "execute_result"
    }
   ],
   "source": [
    "df['Age'].mean()"
   ]
  },
  {
   "cell_type": "code",
   "execution_count": 94,
   "id": "b14ef900-4e4a-471d-b11c-34e1aa7fd126",
   "metadata": {},
   "outputs": [
    {
     "data": {
      "text/plain": [
       "np.float64(37.0)"
      ]
     },
     "execution_count": 94,
     "metadata": {},
     "output_type": "execute_result"
    }
   ],
   "source": [
    "df['Age'].median()"
   ]
  },
  {
   "cell_type": "code",
   "execution_count": 95,
   "id": "dc1bbd70-6f39-4f22-bd16-ef00623ad0f0",
   "metadata": {},
   "outputs": [
    {
     "data": {
      "text/plain": [
       "0    37.0\n",
       "Name: Age, dtype: float64"
      ]
     },
     "execution_count": 95,
     "metadata": {},
     "output_type": "execute_result"
    }
   ],
   "source": [
    "df['Age'].mode()"
   ]
  },
  {
   "cell_type": "code",
   "execution_count": 120,
   "id": "e73c6cc8-2ced-4e63-b34a-4d0e24b9ebfd",
   "metadata": {},
   "outputs": [
    {
     "name": "stdout",
     "output_type": "stream",
     "text": [
      "<class 'pandas.core.frame.DataFrame'>\n",
      "RangeIndex: 10000 entries, 0 to 9999\n",
      "Data columns (total 13 columns):\n",
      " #   Column           Non-Null Count  Dtype  \n",
      "---  ------           --------------  -----  \n",
      " 0   CustomerId       10000 non-null  int64  \n",
      " 1   Surname          10000 non-null  object \n",
      " 2   CreditScore      10000 non-null  int64  \n",
      " 3   Geography        10000 non-null  object \n",
      " 4   Gender           9950 non-null   object \n",
      " 5   Age              10000 non-null  float64\n",
      " 6   Tenure           10000 non-null  int64  \n",
      " 7   Balance          10000 non-null  float64\n",
      " 8   NumOfProducts    10000 non-null  int64  \n",
      " 9   HasCrCard        10000 non-null  int64  \n",
      " 10  IsActiveMember   10000 non-null  int64  \n",
      " 11  EstimatedSalary  10000 non-null  float64\n",
      " 12  Exited           10000 non-null  int64  \n",
      "dtypes: float64(3), int64(7), object(3)\n",
      "memory usage: 1015.8+ KB\n"
     ]
    }
   ],
   "source": [
    "# fillna fills the null records\n",
    "updated_df = df\n",
    "updated_df['Age'] = updated_df['Age'].fillna(df['Age'].mean())\n",
    "updated_df.info()"
   ]
  },
  {
   "cell_type": "code",
   "execution_count": 125,
   "id": "78acfaf6-8876-494e-a96a-1c16cf0a8228",
   "metadata": {},
   "outputs": [
    {
     "name": "stdout",
     "output_type": "stream",
     "text": [
      "<class 'pandas.core.frame.DataFrame'>\n",
      "RangeIndex: 10000 entries, 0 to 9999\n",
      "Data columns (total 13 columns):\n",
      " #   Column           Non-Null Count  Dtype  \n",
      "---  ------           --------------  -----  \n",
      " 0   CustomerId       10000 non-null  int64  \n",
      " 1   Surname          10000 non-null  object \n",
      " 2   CreditScore      10000 non-null  int64  \n",
      " 3   Geography        10000 non-null  object \n",
      " 4   Gender           9950 non-null   object \n",
      " 5   Age              10000 non-null  float64\n",
      " 6   Tenure           10000 non-null  int64  \n",
      " 7   Balance          10000 non-null  float64\n",
      " 8   NumOfProducts    10000 non-null  int64  \n",
      " 9   HasCrCard        10000 non-null  int64  \n",
      " 10  IsActiveMember   10000 non-null  int64  \n",
      " 11  EstimatedSalary  10000 non-null  float64\n",
      " 12  Exited           10000 non-null  int64  \n",
      "dtypes: float64(3), int64(7), object(3)\n",
      "memory usage: 1015.8+ KB\n"
     ]
    }
   ],
   "source": [
    "updated_df1 = df\n",
    "updated_df1['Age'] = updated_df1['Age'].fillna(df['Age'].median())\n",
    "updated_df1.info()"
   ]
  },
  {
   "cell_type": "code",
   "execution_count": 115,
   "id": "3406cc10-0cc6-48dd-8537-0ecbdec7bd2b",
   "metadata": {},
   "outputs": [
    {
     "data": {
      "text/plain": [
       "0    Male\n",
       "Name: Gender, dtype: object"
      ]
     },
     "execution_count": 115,
     "metadata": {},
     "output_type": "execute_result"
    }
   ],
   "source": [
    "df['Gender'].mode()"
   ]
  },
  {
   "cell_type": "code",
   "execution_count": 111,
   "id": "a16df2a9-11d2-4292-b7dc-5c236f5d3e58",
   "metadata": {},
   "outputs": [
    {
     "name": "stdout",
     "output_type": "stream",
     "text": [
      "<class 'pandas.core.frame.DataFrame'>\n",
      "RangeIndex: 10000 entries, 0 to 9999\n",
      "Data columns (total 13 columns):\n",
      " #   Column           Non-Null Count  Dtype  \n",
      "---  ------           --------------  -----  \n",
      " 0   CustomerId       10000 non-null  int64  \n",
      " 1   Surname          10000 non-null  object \n",
      " 2   CreditScore      10000 non-null  int64  \n",
      " 3   Geography        10000 non-null  object \n",
      " 4   Gender           9950 non-null   object \n",
      " 5   Age              10000 non-null  float64\n",
      " 6   Tenure           10000 non-null  int64  \n",
      " 7   Balance          10000 non-null  float64\n",
      " 8   NumOfProducts    10000 non-null  int64  \n",
      " 9   HasCrCard        10000 non-null  int64  \n",
      " 10  IsActiveMember   10000 non-null  int64  \n",
      " 11  EstimatedSalary  10000 non-null  float64\n",
      " 12  Exited           10000 non-null  int64  \n",
      "dtypes: float64(3), int64(7), object(3)\n",
      "memory usage: 1015.8+ KB\n"
     ]
    }
   ],
   "source": [
    "# fillna fills the null records\n",
    "updated_df['Gender'] = updated_df['Gender'].fillna(df['Gender'].mode())\n",
    "updated_df.info()"
   ]
  },
  {
   "cell_type": "markdown",
   "id": "0962547b-a9cb-4836-99a9-b459f7e746aa",
   "metadata": {},
   "source": [
    "### 4) Forward and Backward filling - Imputation"
   ]
  },
  {
   "cell_type": "code",
   "execution_count": 127,
   "id": "ed5d7db0-d83d-4fc3-ab5d-85136ee9d959",
   "metadata": {},
   "outputs": [],
   "source": [
    "df = pd.read_csv('../Data/Churn_Modelling.csv')\n",
    "# Manually Making Values Null / NaN\n",
    "df.loc[0:50, 'Gender'] = np.nan\n",
    "df['Age'] = df['Age'].where(df['Age'] < 70, np.nan)"
   ]
  },
  {
   "cell_type": "code",
   "execution_count": 128,
   "id": "d3abcabe-b25e-463e-ac1b-da140926c62f",
   "metadata": {},
   "outputs": [
    {
     "name": "stdout",
     "output_type": "stream",
     "text": [
      "<class 'pandas.core.frame.DataFrame'>\n",
      "RangeIndex: 10000 entries, 0 to 9999\n",
      "Data columns (total 14 columns):\n",
      " #   Column           Non-Null Count  Dtype  \n",
      "---  ------           --------------  -----  \n",
      " 0   RowNumber        10000 non-null  int64  \n",
      " 1   CustomerId       10000 non-null  int64  \n",
      " 2   Surname          10000 non-null  object \n",
      " 3   CreditScore      10000 non-null  int64  \n",
      " 4   Geography        10000 non-null  object \n",
      " 5   Gender           9949 non-null   object \n",
      " 6   Age              9849 non-null   float64\n",
      " 7   Tenure           10000 non-null  int64  \n",
      " 8   Balance          10000 non-null  float64\n",
      " 9   NumOfProducts    10000 non-null  int64  \n",
      " 10  HasCrCard        10000 non-null  int64  \n",
      " 11  IsActiveMember   10000 non-null  int64  \n",
      " 12  EstimatedSalary  10000 non-null  float64\n",
      " 13  Exited           10000 non-null  int64  \n",
      "dtypes: float64(3), int64(8), object(3)\n",
      "memory usage: 1.1+ MB\n"
     ]
    }
   ],
   "source": [
    "df.info()"
   ]
  },
  {
   "cell_type": "code",
   "execution_count": 140,
   "id": "f64e8972-2308-4728-8790-a431e7737933",
   "metadata": {},
   "outputs": [],
   "source": [
    "df1 = df\n",
    "# Backward filling\n",
    "df1['Age'] = df1['Age'].bfill()"
   ]
  },
  {
   "cell_type": "code",
   "execution_count": 135,
   "id": "128fde9f-a561-43d1-9ca2-cbf780352742",
   "metadata": {},
   "outputs": [
    {
     "name": "stdout",
     "output_type": "stream",
     "text": [
      "<class 'pandas.core.frame.DataFrame'>\n",
      "RangeIndex: 10000 entries, 0 to 9999\n",
      "Data columns (total 14 columns):\n",
      " #   Column           Non-Null Count  Dtype  \n",
      "---  ------           --------------  -----  \n",
      " 0   RowNumber        10000 non-null  int64  \n",
      " 1   CustomerId       10000 non-null  int64  \n",
      " 2   Surname          10000 non-null  object \n",
      " 3   CreditScore      10000 non-null  int64  \n",
      " 4   Geography        10000 non-null  object \n",
      " 5   Gender           9949 non-null   object \n",
      " 6   Age              10000 non-null  float64\n",
      " 7   Tenure           10000 non-null  int64  \n",
      " 8   Balance          10000 non-null  float64\n",
      " 9   NumOfProducts    10000 non-null  int64  \n",
      " 10  HasCrCard        10000 non-null  int64  \n",
      " 11  IsActiveMember   10000 non-null  int64  \n",
      " 12  EstimatedSalary  10000 non-null  float64\n",
      " 13  Exited           10000 non-null  int64  \n",
      "dtypes: float64(3), int64(8), object(3)\n",
      "memory usage: 1.1+ MB\n"
     ]
    }
   ],
   "source": [
    "df1.info()"
   ]
  },
  {
   "cell_type": "code",
   "execution_count": 139,
   "id": "0894f538-1971-47ef-b89e-1669ee590b85",
   "metadata": {},
   "outputs": [],
   "source": [
    "df2 = df\n",
    "# Forward filling\n",
    "df2['Age'] = df2['Age'].ffill()"
   ]
  },
  {
   "cell_type": "code",
   "execution_count": 138,
   "id": "0284bdab-5d65-4237-9f6e-0998dc945729",
   "metadata": {},
   "outputs": [
    {
     "name": "stdout",
     "output_type": "stream",
     "text": [
      "<class 'pandas.core.frame.DataFrame'>\n",
      "RangeIndex: 10000 entries, 0 to 9999\n",
      "Data columns (total 14 columns):\n",
      " #   Column           Non-Null Count  Dtype  \n",
      "---  ------           --------------  -----  \n",
      " 0   RowNumber        10000 non-null  int64  \n",
      " 1   CustomerId       10000 non-null  int64  \n",
      " 2   Surname          10000 non-null  object \n",
      " 3   CreditScore      10000 non-null  int64  \n",
      " 4   Geography        10000 non-null  object \n",
      " 5   Gender           9949 non-null   object \n",
      " 6   Age              10000 non-null  float64\n",
      " 7   Tenure           10000 non-null  int64  \n",
      " 8   Balance          10000 non-null  float64\n",
      " 9   NumOfProducts    10000 non-null  int64  \n",
      " 10  HasCrCard        10000 non-null  int64  \n",
      " 11  IsActiveMember   10000 non-null  int64  \n",
      " 12  EstimatedSalary  10000 non-null  float64\n",
      " 13  Exited           10000 non-null  int64  \n",
      "dtypes: float64(3), int64(8), object(3)\n",
      "memory usage: 1.1+ MB\n"
     ]
    }
   ],
   "source": [
    "df2.info()"
   ]
  },
  {
   "cell_type": "markdown",
   "id": "c53aaec2-bd8c-48c2-8a54-4c564692d5b9",
   "metadata": {},
   "source": [
    "## Feature Scaling"
   ]
  },
  {
   "cell_type": "code",
   "execution_count": 3,
   "id": "618be61d-b838-4dd5-b553-17bf4f67af04",
   "metadata": {},
   "outputs": [],
   "source": [
    "import numpy as np\n",
    "import pandas as pd\n",
    "import matplotlib.pyplot as plt\n",
    "import seaborn as sns"
   ]
  },
  {
   "cell_type": "code",
   "execution_count": 142,
   "id": "4b0fa2b0-29e0-4883-9af5-372abd130500",
   "metadata": {},
   "outputs": [],
   "source": [
    "df = pd.read_csv('../Data/Churn_Modelling.csv')\n",
    "# Manually Making Values Null / NaN\n",
    "df.loc[0:50, 'Gender'] = np.nan\n",
    "df['Age'] = df['Age'].where(df['Age'] < 70, np.nan)"
   ]
  },
  {
   "cell_type": "code",
   "execution_count": 143,
   "id": "490c0ce8-f315-4c30-9dab-c17b0d70955e",
   "metadata": {},
   "outputs": [
    {
     "name": "stdout",
     "output_type": "stream",
     "text": [
      "<class 'pandas.core.frame.DataFrame'>\n",
      "RangeIndex: 10000 entries, 0 to 9999\n",
      "Data columns (total 14 columns):\n",
      " #   Column           Non-Null Count  Dtype  \n",
      "---  ------           --------------  -----  \n",
      " 0   RowNumber        10000 non-null  int64  \n",
      " 1   CustomerId       10000 non-null  int64  \n",
      " 2   Surname          10000 non-null  object \n",
      " 3   CreditScore      10000 non-null  int64  \n",
      " 4   Geography        10000 non-null  object \n",
      " 5   Gender           9949 non-null   object \n",
      " 6   Age              9849 non-null   float64\n",
      " 7   Tenure           10000 non-null  int64  \n",
      " 8   Balance          10000 non-null  float64\n",
      " 9   NumOfProducts    10000 non-null  int64  \n",
      " 10  HasCrCard        10000 non-null  int64  \n",
      " 11  IsActiveMember   10000 non-null  int64  \n",
      " 12  EstimatedSalary  10000 non-null  float64\n",
      " 13  Exited           10000 non-null  int64  \n",
      "dtypes: float64(3), int64(8), object(3)\n",
      "memory usage: 1.1+ MB\n"
     ]
    }
   ],
   "source": [
    "df.info()"
   ]
  },
  {
   "cell_type": "code",
   "execution_count": 145,
   "id": "656ae461-119f-4f51-b9ca-fbde07c2a97d",
   "metadata": {},
   "outputs": [],
   "source": [
    "# uses z-score normalization\n",
    "from sklearn.preprocessing import StandardScaler\n",
    "# uses min-max normalization\n",
    "from sklearn.preprocessing import MinMaxScaler"
   ]
  },
  {
   "cell_type": "markdown",
   "id": "d679aac7-d556-4021-aac7-bc245d6149d6",
   "metadata": {},
   "source": [
    "### 1) Normalization"
   ]
  },
  {
   "cell_type": "code",
   "execution_count": 170,
   "id": "b5701b49-29e6-432d-a879-f10a028e702a",
   "metadata": {},
   "outputs": [
    {
     "data": {
      "text/html": [
       "<div>\n",
       "<style scoped>\n",
       "    .dataframe tbody tr th:only-of-type {\n",
       "        vertical-align: middle;\n",
       "    }\n",
       "\n",
       "    .dataframe tbody tr th {\n",
       "        vertical-align: top;\n",
       "    }\n",
       "\n",
       "    .dataframe thead th {\n",
       "        text-align: right;\n",
       "    }\n",
       "</style>\n",
       "<table border=\"1\" class=\"dataframe\">\n",
       "  <thead>\n",
       "    <tr style=\"text-align: right;\">\n",
       "      <th></th>\n",
       "      <th>Age</th>\n",
       "      <th>Tenure</th>\n",
       "    </tr>\n",
       "  </thead>\n",
       "  <tbody>\n",
       "    <tr>\n",
       "      <th>0</th>\n",
       "      <td>42.0</td>\n",
       "      <td>2</td>\n",
       "    </tr>\n",
       "    <tr>\n",
       "      <th>1</th>\n",
       "      <td>41.0</td>\n",
       "      <td>1</td>\n",
       "    </tr>\n",
       "    <tr>\n",
       "      <th>2</th>\n",
       "      <td>42.0</td>\n",
       "      <td>8</td>\n",
       "    </tr>\n",
       "    <tr>\n",
       "      <th>3</th>\n",
       "      <td>39.0</td>\n",
       "      <td>1</td>\n",
       "    </tr>\n",
       "    <tr>\n",
       "      <th>4</th>\n",
       "      <td>43.0</td>\n",
       "      <td>2</td>\n",
       "    </tr>\n",
       "  </tbody>\n",
       "</table>\n",
       "</div>"
      ],
      "text/plain": [
       "    Age  Tenure\n",
       "0  42.0       2\n",
       "1  41.0       1\n",
       "2  42.0       8\n",
       "3  39.0       1\n",
       "4  43.0       2"
      ]
     },
     "execution_count": 170,
     "metadata": {},
     "output_type": "execute_result"
    }
   ],
   "source": [
    "new_df = pd.DataFrame(df, columns=['Age','Tenure'])\n",
    "new_df.head()"
   ]
  },
  {
   "cell_type": "code",
   "execution_count": 171,
   "id": "727511a0-8203-404f-90aa-6a32f47c349d",
   "metadata": {},
   "outputs": [],
   "source": [
    "new_df['Age'] = new_df['Age'].fillna(new_df['Age'].mean())"
   ]
  },
  {
   "cell_type": "code",
   "execution_count": 195,
   "id": "86d4f59e-4f2e-462e-a379-f9de12f35e1f",
   "metadata": {},
   "outputs": [
    {
     "data": {
      "text/plain": [
       "array([[0.47058824, 0.2       ],\n",
       "       [0.45098039, 0.1       ],\n",
       "       [0.47058824, 0.8       ],\n",
       "       ...,\n",
       "       [0.35294118, 0.7       ],\n",
       "       [0.47058824, 0.3       ],\n",
       "       [0.19607843, 0.4       ]])"
      ]
     },
     "execution_count": 195,
     "metadata": {},
     "output_type": "execute_result"
    }
   ],
   "source": [
    "min_max_scaler = MinMaxScaler()\n",
    "normalized_df = min_max_scaler.fit_transform(new_df)\n",
    "normalized_df"
   ]
  },
  {
   "cell_type": "code",
   "execution_count": 196,
   "id": "849e221d-ddd2-4c9b-839d-9f5be6f85ef3",
   "metadata": {},
   "outputs": [
    {
     "data": {
      "text/plain": [
       "array([[0.25],\n",
       "       [0.75],\n",
       "       [1.  ],\n",
       "       [1.  ],\n",
       "       [0.  ],\n",
       "       [0.5 ],\n",
       "       [0.5 ]])"
      ]
     },
     "execution_count": 196,
     "metadata": {},
     "output_type": "execute_result"
    }
   ],
   "source": [
    "# another example\n",
    "x_arr = np.array([[3],[5],[6],[6],[2],[4],[4]])\n",
    "normalized_arr = min_max_scaler.fit_transform(x_arr)\n",
    "normalized_arr"
   ]
  },
  {
   "cell_type": "markdown",
   "id": "f5ec606b-390f-4e33-8bc6-d232736837b5",
   "metadata": {},
   "source": [
    "### 2) Standardization"
   ]
  },
  {
   "cell_type": "code",
   "execution_count": 200,
   "id": "c3d7ae47-b520-4440-bd74-01b83ecf1036",
   "metadata": {},
   "outputs": [
    {
     "data": {
      "text/plain": [
       "array([[ 0.38029491, -1.04175968],\n",
       "       [ 0.27523406, -1.38753759],\n",
       "       [ 0.38029491,  1.03290776],\n",
       "       ...,\n",
       "       [-0.25007023,  0.68712986],\n",
       "       [ 0.38029491, -0.69598177],\n",
       "       [-1.09055707, -0.35020386]])"
      ]
     },
     "execution_count": 200,
     "metadata": {},
     "output_type": "execute_result"
    }
   ],
   "source": [
    "std_scaler = StandardScaler()\n",
    "normalized_df = std_scaler.fit_transform(new_df)\n",
    "normalized_df"
   ]
  },
  {
   "cell_type": "code",
   "execution_count": 201,
   "id": "4101385a-d030-425a-8b41-7aa61e2b095b",
   "metadata": {},
   "outputs": [
    {
     "data": {
      "text/plain": [
       "array([[-0.92827912],\n",
       "       [ 0.51571062],\n",
       "       [ 1.2377055 ],\n",
       "       [ 1.2377055 ],\n",
       "       [-1.65027399],\n",
       "       [-0.20628425],\n",
       "       [-0.20628425]])"
      ]
     },
     "execution_count": 201,
     "metadata": {},
     "output_type": "execute_result"
    }
   ],
   "source": [
    "# another example\n",
    "x_arr = np.array([[3],[5],[6],[6],[2],[4],[4]])\n",
    "normalized_arr = std_scaler.fit_transform(x_arr)\n",
    "normalized_arr"
   ]
  },
  {
   "cell_type": "markdown",
   "id": "5a292698-a3c6-4a7c-8bf9-db3451a6915b",
   "metadata": {},
   "source": [
    "## Outlier Treatment"
   ]
  },
  {
   "cell_type": "markdown",
   "id": "b784cafa-8e65-4909-983c-09fd0ef5d43c",
   "metadata": {},
   "source": [
    "### 1) 3-Sigma Technique (Standard Deviation)"
   ]
  },
  {
   "cell_type": "code",
   "execution_count": 6,
   "id": "adf6c030-dec4-4cce-ad44-7eaf706089c3",
   "metadata": {},
   "outputs": [],
   "source": [
    "import numpy as np\n",
    "import pandas as pd\n",
    "import matplotlib.pyplot as plt\n",
    "import seaborn as sns\n",
    "import statistics"
   ]
  },
  {
   "cell_type": "code",
   "execution_count": 17,
   "id": "d3d6dfed-665e-4a51-a93e-599656be4311",
   "metadata": {},
   "outputs": [],
   "source": [
    "df = pd.read_csv('../Data/raw_sales.csv', parse_dates=True)"
   ]
  },
  {
   "cell_type": "code",
   "execution_count": 18,
   "id": "dbdcff1d-1382-4a6c-accb-259f085fee9e",
   "metadata": {},
   "outputs": [
    {
     "data": {
      "text/html": [
       "<div>\n",
       "<style scoped>\n",
       "    .dataframe tbody tr th:only-of-type {\n",
       "        vertical-align: middle;\n",
       "    }\n",
       "\n",
       "    .dataframe tbody tr th {\n",
       "        vertical-align: top;\n",
       "    }\n",
       "\n",
       "    .dataframe thead th {\n",
       "        text-align: right;\n",
       "    }\n",
       "</style>\n",
       "<table border=\"1\" class=\"dataframe\">\n",
       "  <thead>\n",
       "    <tr style=\"text-align: right;\">\n",
       "      <th></th>\n",
       "      <th>datesold</th>\n",
       "      <th>postcode</th>\n",
       "      <th>price</th>\n",
       "      <th>propertyType</th>\n",
       "      <th>bedrooms</th>\n",
       "    </tr>\n",
       "  </thead>\n",
       "  <tbody>\n",
       "    <tr>\n",
       "      <th>0</th>\n",
       "      <td>2007-02-07 00:00:00</td>\n",
       "      <td>2607</td>\n",
       "      <td>525000</td>\n",
       "      <td>house</td>\n",
       "      <td>4</td>\n",
       "    </tr>\n",
       "    <tr>\n",
       "      <th>1</th>\n",
       "      <td>2007-02-27 00:00:00</td>\n",
       "      <td>2906</td>\n",
       "      <td>290000</td>\n",
       "      <td>house</td>\n",
       "      <td>3</td>\n",
       "    </tr>\n",
       "    <tr>\n",
       "      <th>2</th>\n",
       "      <td>2007-03-07 00:00:00</td>\n",
       "      <td>2905</td>\n",
       "      <td>328000</td>\n",
       "      <td>house</td>\n",
       "      <td>3</td>\n",
       "    </tr>\n",
       "    <tr>\n",
       "      <th>3</th>\n",
       "      <td>2007-03-09 00:00:00</td>\n",
       "      <td>2905</td>\n",
       "      <td>380000</td>\n",
       "      <td>house</td>\n",
       "      <td>4</td>\n",
       "    </tr>\n",
       "    <tr>\n",
       "      <th>4</th>\n",
       "      <td>2007-03-21 00:00:00</td>\n",
       "      <td>2906</td>\n",
       "      <td>310000</td>\n",
       "      <td>house</td>\n",
       "      <td>3</td>\n",
       "    </tr>\n",
       "  </tbody>\n",
       "</table>\n",
       "</div>"
      ],
      "text/plain": [
       "              datesold  postcode   price propertyType  bedrooms\n",
       "0  2007-02-07 00:00:00      2607  525000        house         4\n",
       "1  2007-02-27 00:00:00      2906  290000        house         3\n",
       "2  2007-03-07 00:00:00      2905  328000        house         3\n",
       "3  2007-03-09 00:00:00      2905  380000        house         4\n",
       "4  2007-03-21 00:00:00      2906  310000        house         3"
      ]
     },
     "execution_count": 18,
     "metadata": {},
     "output_type": "execute_result"
    }
   ],
   "source": [
    "df.head()"
   ]
  },
  {
   "cell_type": "code",
   "execution_count": 19,
   "id": "e7c6fb34-0eba-4fc0-af75-eb3f87afb257",
   "metadata": {},
   "outputs": [],
   "source": [
    "def find_anomalies(data):\n",
    "    # List to accumulate anomalies\n",
    "    anomalies = []\n",
    "\n",
    "    # Calculate the mean and standard deviation of the data\n",
    "    data_mean = statistics.mean(data)\n",
    "    data_std = statistics.stdev(data)\n",
    "\n",
    "    # Define the cutoff for anomalies (3 standard deviations)\n",
    "    anomaly_cutoff = data_std * 3\n",
    "    lower_limit = data_mean - anomaly_cutoff\n",
    "    upper_limit = data_mean + anomaly_cutoff\n",
    "\n",
    "    # Identify outliers\n",
    "    for value in data:\n",
    "        if value < lower_limit or value > upper_limit:\n",
    "            anomalies.append(value)\n",
    "\n",
    "    return anomalies"
   ]
  },
  {
   "cell_type": "code",
   "execution_count": 28,
   "id": "3b3a4d0f-f86d-4cb5-b096-779ca491fbb8",
   "metadata": {},
   "outputs": [],
   "source": [
    "anomalies = find_anomalies(df.price)"
   ]
  },
  {
   "cell_type": "code",
   "execution_count": 29,
   "id": "5de89972-8c31-47fb-8217-2ce39dec1e45",
   "metadata": {},
   "outputs": [
    {
     "data": {
      "text/plain": [
       "461"
      ]
     },
     "execution_count": 29,
     "metadata": {},
     "output_type": "execute_result"
    }
   ],
   "source": [
    "len(anomalies)"
   ]
  },
  {
   "cell_type": "code",
   "execution_count": 30,
   "id": "0e2b43e2-c112-48f4-9387-04b821c961b1",
   "metadata": {},
   "outputs": [
    {
     "data": {
      "text/plain": [
       "29580"
      ]
     },
     "execution_count": 30,
     "metadata": {},
     "output_type": "execute_result"
    }
   ],
   "source": [
    "len(df)"
   ]
  },
  {
   "cell_type": "code",
   "execution_count": 58,
   "id": "ca6f8fb6-cf50-4562-9d8e-948d0c5b65fe",
   "metadata": {},
   "outputs": [
    {
     "data": {
      "text/plain": [
       "1.5584854631507776"
      ]
     },
     "execution_count": 58,
     "metadata": {},
     "output_type": "execute_result"
    }
   ],
   "source": [
    "# check if data is normaly distributed\n",
    "# percentage should be closer to 0.3%\n",
    "percentage = (len(anomalies) / len(df)) * 100\n",
    "percentage"
   ]
  },
  {
   "cell_type": "code",
   "execution_count": 38,
   "id": "fe02cd48-b676-450c-9908-bfa7182075ba",
   "metadata": {},
   "outputs": [
    {
     "name": "stdout",
     "output_type": "stream",
     "text": [
      "4.312009366902366\n"
     ]
    }
   ],
   "source": [
    "print(df.price.skew())"
   ]
  },
  {
   "cell_type": "code",
   "execution_count": 39,
   "id": "d7f6256b-fe1f-4394-9fbb-770ca3983164",
   "metadata": {},
   "outputs": [
    {
     "data": {
      "text/plain": [
       "<Axes: xlabel='price', ylabel='Density'>"
      ]
     },
     "execution_count": 39,
     "metadata": {},
     "output_type": "execute_result"
    },
    {
     "data": {
      "image/png": "[encoded data removed]",
      "text/plain": [
       "<Figure size 640x480 with 1 Axes>"
      ]
     },
     "metadata": {},
     "output_type": "display_data"
    }
   ],
   "source": [
    "sns.kdeplot(df.price)"
   ]
  },
  {
   "cell_type": "code",
   "execution_count": 40,
   "id": "e347f059-c1b7-4d56-9b10-45749692c3f9",
   "metadata": {},
   "outputs": [],
   "source": [
    "df['transformed_price'] = np.log(df.price)"
   ]
  },
  {
   "cell_type": "code",
   "execution_count": 42,
   "id": "5c9bf162-4fa7-4254-b09a-b1b91a2f2a0d",
   "metadata": {},
   "outputs": [
    {
     "name": "stdout",
     "output_type": "stream",
     "text": [
      "0.4731646269984763\n"
     ]
    }
   ],
   "source": [
    "print(df.transformed_price.skew())"
   ]
  },
  {
   "cell_type": "code",
   "execution_count": 43,
   "id": "395c2282-fdad-467b-b7b4-39f086b046d1",
   "metadata": {},
   "outputs": [],
   "source": [
    "anomalies2 = find_anomalies(df.transformed_price)"
   ]
  },
  {
   "cell_type": "code",
   "execution_count": 44,
   "id": "e94b933b-8693-4418-8e1f-7262ba4ae3b6",
   "metadata": {},
   "outputs": [
    {
     "data": {
      "text/plain": [
       "266"
      ]
     },
     "execution_count": 44,
     "metadata": {},
     "output_type": "execute_result"
    }
   ],
   "source": [
    "len(anomalies2)"
   ]
  },
  {
   "cell_type": "code",
   "execution_count": 59,
   "id": "72994866-a6a9-4f4f-8656-1848b658d3f8",
   "metadata": {},
   "outputs": [
    {
     "data": {
      "text/plain": [
       "0.8992562542258282"
      ]
     },
     "execution_count": 59,
     "metadata": {},
     "output_type": "execute_result"
    }
   ],
   "source": [
    "# check if data is normaly distributed\n",
    "# percentage should be closer to 0.3%\n",
    "percentage = (len(anomalies2) / len(df)) * 100\n",
    "percentage"
   ]
  },
  {
   "cell_type": "code",
   "execution_count": 47,
   "id": "2e427672-be8d-4318-8a09-d9a69c5bb448",
   "metadata": {},
   "outputs": [
    {
     "data": {
      "text/plain": [
       "<Axes: xlabel='transformed_price', ylabel='Density'>"
      ]
     },
     "execution_count": 47,
     "metadata": {},
     "output_type": "execute_result"
    },
    {
     "data": {
      "image/png": "[encoded data removed]",
      "text/plain": [
       "<Figure size 640x480 with 1 Axes>"
      ]
     },
     "metadata": {},
     "output_type": "display_data"
    }
   ],
   "source": [
    "sns.kdeplot(df.transformed_price)"
   ]
  },
  {
   "cell_type": "code",
   "execution_count": 48,
   "id": "abf37b23-93b0-4343-ade6-bd2cbe5bd88e",
   "metadata": {},
   "outputs": [],
   "source": [
    "df['double_transformed_price'] = np.log(df.transformed_price)"
   ]
  },
  {
   "cell_type": "code",
   "execution_count": 49,
   "id": "312d722b-8491-4f94-a587-7d22827c10d2",
   "metadata": {},
   "outputs": [
    {
     "name": "stdout",
     "output_type": "stream",
     "text": [
      "0.33092530655758573\n"
     ]
    }
   ],
   "source": [
    "print(df.double_transformed_price.skew())"
   ]
  },
  {
   "cell_type": "code",
   "execution_count": 50,
   "id": "de7fe448-593d-4f84-89d4-54f0e94cc10c",
   "metadata": {},
   "outputs": [],
   "source": [
    "anomalies3 = find_anomalies(df.double_transformed_price)"
   ]
  },
  {
   "cell_type": "code",
   "execution_count": 60,
   "id": "6f652d24-8ae4-40aa-b6ec-70f453cea849",
   "metadata": {},
   "outputs": [
    {
     "data": {
      "text/plain": [
       "0.8485463150777552"
      ]
     },
     "execution_count": 60,
     "metadata": {},
     "output_type": "execute_result"
    }
   ],
   "source": [
    "# check if data is normaly distributed\n",
    "# percentage should be closer to 0.3%\n",
    "percentage = (len(anomalies3) / len(df)) * 100\n",
    "percentage"
   ]
  },
  {
   "cell_type": "code",
   "execution_count": 61,
   "id": "099cc5a4-1027-45dc-adf8-e15595dc5367",
   "metadata": {},
   "outputs": [
    {
     "data": {
      "text/plain": [
       "<Axes: xlabel='double_transformed_price', ylabel='Density'>"
      ]
     },
     "execution_count": 61,
     "metadata": {},
     "output_type": "execute_result"
    },
    {
     "data": {
      "image/png": "[encoded data removed]",
      "text/plain": [
       "<Figure size 640x480 with 1 Axes>"
      ]
     },
     "metadata": {},
     "output_type": "display_data"
    }
   ],
   "source": [
    "sns.kdeplot(df.double_transformed_price)"
   ]
  },
  {
   "cell_type": "markdown",
   "id": "2c5d3404-b509-419d-85cb-593f5eec28b0",
   "metadata": {},
   "source": [
    "### 2) Boxplots"
   ]
  },
  {
   "cell_type": "code",
   "execution_count": null,
   "id": "8d156a54-b55d-44ea-886b-11b7b274fe59",
   "metadata": {},
   "outputs": [],
   "source": []
  }
 ],
 "metadata": {
  "kernelspec": {
   "display_name": "Python 3 (ipykernel)",
   "language": "python",
   "name": "python3"
  },
  "language_info": {
   "codemirror_mode": {
    "name": "ipython",
    "version": 3
   },
   "file_extension": ".py",
   "mimetype": "text/x-python",
   "name": "python",
   "nbconvert_exporter": "python",
   "pygments_lexer": "ipython3",
   "version": "3.12.4"
  }
 },
 "nbformat": 4,
 "nbformat_minor": 5
}
