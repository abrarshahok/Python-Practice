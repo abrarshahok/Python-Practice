{
 "cells": [
  {
   "cell_type": "code",
   "execution_count": 1,
   "metadata": {},
   "outputs": [],
   "source": [
    "import numpy as np"
   ]
  },
  {
   "cell_type": "code",
   "execution_count": 26,
   "metadata": {},
   "outputs": [
    {
     "data": {
      "text/plain": [
       "array([1, 2, 3, 4], dtype=int32)"
      ]
     },
     "execution_count": 26,
     "metadata": {},
     "output_type": "execute_result"
    }
   ],
   "source": [
    "a = np.array([1,2,3,4], dtype='i')\n",
    "a"
   ]
  },
  {
   "cell_type": "code",
   "execution_count": 27,
   "metadata": {
    "scrolled": true
   },
   "outputs": [
    {
     "data": {
      "text/plain": [
       "numpy.ndarray"
      ]
     },
     "execution_count": 27,
     "metadata": {},
     "output_type": "execute_result"
    }
   ],
   "source": [
    "type(a)"
   ]
  },
  {
   "cell_type": "code",
   "execution_count": 31,
   "metadata": {},
   "outputs": [
    {
     "data": {
      "text/plain": [
       "array([1., 2., 3., 5., 4.], dtype=float32)"
      ]
     },
     "execution_count": 31,
     "metadata": {},
     "output_type": "execute_result"
    }
   ],
   "source": [
    "b = np.array((1,2,3,5,4), dtype='f')\n",
    "b"
   ]
  },
  {
   "cell_type": "code",
   "execution_count": 32,
   "metadata": {},
   "outputs": [
    {
     "data": {
      "text/plain": [
       "numpy.ndarray"
      ]
     },
     "execution_count": 32,
     "metadata": {},
     "output_type": "execute_result"
    }
   ],
   "source": [
    "type(b)"
   ]
  },
  {
   "cell_type": "code",
   "execution_count": 38,
   "metadata": {},
   "outputs": [
    {
     "name": "stdout",
     "output_type": "stream",
     "text": [
      "float32\n"
     ]
    }
   ],
   "source": [
    "print(b.dtype);"
   ]
  },
  {
   "cell_type": "code",
   "execution_count": null,
   "metadata": {},
   "outputs": [],
   "source": [
    "#Numpy (Dimensions)"
   ]
  },
  {
   "cell_type": "code",
   "execution_count": 48,
   "metadata": {},
   "outputs": [
    {
     "data": {
      "text/plain": [
       "array([[ 1,  2,  3,  4],\n",
       "       [ 5,  6,  7,  8],\n",
       "       [ 9, 10, 11, 12]])"
      ]
     },
     "execution_count": 48,
     "metadata": {},
     "output_type": "execute_result"
    }
   ],
   "source": [
    "a = np.array([[1,2,3,4],[5,6,7,8],[9,10,11,12]])\n",
    "a"
   ]
  },
  {
   "cell_type": "code",
   "execution_count": 57,
   "metadata": {},
   "outputs": [
    {
     "name": "stdout",
     "output_type": "stream",
     "text": [
      "2\n"
     ]
    }
   ],
   "source": [
    "print(a.ndim)"
   ]
  },
  {
   "cell_type": "code",
   "execution_count": 52,
   "metadata": {},
   "outputs": [
    {
     "data": {
      "text/plain": [
       "array([[[ 1,  2,  3],\n",
       "        [ 4,  5,  6]],\n",
       "\n",
       "       [[ 7,  8,  9],\n",
       "        [10, 11, 12]]])"
      ]
     },
     "execution_count": 52,
     "metadata": {},
     "output_type": "execute_result"
    }
   ],
   "source": [
    "b = np.array([[[1,2,3],[4,5,6]],\n",
    "              [[7,8,9],[10,11,12]]])\n",
    "b"
   ]
  },
  {
   "cell_type": "code",
   "execution_count": 55,
   "metadata": {},
   "outputs": [
    {
     "name": "stdout",
     "output_type": "stream",
     "text": [
      "9\n"
     ]
    }
   ],
   "source": [
    "print(b[1][0][2])"
   ]
  },
  {
   "cell_type": "code",
   "execution_count": 67,
   "metadata": {},
   "outputs": [
    {
     "name": "stdout",
     "output_type": "stream",
     "text": [
      "(3, 4)\n"
     ]
    }
   ],
   "source": [
    "print(a.shape)"
   ]
  },
  {
   "cell_type": "code",
   "execution_count": 77,
   "metadata": {},
   "outputs": [
    {
     "name": "stdout",
     "output_type": "stream",
     "text": [
      "(2, 2, 3)\n",
      "2\n",
      "2\n",
      "3\n"
     ]
    }
   ],
   "source": [
    "print(b.shape)\n",
    "print(b.shape[0]) #tells how many 2D arrs\n",
    "print(b.shape[1]) #tells how many 1D arrs in 2D arr\n",
    "print(b.shape[2]) #tells how many elements in 1D arr"
   ]
  },
  {
   "cell_type": "code",
   "execution_count": 78,
   "metadata": {},
   "outputs": [
    {
     "data": {
      "text/plain": [
       "12"
      ]
     },
     "execution_count": 78,
     "metadata": {},
     "output_type": "execute_result"
    }
   ],
   "source": [
    "b.size"
   ]
  },
  {
   "cell_type": "code",
   "execution_count": 73,
   "metadata": {},
   "outputs": [
    {
     "data": {
      "text/plain": [
       "0"
      ]
     },
     "execution_count": 73,
     "metadata": {},
     "output_type": "execute_result"
    }
   ],
   "source": [
    "c = np.array(1)\n",
    "c.ndim\n",
    "d = np.array(2)\n",
    "d.ndim"
   ]
  },
  {
   "cell_type": "code",
   "execution_count": 81,
   "metadata": {},
   "outputs": [
    {
     "name": "stdout",
     "output_type": "stream",
     "text": [
      "3\n"
     ]
    }
   ],
   "source": [
    "e = c + d\n",
    "print(e)"
   ]
  },
  {
   "cell_type": "code",
   "execution_count": 83,
   "metadata": {},
   "outputs": [],
   "source": [
    "#Other Methods (arange, random, random.permutation, reshape)"
   ]
  },
  {
   "cell_type": "code",
   "execution_count": 89,
   "metadata": {},
   "outputs": [
    {
     "data": {
      "text/plain": [
       "array([ 0,  1,  2,  3,  4,  5,  6,  7,  8,  9, 10, 11, 12, 13, 14, 15, 16,\n",
       "       17, 18, 19, 20, 21, 22, 23, 24, 25, 26, 27, 28, 29, 30, 31, 32, 33,\n",
       "       34, 35, 36, 37, 38, 39, 40, 41, 42, 43, 44, 45, 46, 47, 48, 49, 50,\n",
       "       51, 52, 53, 54, 55, 56, 57, 58, 59, 60, 61, 62, 63, 64, 65, 66, 67,\n",
       "       68, 69, 70, 71, 72, 73, 74, 75, 76, 77, 78, 79, 80, 81, 82, 83, 84,\n",
       "       85, 86, 87, 88, 89, 90, 91, 92, 93, 94, 95, 96, 97, 98, 99])"
      ]
     },
     "execution_count": 89,
     "metadata": {},
     "output_type": "execute_result"
    }
   ],
   "source": [
    "a = np.arange(100)\n",
    "a"
   ]
  },
  {
   "cell_type": "code",
   "execution_count": 104,
   "metadata": {},
   "outputs": [
    {
     "data": {
      "text/plain": [
       "array([ 0,  2,  4,  6,  8, 10, 12, 14, 16, 18, 20, 22, 24, 26, 28, 30, 32,\n",
       "       34, 36, 38, 40, 42, 44, 46, 48, 50, 52, 54, 56, 58, 60, 62, 64, 66,\n",
       "       68, 70, 72, 74, 76, 78, 80, 82, 84, 86, 88, 90, 92, 94, 96, 98])"
      ]
     },
     "execution_count": 104,
     "metadata": {},
     "output_type": "execute_result"
    }
   ],
   "source": [
    "b = np.arange(1,101)\n",
    "b\n",
    "a = np.arange(0,100,2)\n",
    "a"
   ]
  },
  {
   "cell_type": "code",
   "execution_count": null,
   "metadata": {},
   "outputs": [],
   "source": []
  },
  {
   "cell_type": "code",
   "execution_count": 92,
   "metadata": {
    "scrolled": true
   },
   "outputs": [
    {
     "data": {
      "text/plain": [
       "array([  1,   2,   3,   4,   5,   6,   7,   8,   9,  10,  11,  12,  13,\n",
       "        14,  15,  16,  17,  18,  19,  20,  21,  22,  23,  24,  25,  26,\n",
       "        27,  28,  29,  30,  31,  32,  33,  34,  35,  36,  37,  38,  39,\n",
       "        40,  41,  42,  43,  44,  45,  46,  47,  48,  49,  50,  51,  52,\n",
       "        53,  54,  55,  56,  57,  58,  59,  60,  61,  62,  63,  64,  65,\n",
       "        66,  67,  68,  69,  70,  71,  72,  73,  74,  75,  76,  77,  78,\n",
       "        79,  80,  81,  82,  83,  84,  85,  86,  87,  88,  89,  90,  91,\n",
       "        92,  93,  94,  95,  96,  97,  98,  99, 100])"
      ]
     },
     "execution_count": 92,
     "metadata": {},
     "output_type": "execute_result"
    }
   ],
   "source": [
    "b = np.arange(1,101)\n",
    "b"
   ]
  },
  {
   "cell_type": "code",
   "execution_count": 105,
   "metadata": {
    "scrolled": true
   },
   "outputs": [
    {
     "data": {
      "text/plain": [
       "array([[[ 0,  1,  2,  3,  4],\n",
       "        [ 5,  6,  7,  8,  9]],\n",
       "\n",
       "       [[10, 11, 12, 13, 14],\n",
       "        [15, 16, 17, 18, 19]]])"
      ]
     },
     "execution_count": 105,
     "metadata": {},
     "output_type": "execute_result"
    }
   ],
   "source": [
    "c = np.array([[np.arange(5), np.arange(5,10)], \n",
    "              [np.arange(10,15), np.arange(15,20)]])\n",
    "c"
   ]
  },
  {
   "cell_type": "code",
   "execution_count": 107,
   "metadata": {},
   "outputs": [
    {
     "name": "stdout",
     "output_type": "stream",
     "text": [
      "range(0, 10)\n"
     ]
    }
   ],
   "source": [
    "print(range(10))"
   ]
  },
  {
   "cell_type": "code",
   "execution_count": 110,
   "metadata": {},
   "outputs": [
    {
     "name": "stdout",
     "output_type": "stream",
     "text": [
      "[0, 1, 2, 3, 4, 5, 6, 7, 8, 9]\n"
     ]
    }
   ],
   "source": [
    "print(list(range(10)))"
   ]
  },
  {
   "cell_type": "code",
   "execution_count": 118,
   "metadata": {},
   "outputs": [
    {
     "data": {
      "text/plain": [
       "array([9, 0, 8, 4, 6, 5, 7, 3, 1, 2])"
      ]
     },
     "execution_count": 118,
     "metadata": {},
     "output_type": "execute_result"
    }
   ],
   "source": [
    "a = np.random.permutation(np.arange(10))\n",
    "a"
   ]
  },
  {
   "cell_type": "code",
   "execution_count": 4,
   "metadata": {},
   "outputs": [
    {
     "name": "stdout",
     "output_type": "stream",
     "text": [
      "<class 'int'>\n",
      "21\n"
     ]
    }
   ],
   "source": [
    "b = np.random.randint(10,100)\n",
    "print(type(b))\n",
    "print(b)"
   ]
  },
  {
   "cell_type": "code",
   "execution_count": 21,
   "metadata": {},
   "outputs": [
    {
     "data": {
      "text/plain": [
       "array([7.39991219e-01, 4.49965766e-01, 8.96044080e-01, 7.29604635e-01,\n",
       "       7.62106364e-01, 2.30422958e-01, 3.85663138e-01, 2.17291374e-01,\n",
       "       3.44814416e-01, 5.69971911e-01, 6.37395826e-01, 4.26446418e-01,\n",
       "       4.60179353e-01, 5.66613529e-02, 9.08524765e-01, 1.88431758e-01,\n",
       "       7.42527777e-01, 9.79200320e-01, 6.82218577e-01, 4.82717380e-01,\n",
       "       6.14486398e-01, 2.86546557e-01, 8.73672380e-01, 9.60292918e-01,\n",
       "       2.68396114e-01, 9.40217737e-01, 2.30015779e-01, 1.54570868e-01,\n",
       "       4.39465623e-01, 7.80072055e-01, 1.83774618e-03, 3.34813499e-01,\n",
       "       4.66421871e-01, 8.88919153e-01, 8.86006804e-01, 9.03431784e-01,\n",
       "       6.11406710e-01, 3.53888816e-01, 2.33742575e-01, 2.82824790e-01,\n",
       "       1.94741795e-01, 1.54756878e-01, 3.98345135e-01, 6.75994423e-01,\n",
       "       5.98752116e-01, 8.95012195e-01, 9.85769806e-03, 1.15379351e-01,\n",
       "       3.87074049e-01, 4.20738595e-01, 9.02454884e-01, 5.52402826e-01,\n",
       "       2.50083577e-01, 6.45788452e-01, 2.64443057e-01, 8.36606779e-01,\n",
       "       2.38536637e-01, 5.98152453e-01, 5.11549216e-01, 6.55335428e-01,\n",
       "       7.12220656e-01, 8.24546180e-01, 3.14319200e-01, 1.54801581e-01,\n",
       "       2.70787930e-01, 9.25734997e-01, 2.42973928e-01, 1.27703276e-01,\n",
       "       4.09755628e-01, 3.24524982e-01, 3.76318947e-01, 2.25726234e-01,\n",
       "       7.16969799e-03, 9.66891998e-01, 1.34559703e-01, 3.23166498e-01,\n",
       "       8.48896029e-01, 8.55740171e-02, 5.44687867e-01, 7.24506813e-01,\n",
       "       8.36485591e-01, 1.10844521e-01, 1.91140251e-01, 3.25567805e-01,\n",
       "       3.69596405e-01, 9.38210171e-01, 1.96252566e-01, 9.15575493e-01,\n",
       "       3.66397623e-01, 7.87759675e-02, 1.63282287e-01, 3.36145495e-01,\n",
       "       8.12209870e-01, 5.14491891e-01, 5.63115251e-01, 3.79149011e-01,\n",
       "       2.85195439e-01, 4.96102014e-01, 5.58031805e-01, 5.69140099e-01,\n",
       "       4.89606333e-01, 5.68031882e-01, 9.43223581e-01, 9.70626060e-01,\n",
       "       9.31976828e-01, 2.71484279e-02, 5.05778266e-02, 7.68236924e-01,\n",
       "       9.45152244e-01, 3.39101011e-01, 3.00450087e-01, 2.51958756e-01,\n",
       "       8.53076891e-01, 1.17105934e-01, 9.05129321e-01, 1.49735315e-01,\n",
       "       9.85991696e-01, 2.63071793e-01, 4.42458662e-01, 3.87414562e-01,\n",
       "       1.16462105e-01, 1.29594509e-01, 8.10423636e-03, 4.02860977e-01,\n",
       "       2.68852932e-01, 3.03955125e-01, 8.43750724e-01, 8.98888823e-01,\n",
       "       9.54099360e-01, 9.81126180e-01, 1.75752131e-01, 8.23128128e-01,\n",
       "       7.11526500e-01, 7.35855370e-01, 8.28908927e-01, 2.32707926e-01,\n",
       "       8.24500411e-01, 7.20189886e-01, 5.17570349e-01, 7.33137818e-01,\n",
       "       3.97338264e-01, 4.46410855e-01, 8.97416554e-01, 7.32149604e-01,\n",
       "       4.95373262e-01, 1.35115369e-01, 4.76387754e-01, 6.00056981e-01,\n",
       "       2.31703821e-01, 5.02424159e-01, 7.48521406e-01, 9.24570584e-01,\n",
       "       9.56154910e-01, 1.07422235e-01, 2.90813309e-01, 8.26285749e-01,\n",
       "       8.13094890e-01, 6.58530983e-01, 6.60214136e-01, 3.57635735e-02,\n",
       "       3.71715273e-01, 7.57529805e-01, 2.07422156e-01, 4.47150480e-01,\n",
       "       4.47012547e-01, 7.12022977e-01, 4.88588676e-02, 4.88178967e-01,\n",
       "       6.12163884e-03, 7.41195607e-02, 5.59551181e-01, 8.44596229e-01,\n",
       "       7.25163230e-02, 1.62034715e-02, 6.56669964e-01, 7.07753248e-01,\n",
       "       8.81869572e-01, 7.08941906e-01, 7.57484382e-01, 4.70558169e-01,\n",
       "       3.12803768e-01, 4.45086802e-01, 8.84493808e-01, 9.59376837e-01,\n",
       "       1.71069492e-01, 9.13684428e-02, 7.29604306e-01, 4.44874105e-01,\n",
       "       2.92683937e-02, 8.93879828e-01, 7.74016354e-01, 2.42545699e-01,\n",
       "       4.73565832e-01, 4.90141244e-01, 8.88511147e-01, 4.35571906e-01,\n",
       "       5.84552572e-01, 9.14843366e-01, 7.64138853e-01, 8.78428452e-01,\n",
       "       2.41978782e-01, 7.39433245e-01, 1.08564409e-01, 9.80564734e-01,\n",
       "       2.34378102e-01, 4.50976233e-01, 8.05892926e-01, 2.96086581e-01,\n",
       "       7.22143982e-01, 2.36145268e-01, 8.61228985e-01, 8.28459093e-01,\n",
       "       7.34584611e-01, 1.53466979e-01, 4.76408527e-02, 9.91268174e-01,\n",
       "       8.68876647e-01, 4.84657690e-03, 6.06691803e-01, 1.28854536e-01,\n",
       "       6.40741696e-01, 2.88278472e-01, 2.90116683e-01, 3.03837411e-01,\n",
       "       4.86074936e-01, 7.59817407e-02, 9.87871191e-01, 1.75521410e-01,\n",
       "       5.03622592e-01, 8.86056323e-01, 7.45721512e-01, 1.55452292e-02,\n",
       "       5.84074555e-01, 9.83901539e-01, 2.03226273e-01, 6.12229917e-01,\n",
       "       8.76501100e-01, 3.85840620e-01, 3.83885943e-01, 1.84428749e-01,\n",
       "       8.13550714e-01, 6.24478110e-01, 3.48918914e-01, 7.85461148e-01,\n",
       "       7.36912169e-01, 1.85464033e-02, 4.71790317e-01, 4.70724208e-01,\n",
       "       3.40730116e-01, 4.99890197e-01, 6.63418862e-01, 6.89408925e-01,\n",
       "       8.49305751e-01, 4.98403844e-02, 5.30943682e-01, 3.90569982e-01,\n",
       "       1.30004803e-02, 1.30254907e-01, 4.47471308e-01, 7.59152481e-01,\n",
       "       3.60694668e-01, 5.68003087e-01, 5.51197065e-01, 1.47996434e-01,\n",
       "       7.82234038e-01, 1.97421672e-01, 4.11384237e-02, 3.46030219e-01,\n",
       "       2.79244755e-01, 7.62616068e-01, 2.24628001e-01, 3.37782459e-01,\n",
       "       7.47124180e-01, 2.39305872e-01, 4.55589026e-01, 9.79374328e-01,\n",
       "       5.68720670e-01, 1.31167912e-01, 1.32096419e-01, 6.37345829e-01,\n",
       "       4.14061845e-01, 3.08007596e-02, 5.53642644e-01, 1.81646178e-01,\n",
       "       9.68206717e-01, 6.56141939e-01, 2.06848317e-02, 6.89520872e-01,\n",
       "       5.32383883e-01, 9.92048616e-01, 5.93321676e-02, 8.31629307e-01,\n",
       "       2.63553882e-01, 6.23662225e-01, 9.68323127e-01, 2.69604143e-01,\n",
       "       1.89313711e-01, 2.54818825e-01, 7.33984256e-01, 7.22463370e-02,\n",
       "       8.41346522e-01, 3.72043115e-01, 1.19351351e-01, 1.51828492e-01,\n",
       "       7.27153431e-01, 1.35058319e-01, 8.20715645e-02, 2.19166472e-01,\n",
       "       5.08202299e-01, 9.77722793e-01, 5.57568784e-01, 4.78504703e-01,\n",
       "       8.21729785e-02, 3.61761219e-01, 2.39318144e-01, 7.26416369e-01,\n",
       "       3.85741445e-01, 8.99070094e-01, 2.58157238e-01, 1.54152393e-01,\n",
       "       6.90470251e-01, 1.42925371e-01, 1.46778832e-01, 6.56915830e-01,\n",
       "       4.77911526e-01, 5.52402290e-01, 3.99867160e-01, 1.48003798e-02,\n",
       "       7.12552914e-01, 7.18748241e-01, 4.49233135e-01, 6.47433136e-01,\n",
       "       6.65656461e-01, 8.96183237e-01, 5.45996429e-01, 3.10009590e-01,\n",
       "       1.82587359e-01, 9.05340872e-02, 4.82906587e-01, 5.93874925e-01,\n",
       "       8.82965632e-01, 9.91760511e-02, 8.13520258e-01, 8.13542968e-01,\n",
       "       9.54057915e-01, 3.49468827e-02, 6.50606763e-01, 3.07640585e-01,\n",
       "       5.29863670e-01, 6.49017142e-01, 8.79877213e-02, 7.82827867e-02,\n",
       "       1.35540104e-01, 8.14900461e-01, 3.48067954e-01, 7.67099873e-01,\n",
       "       3.82424500e-01, 1.80832995e-01, 5.52028698e-01, 5.81710029e-02,\n",
       "       5.52189385e-01, 1.30245784e-01, 4.52709283e-01, 3.98745122e-01,\n",
       "       7.09728221e-01, 8.03077343e-01, 6.63574803e-01, 3.83567902e-01,\n",
       "       1.08954128e-01, 6.81805010e-01, 2.82595936e-01, 2.84097202e-01,\n",
       "       7.61210725e-01, 4.94093799e-01, 4.38715654e-01, 2.42131538e-01,\n",
       "       6.76457634e-01, 9.93003999e-01, 1.84114542e-01, 7.21259388e-01,\n",
       "       8.33765532e-01, 2.79420056e-01, 9.38698225e-02, 2.06078214e-01,\n",
       "       4.71652656e-01, 1.18363971e-01, 3.31695413e-01, 3.70052564e-01,\n",
       "       6.72091827e-01, 8.10629188e-01, 5.86642054e-01, 6.04424209e-01,\n",
       "       2.54703837e-01, 2.44220152e-01, 9.90155046e-01, 1.64658633e-01,\n",
       "       9.10535938e-01, 1.86199021e-01, 3.61403097e-01, 4.77759171e-01,\n",
       "       5.31672651e-01, 7.10524033e-01, 7.98260373e-01, 3.83593605e-01,\n",
       "       9.62691022e-01, 2.13025659e-01, 9.44433327e-01, 3.85624502e-01,\n",
       "       2.05220055e-01, 6.25766668e-01, 6.83184034e-01, 7.67779511e-01,\n",
       "       2.28657298e-01, 9.18677936e-01, 3.91838489e-01, 5.17050520e-01,\n",
       "       5.82237399e-01, 7.20307528e-01, 5.31083429e-01, 1.23997489e-01,\n",
       "       8.32141051e-01, 9.89271008e-01, 7.49310789e-01, 5.14089039e-01,\n",
       "       9.23431222e-01, 9.18870649e-01, 2.07106750e-01, 1.64987930e-01,\n",
       "       1.70250227e-01, 2.32034962e-01, 3.97988692e-01, 5.09078680e-01,\n",
       "       2.68798986e-01, 5.59641179e-01, 4.71862514e-01, 6.60961866e-02,\n",
       "       7.91838151e-01, 1.30304483e-01, 2.59081453e-01, 1.67431835e-01,\n",
       "       8.66355418e-01, 3.08019325e-01, 2.38373353e-01, 8.34985768e-01,\n",
       "       1.79455228e-01, 2.28568517e-01, 1.24494428e-01, 8.94800460e-01,\n",
       "       2.93001583e-01, 8.16653665e-01, 4.31237858e-02, 7.68009657e-01,\n",
       "       7.80959417e-01, 8.12938613e-01, 3.19727843e-01, 2.17457985e-01,\n",
       "       1.71035403e-01, 2.77292349e-01, 2.01555234e-01, 5.91891648e-01,\n",
       "       4.85312617e-01, 4.26737515e-02, 8.00420884e-01, 6.02256110e-01,\n",
       "       2.91491579e-01, 3.39980807e-01, 9.99022899e-01, 1.20317506e-01,\n",
       "       8.09238171e-01, 7.65912587e-01, 9.41064579e-01, 3.70949387e-01,\n",
       "       6.36152238e-01, 2.05443267e-01, 5.06038155e-01, 8.30321868e-01,\n",
       "       9.53140102e-01, 7.13740733e-01, 8.40174816e-01, 7.08725958e-01,\n",
       "       8.51582387e-01, 9.20705449e-01, 8.68558571e-01, 6.05004508e-01,\n",
       "       7.56962362e-01, 6.53512104e-01, 2.06301889e-01, 7.23566290e-01,\n",
       "       3.86963986e-01, 2.48185919e-01, 2.09797917e-01, 3.52009905e-01,\n",
       "       6.60731017e-01, 5.85438566e-02, 9.04263861e-01, 8.87905864e-01,\n",
       "       1.94784009e-01, 7.57409114e-01, 3.16522896e-01, 4.60042546e-01,\n",
       "       1.45376655e-01, 7.86366138e-01, 9.32441570e-01, 6.71665487e-01,\n",
       "       3.33157475e-02, 5.90530995e-01, 3.96585241e-01, 9.02785521e-01,\n",
       "       2.21110267e-01, 4.15038865e-01, 9.26536018e-01, 6.00069810e-01,\n",
       "       4.93903465e-01, 9.43916543e-01, 5.42410456e-01, 4.16246465e-01,\n",
       "       6.30599836e-01, 9.28691129e-01, 7.31771986e-01, 9.41365699e-01,\n",
       "       3.00209977e-01, 3.85829062e-01, 9.63757357e-01, 8.07198044e-01,\n",
       "       2.99949837e-01, 7.15870535e-01, 5.87168032e-01, 9.73272460e-01,\n",
       "       4.09873463e-02, 6.61730543e-02, 5.10368796e-01, 7.73974996e-02,\n",
       "       4.09419062e-01, 5.99508194e-01, 6.78604217e-01, 1.62382961e-01,\n",
       "       5.21505386e-01, 8.26896181e-01, 8.83777031e-02, 3.11272534e-01,\n",
       "       9.07781131e-01, 4.02918775e-01, 5.57376446e-01, 2.28785700e-01,\n",
       "       7.60792089e-01, 9.98843486e-01, 5.05316826e-01, 4.25716359e-01,\n",
       "       8.00774167e-01, 5.44460727e-01, 4.15252333e-01, 9.33739122e-02,\n",
       "       9.65174108e-01, 4.80697800e-01, 5.93116791e-01, 6.66998316e-01,\n",
       "       3.18923032e-01, 1.93483917e-01, 8.41411817e-01, 3.07708523e-01,\n",
       "       1.32590669e-01, 4.61840835e-01, 2.83603973e-01, 2.68755555e-01,\n",
       "       7.42886992e-01, 5.93485693e-02, 1.16503490e-01, 5.24002985e-02,\n",
       "       8.61372311e-02, 7.41775831e-01, 6.65099849e-01, 7.08945867e-01,\n",
       "       3.42467556e-01, 3.80157899e-01, 5.72707345e-01, 5.79251636e-01,\n",
       "       2.92363780e-01, 3.82928681e-01, 6.57918681e-01, 4.44837863e-02,\n",
       "       7.08632613e-01, 3.65103584e-02, 3.93853946e-01, 1.70398231e-04,\n",
       "       4.48289003e-01, 7.28398282e-01, 6.81688224e-01, 1.66839354e-01,\n",
       "       6.56912467e-01, 9.68653213e-01, 7.98398976e-01, 8.95536961e-01,\n",
       "       3.09131836e-01, 6.20333744e-01, 8.58614642e-01, 4.83543737e-01,\n",
       "       9.79350105e-01, 6.04869567e-01, 5.46249298e-01, 5.95442539e-01,\n",
       "       5.25379111e-01, 4.08319942e-01, 3.12437169e-01, 5.15756073e-01,\n",
       "       3.41496101e-01, 9.85000679e-01, 9.35995536e-01, 6.76760352e-01,\n",
       "       8.20787280e-01, 6.89419813e-01, 9.13721092e-01, 2.19526917e-01,\n",
       "       3.71353489e-01, 9.04546444e-01, 8.44070867e-01, 5.09763290e-01,\n",
       "       8.73212762e-01, 1.23963999e-01, 9.77499947e-01, 2.85523045e-01,\n",
       "       6.79536330e-01, 5.56233705e-01, 5.35931851e-01, 5.76796971e-02,\n",
       "       1.18576341e-01, 6.96508164e-01, 8.42454195e-01, 2.39178002e-01,\n",
       "       3.57104584e-01, 6.55048008e-01, 5.11848989e-01, 6.27293806e-01,\n",
       "       8.99610031e-01, 2.72339835e-01, 4.10706870e-05, 6.32742101e-01,\n",
       "       6.60353093e-01, 1.36246602e-01, 2.05926763e-01, 3.50845597e-01,\n",
       "       7.85984749e-01, 4.48142269e-01, 8.61594408e-01, 4.43433521e-01,\n",
       "       4.35652394e-01, 2.88785430e-01, 7.72442293e-01, 9.41075647e-01,\n",
       "       6.74191450e-01, 1.30827239e-01, 6.35455412e-01, 7.12010705e-01,\n",
       "       8.45451400e-02, 4.81876201e-01, 3.45697904e-01, 8.89151196e-01,\n",
       "       9.19319558e-01, 4.67652430e-01, 3.16957434e-01, 6.54182137e-01,\n",
       "       2.97508382e-01, 3.37906206e-01, 9.86767478e-01, 5.11524474e-01,\n",
       "       1.28137870e-01, 4.83845814e-01, 1.18875950e-01, 8.58925955e-01,\n",
       "       2.82580398e-02, 9.64267158e-01, 8.82886195e-01, 6.75951443e-01,\n",
       "       1.85864809e-01, 2.18541232e-01, 4.90395323e-01, 1.74595095e-02,\n",
       "       2.89813362e-02, 8.33410317e-01, 2.94056547e-01, 3.86477026e-01,\n",
       "       8.34832776e-01, 8.28383018e-01, 9.78682893e-01, 2.13592331e-01,\n",
       "       8.21090730e-01, 8.46739543e-01, 5.57834141e-01, 9.58535554e-01,\n",
       "       4.40152319e-01, 4.87433300e-02, 4.60003164e-01, 8.16328486e-01,\n",
       "       8.17604268e-01, 9.22410126e-02, 9.39549284e-01, 2.75247668e-01,\n",
       "       6.58950824e-01, 1.42398912e-01, 8.30660691e-01, 7.51828183e-01,\n",
       "       3.91012847e-01, 3.20444987e-01, 6.21795618e-01, 5.24051736e-01,\n",
       "       5.93242176e-01, 3.85385674e-01, 6.62098211e-01, 7.55194993e-01,\n",
       "       5.61102789e-01, 9.17177562e-01, 7.80442110e-01, 8.77479916e-01,\n",
       "       9.48863460e-01, 5.91849648e-01, 1.37319977e-01, 7.45247039e-01,\n",
       "       3.27498210e-01, 8.24945916e-02, 5.20268423e-01, 8.74737698e-01,\n",
       "       8.13940645e-01, 4.91763887e-01, 3.10965638e-01, 5.80246340e-01,\n",
       "       7.50213176e-01, 9.83543767e-01, 2.43834481e-01, 1.17136448e-01,\n",
       "       7.20037617e-03, 3.44038813e-01, 5.92343769e-01, 7.43545827e-01,\n",
       "       9.57268961e-01, 9.96561901e-01, 9.69938774e-01, 8.97621924e-01,\n",
       "       9.57549976e-01, 8.31028047e-01, 6.31117664e-01, 1.69952761e-01,\n",
       "       2.02282244e-01, 1.16855270e-01, 6.79473868e-01, 7.90385220e-01,\n",
       "       8.33842770e-01, 9.85800030e-01, 6.00546482e-01, 3.77650122e-01,\n",
       "       4.11048592e-01, 4.81642611e-01, 1.47122339e-01, 8.67066065e-01,\n",
       "       3.50164534e-01, 1.35361540e-01, 2.19927422e-01, 9.51991497e-01,\n",
       "       2.98991610e-02, 3.55867871e-01, 9.89082869e-01, 9.74270967e-01,\n",
       "       3.24985359e-01, 2.93860790e-01, 4.63791983e-01, 3.24625845e-01,\n",
       "       9.43627013e-01, 2.93264654e-02, 3.67443368e-01, 1.02899549e-01,\n",
       "       7.60195820e-01, 4.80661622e-01, 2.13599013e-01, 5.42078981e-01,\n",
       "       4.43422846e-01, 4.57697645e-02, 7.27544824e-01, 3.64908132e-01,\n",
       "       6.69502475e-01, 6.59732172e-01, 9.77854394e-01, 8.77752258e-01,\n",
       "       3.08433589e-01, 1.39375227e-01, 9.28289363e-01, 7.55388846e-01,\n",
       "       6.61916502e-01, 2.37483267e-02, 9.16984783e-01, 4.71613371e-01,\n",
       "       3.74385510e-01, 5.51204258e-01, 8.38154676e-01, 3.03756575e-01,\n",
       "       3.94270434e-01, 2.50534396e-01, 8.41639113e-01, 9.63931676e-01,\n",
       "       8.37782446e-01, 9.55254722e-01, 6.14062732e-01, 4.22934446e-01,\n",
       "       2.79530693e-01, 3.10280606e-01, 2.91150135e-01, 9.29258892e-02,\n",
       "       6.83245723e-01, 5.49786499e-01, 2.46973624e-01, 5.87226300e-01,\n",
       "       9.48913042e-01, 6.65445992e-01, 3.38306199e-01, 5.18703392e-01,\n",
       "       3.95507612e-01, 8.12148119e-01, 1.39465147e-01, 6.44108840e-01,\n",
       "       9.92516866e-01, 6.52056304e-01, 3.79808942e-01, 9.43201620e-02,\n",
       "       8.59804724e-01, 5.54440823e-01, 6.95344042e-01, 7.31547340e-01,\n",
       "       4.01624675e-01, 1.04480074e-01, 9.44850757e-01, 5.24917587e-01,\n",
       "       5.68952292e-01, 2.50599932e-01, 9.42571013e-01, 7.70007144e-01,\n",
       "       4.06515414e-01, 5.23118957e-01, 1.95261893e-01, 9.40973984e-01,\n",
       "       3.32558407e-01, 8.48240930e-02, 7.67382016e-01, 7.38576833e-01,\n",
       "       3.08720924e-01, 4.67951019e-01, 9.99377596e-01, 7.10555134e-01,\n",
       "       2.33344874e-01, 4.51245951e-01, 6.66488610e-01, 6.80787207e-01,\n",
       "       2.19440687e-01, 2.33478310e-01, 6.94565511e-01, 4.52824524e-01,\n",
       "       4.65168931e-01, 4.92837819e-01, 9.75922175e-01, 1.19831428e-02,\n",
       "       1.67247551e-01, 2.53227654e-01, 5.95932967e-01, 9.25477021e-01,\n",
       "       6.34340606e-01, 8.21694938e-01, 8.85305088e-02, 8.69770947e-01,\n",
       "       7.97721884e-01, 8.58461029e-01, 4.47947709e-01, 8.06195278e-01,\n",
       "       5.18871838e-01, 8.79831613e-01, 4.85390298e-01, 5.37362609e-02,\n",
       "       7.75517801e-01, 9.89127100e-01, 4.65742343e-01, 1.77005034e-01,\n",
       "       4.85491477e-01, 1.21473824e-01, 6.68512010e-01, 5.05082570e-01,\n",
       "       3.04714001e-01, 5.45510486e-01, 3.10664151e-01, 7.59408375e-01,\n",
       "       8.09228793e-01, 5.01162172e-01, 8.65206624e-01, 8.48798916e-01,\n",
       "       2.65576282e-01, 9.72604568e-01, 1.40962962e-01, 8.09492573e-01,\n",
       "       5.96665146e-01, 6.41243243e-01, 1.49858460e-01, 5.59247828e-02,\n",
       "       2.45960337e-01, 6.86058424e-01, 8.54293035e-01, 7.93418993e-01,\n",
       "       7.24107264e-02, 5.66120033e-01, 4.07588001e-01, 9.88308146e-01,\n",
       "       4.63835142e-01, 7.49734721e-01, 1.91446893e-01, 3.92650053e-01,\n",
       "       7.71046244e-01, 7.96043741e-01, 9.71798679e-01, 5.71056741e-01,\n",
       "       5.04406801e-01, 3.76435876e-01, 5.79207005e-01, 7.36101198e-01,\n",
       "       9.97399428e-01, 1.99620084e-01, 4.26856814e-01, 4.64643353e-01,\n",
       "       8.06855501e-01, 4.06247051e-02, 9.35076863e-01, 9.62971856e-01,\n",
       "       7.07404483e-01, 1.45061002e-01, 7.68708473e-01, 7.87490059e-01,\n",
       "       4.25993655e-01, 8.54993738e-01, 2.71941066e-01, 5.82871177e-01,\n",
       "       4.00355991e-01, 7.01693626e-01, 4.32884472e-01, 3.43873808e-01,\n",
       "       7.55201630e-01, 8.95464031e-01, 7.95560121e-01, 5.26361248e-01,\n",
       "       1.34625149e-01, 7.08154901e-01, 3.70801201e-02, 1.26545355e-01,\n",
       "       4.29521969e-01, 9.21800589e-01, 7.33189808e-02, 3.97071898e-01,\n",
       "       2.94535418e-01, 4.27273814e-01, 3.53760020e-01, 1.61228167e-01,\n",
       "       7.53635056e-01, 3.15128483e-01, 7.03584269e-01, 4.29638205e-02,\n",
       "       4.99136881e-01, 5.17144911e-01, 6.98790224e-01, 8.38322716e-01,\n",
       "       9.93925168e-01, 9.13894728e-01, 6.47599399e-01, 4.45977206e-02,\n",
       "       2.96009292e-01, 9.05141052e-01, 7.84400173e-01, 8.78397842e-01,\n",
       "       5.42984147e-01, 7.45639306e-02, 8.91300310e-01, 1.76885460e-01,\n",
       "       5.63919625e-01, 6.44702023e-01, 5.00013105e-01, 5.48854801e-01,\n",
       "       8.92354638e-02, 4.00381873e-02, 1.40668128e-01, 6.62486827e-01,\n",
       "       3.44765597e-01, 5.30100959e-01, 2.29591605e-01, 8.00653287e-01,\n",
       "       2.04946058e-01, 1.68481794e-01, 4.16296203e-01, 2.93885267e-01,\n",
       "       3.82354404e-01, 7.79376592e-01, 2.81597988e-01, 2.94643379e-01,\n",
       "       5.76650636e-01, 4.47868768e-01, 2.95889507e-01, 9.87316550e-01,\n",
       "       5.25634349e-01, 4.72879189e-01, 8.79096082e-01, 2.13270613e-01])"
      ]
     },
     "execution_count": 21,
     "metadata": {},
     "output_type": "execute_result"
    }
   ],
   "source": [
    "a = np.random.rand(1000)\n",
    "a"
   ]
  },
  {
   "cell_type": "code",
   "execution_count": 22,
   "metadata": {},
   "outputs": [],
   "source": [
    "import matplotlib.pyplot as plt"
   ]
  },
  {
   "cell_type": "code",
   "execution_count": 24,
   "metadata": {},
   "outputs": [
    {
     "data": {
      "text/plain": [
       "(array([ 9.,  7.,  8.,  6., 14., 10.,  2., 10., 11.,  8.,  5., 11., 10.,\n",
       "        17., 11.,  6.,  9.,  9.,  9.,  9., 12., 10.,  8., 15.,  9.,  9.,\n",
       "         9.,  8., 10., 15., 13., 13.,  7.,  8., 12.,  7.,  7., 10., 18.,\n",
       "        13., 10.,  6.,  8.,  5., 15.,  6., 12., 12., 14.,  9., 11., 13.,\n",
       "         8.,  7.,  9., 16.,  9.,  6.,  8., 13.,  8.,  4.,  6.,  8.,  8.,\n",
       "        13., 16., 10., 10.,  5.,  9., 11., 10., 13., 10., 13., 13.,  6.,\n",
       "         9.,  8., 11., 13., 11., 15., 12.,  7.,  8., 10., 11., 12., 10.,\n",
       "        10.,  9.,  5., 15., 10., 11., 14., 14., 11.]),\n",
       " array([4.10706870e-05, 1.00344359e-02, 2.00278012e-02, 3.00211665e-02,\n",
       "        4.00145317e-02, 5.00078970e-02, 6.00012622e-02, 6.99946275e-02,\n",
       "        7.99879927e-02, 8.99813580e-02, 9.99747232e-02, 1.09968088e-01,\n",
       "        1.19961454e-01, 1.29954819e-01, 1.39948184e-01, 1.49941550e-01,\n",
       "        1.59934915e-01, 1.69928280e-01, 1.79921645e-01, 1.89915011e-01,\n",
       "        1.99908376e-01, 2.09901741e-01, 2.19895106e-01, 2.29888472e-01,\n",
       "        2.39881837e-01, 2.49875202e-01, 2.59868567e-01, 2.69861933e-01,\n",
       "        2.79855298e-01, 2.89848663e-01, 2.99842028e-01, 3.09835394e-01,\n",
       "        3.19828759e-01, 3.29822124e-01, 3.39815489e-01, 3.49808855e-01,\n",
       "        3.59802220e-01, 3.69795585e-01, 3.79788950e-01, 3.89782316e-01,\n",
       "        3.99775681e-01, 4.09769046e-01, 4.19762411e-01, 4.29755777e-01,\n",
       "        4.39749142e-01, 4.49742507e-01, 4.59735872e-01, 4.69729238e-01,\n",
       "        4.79722603e-01, 4.89715968e-01, 4.99709333e-01, 5.09702699e-01,\n",
       "        5.19696064e-01, 5.29689429e-01, 5.39682794e-01, 5.49676160e-01,\n",
       "        5.59669525e-01, 5.69662890e-01, 5.79656255e-01, 5.89649621e-01,\n",
       "        5.99642986e-01, 6.09636351e-01, 6.19629716e-01, 6.29623082e-01,\n",
       "        6.39616447e-01, 6.49609812e-01, 6.59603178e-01, 6.69596543e-01,\n",
       "        6.79589908e-01, 6.89583273e-01, 6.99576639e-01, 7.09570004e-01,\n",
       "        7.19563369e-01, 7.29556734e-01, 7.39550100e-01, 7.49543465e-01,\n",
       "        7.59536830e-01, 7.69530195e-01, 7.79523561e-01, 7.89516926e-01,\n",
       "        7.99510291e-01, 8.09503656e-01, 8.19497022e-01, 8.29490387e-01,\n",
       "        8.39483752e-01, 8.49477117e-01, 8.59470483e-01, 8.69463848e-01,\n",
       "        8.79457213e-01, 8.89450578e-01, 8.99443944e-01, 9.09437309e-01,\n",
       "        9.19430674e-01, 9.29424039e-01, 9.39417405e-01, 9.49410770e-01,\n",
       "        9.59404135e-01, 9.69397500e-01, 9.79390866e-01, 9.89384231e-01,\n",
       "        9.99377596e-01]),\n",
       " <BarContainer object of 100 artists>)"
      ]
     },
     "execution_count": 24,
     "metadata": {},
     "output_type": "execute_result"
    },
    {
     "data": {
      "image/png": "[encoded data removed]",
      "text/plain": [
       "<Figure size 640x480 with 1 Axes>"
      ]
     },
     "metadata": {},
     "output_type": "display_data"
    }
   ],
   "source": [
    "plt.hist(a, bins = 100)"
   ]
  },
  {
   "cell_type": "code",
   "execution_count": 32,
   "metadata": {},
   "outputs": [
    {
     "data": {
      "text/plain": [
       "(array([1.000e+00, 0.000e+00, 0.000e+00, 0.000e+00, 0.000e+00, 1.000e+00,\n",
       "        0.000e+00, 1.000e+00, 1.000e+00, 1.000e+00, 0.000e+00, 1.000e+00,\n",
       "        0.000e+00, 0.000e+00, 0.000e+00, 0.000e+00, 2.000e+00, 0.000e+00,\n",
       "        2.000e+00, 1.000e+00, 3.000e+00, 1.000e+00, 5.000e+00, 3.000e+00,\n",
       "        6.000e+00, 7.000e+00, 8.000e+00, 1.300e+01, 5.000e+00, 9.000e+00,\n",
       "        1.600e+01, 1.900e+01, 1.300e+01, 1.800e+01, 2.500e+01, 1.800e+01,\n",
       "        2.500e+01, 3.400e+01, 4.800e+01, 4.800e+01, 3.600e+01, 4.600e+01,\n",
       "        7.500e+01, 7.800e+01, 7.900e+01, 8.800e+01, 8.900e+01, 1.210e+02,\n",
       "        1.340e+02, 1.340e+02, 1.160e+02, 1.860e+02, 2.100e+02, 2.290e+02,\n",
       "        2.350e+02, 2.340e+02, 2.710e+02, 3.120e+02, 3.380e+02, 3.770e+02,\n",
       "        3.900e+02, 3.950e+02, 4.460e+02, 4.960e+02, 5.710e+02, 5.480e+02,\n",
       "        6.520e+02, 7.080e+02, 6.910e+02, 7.480e+02, 8.170e+02, 8.740e+02,\n",
       "        9.690e+02, 9.990e+02, 1.075e+03, 1.107e+03, 1.207e+03, 1.223e+03,\n",
       "        1.241e+03, 1.310e+03, 1.311e+03, 1.400e+03, 1.403e+03, 1.517e+03,\n",
       "        1.585e+03, 1.536e+03, 1.601e+03, 1.722e+03, 1.738e+03, 1.732e+03,\n",
       "        1.779e+03, 1.824e+03, 1.818e+03, 1.919e+03, 1.812e+03, 1.837e+03,\n",
       "        1.830e+03, 1.895e+03, 1.830e+03, 1.849e+03, 1.874e+03, 1.909e+03,\n",
       "        1.835e+03, 1.836e+03, 1.832e+03, 1.739e+03, 1.708e+03, 1.581e+03,\n",
       "        1.662e+03, 1.657e+03, 1.606e+03, 1.590e+03, 1.545e+03, 1.421e+03,\n",
       "        1.336e+03, 1.309e+03, 1.272e+03, 1.191e+03, 1.214e+03, 1.138e+03,\n",
       "        1.006e+03, 1.015e+03, 9.560e+02, 8.770e+02, 8.150e+02, 7.780e+02,\n",
       "        7.950e+02, 7.350e+02, 6.200e+02, 6.250e+02, 5.860e+02, 5.370e+02,\n",
       "        5.070e+02, 4.660e+02, 3.930e+02, 3.820e+02, 3.680e+02, 3.100e+02,\n",
       "        2.930e+02, 2.910e+02, 2.120e+02, 2.230e+02, 2.130e+02, 1.770e+02,\n",
       "        1.470e+02, 1.420e+02, 1.410e+02, 1.010e+02, 1.150e+02, 9.600e+01,\n",
       "        8.300e+01, 7.600e+01, 7.900e+01, 6.800e+01, 5.600e+01, 3.900e+01,\n",
       "        3.600e+01, 3.900e+01, 2.900e+01, 2.900e+01, 2.500e+01, 1.800e+01,\n",
       "        2.000e+01, 1.300e+01, 1.500e+01, 1.200e+01, 1.600e+01, 4.000e+00,\n",
       "        7.000e+00, 9.000e+00, 3.000e+00, 3.000e+00, 1.000e+00, 1.000e+00,\n",
       "        3.000e+00, 1.000e+00, 0.000e+00, 1.000e+00, 0.000e+00, 1.000e+00,\n",
       "        2.000e+00, 2.000e+00, 0.000e+00, 0.000e+00, 0.000e+00, 1.000e+00,\n",
       "        1.000e+00, 0.000e+00, 1.000e+00, 0.000e+00, 0.000e+00, 0.000e+00,\n",
       "        0.000e+00, 0.000e+00, 0.000e+00, 0.000e+00, 0.000e+00, 0.000e+00,\n",
       "        0.000e+00, 1.000e+00]),\n",
       " array([-4.6258512 , -4.57857544, -4.53129968, -4.48402392, -4.43674817,\n",
       "        -4.38947241, -4.34219665, -4.29492089, -4.24764513, -4.20036937,\n",
       "        -4.15309361, -4.10581786, -4.0585421 , -4.01126634, -3.96399058,\n",
       "        -3.91671482, -3.86943906, -3.82216331, -3.77488755, -3.72761179,\n",
       "        -3.68033603, -3.63306027, -3.58578451, -3.53850875, -3.491233  ,\n",
       "        -3.44395724, -3.39668148, -3.34940572, -3.30212996, -3.2548542 ,\n",
       "        -3.20757844, -3.16030269, -3.11302693, -3.06575117, -3.01847541,\n",
       "        -2.97119965, -2.92392389, -2.87664814, -2.82937238, -2.78209662,\n",
       "        -2.73482086, -2.6875451 , -2.64026934, -2.59299358, -2.54571783,\n",
       "        -2.49844207, -2.45116631, -2.40389055, -2.35661479, -2.30933903,\n",
       "        -2.26206328, -2.21478752, -2.16751176, -2.120236  , -2.07296024,\n",
       "        -2.02568448, -1.97840872, -1.93113297, -1.88385721, -1.83658145,\n",
       "        -1.78930569, -1.74202993, -1.69475417, -1.64747841, -1.60020266,\n",
       "        -1.5529269 , -1.50565114, -1.45837538, -1.41109962, -1.36382386,\n",
       "        -1.31654811, -1.26927235, -1.22199659, -1.17472083, -1.12744507,\n",
       "        -1.08016931, -1.03289355, -0.9856178 , -0.93834204, -0.89106628,\n",
       "        -0.84379052, -0.79651476, -0.749239  , -0.70196325, -0.65468749,\n",
       "        -0.60741173, -0.56013597, -0.51286021, -0.46558445, -0.41830869,\n",
       "        -0.37103294, -0.32375718, -0.27648142, -0.22920566, -0.1819299 ,\n",
       "        -0.13465414, -0.08737838, -0.04010263,  0.00717313,  0.05444889,\n",
       "         0.10172465,  0.14900041,  0.19627617,  0.24355192,  0.29082768,\n",
       "         0.33810344,  0.3853792 ,  0.43265496,  0.47993072,  0.52720648,\n",
       "         0.57448223,  0.62175799,  0.66903375,  0.71630951,  0.76358527,\n",
       "         0.81086103,  0.85813678,  0.90541254,  0.9526883 ,  0.99996406,\n",
       "         1.04723982,  1.09451558,  1.14179134,  1.18906709,  1.23634285,\n",
       "         1.28361861,  1.33089437,  1.37817013,  1.42544589,  1.47272165,\n",
       "         1.5199974 ,  1.56727316,  1.61454892,  1.66182468,  1.70910044,\n",
       "         1.7563762 ,  1.80365195,  1.85092771,  1.89820347,  1.94547923,\n",
       "         1.99275499,  2.04003075,  2.08730651,  2.13458226,  2.18185802,\n",
       "         2.22913378,  2.27640954,  2.3236853 ,  2.37096106,  2.41823681,\n",
       "         2.46551257,  2.51278833,  2.56006409,  2.60733985,  2.65461561,\n",
       "         2.70189137,  2.74916712,  2.79644288,  2.84371864,  2.8909944 ,\n",
       "         2.93827016,  2.98554592,  3.03282168,  3.08009743,  3.12737319,\n",
       "         3.17464895,  3.22192471,  3.26920047,  3.31647623,  3.36375198,\n",
       "         3.41102774,  3.4583035 ,  3.50557926,  3.55285502,  3.60013078,\n",
       "         3.64740654,  3.69468229,  3.74195805,  3.78923381,  3.83650957,\n",
       "         3.88378533,  3.93106109,  3.97833684,  4.0256126 ,  4.07288836,\n",
       "         4.12016412,  4.16743988,  4.21471564,  4.2619914 ,  4.30926715,\n",
       "         4.35654291,  4.40381867,  4.45109443,  4.49837019,  4.54564595,\n",
       "         4.59292171,  4.64019746,  4.68747322,  4.73474898,  4.78202474,\n",
       "         4.8293005 ]),\n",
       " <BarContainer object of 200 artists>)"
      ]
     },
     "execution_count": 32,
     "metadata": {},
     "output_type": "execute_result"
    },
    {
     "data": {
      "image/png": "[encoded data removed]",
      "text/plain": [
       "<Figure size 640x480 with 1 Axes>"
      ]
     },
     "metadata": {},
     "output_type": "display_data"
    }
   ],
   "source": [
    "b = np.random.randn(100000)\n",
    "plt.hist(b, bins=200)"
   ]
  },
  {
   "cell_type": "code",
   "execution_count": 36,
   "metadata": {},
   "outputs": [
    {
     "name": "stdout",
     "output_type": "stream",
     "text": [
      "[[0.81096529 0.76569405 0.17244065 0.78759549]\n",
      " [0.37136921 0.18379003 0.73805138 0.55084167]\n",
      " [0.68846689 0.46216025 0.98230238 0.08221312]\n",
      " [0.1556447  0.36092655 0.51586917 0.94708011]]\n",
      "2\n"
     ]
    }
   ],
   "source": [
    "a = np.random.rand(4,4)\n",
    "print(a)\n",
    "print(a.ndim)"
   ]
  },
  {
   "cell_type": "code",
   "execution_count": 38,
   "metadata": {},
   "outputs": [
    {
     "name": "stdout",
     "output_type": "stream",
     "text": [
      "[[[[0.28949025 0.01172253 0.5090426  0.13748127]\n",
      "   [0.55777238 0.58386493 0.28027918 0.4980967 ]]\n",
      "\n",
      "  [[0.48900124 0.05088364 0.50886471 0.52628261]\n",
      "   [0.4749846  0.98854372 0.95492726 0.8417595 ]]\n",
      "\n",
      "  [[0.07518335 0.26133501 0.78713694 0.17815012]\n",
      "   [0.26060023 0.04198667 0.20259809 0.60100783]]]\n",
      "\n",
      "\n",
      " [[[0.97176037 0.22008803 0.34353536 0.88639906]\n",
      "   [0.90436175 0.28289351 0.52481069 0.30960142]]\n",
      "\n",
      "  [[0.97476715 0.68867529 0.67189085 0.19934929]\n",
      "   [0.6268128  0.9609282  0.02375049 0.7529541 ]]\n",
      "\n",
      "  [[0.48944103 0.49917257 0.33849897 0.78330421]\n",
      "   [0.45933406 0.221411   0.85286513 0.35046008]]]]\n",
      "4\n"
     ]
    }
   ],
   "source": [
    "a = np.random.rand(2,3,2,4)\n",
    "print(a)\n",
    "print(a.ndim)"
   ]
  },
  {
   "cell_type": "code",
   "execution_count": 43,
   "metadata": {},
   "outputs": [
    {
     "data": {
      "text/plain": [
       "array([[ 0,  1,  2,  3,  4,  5,  6,  7,  8,  9, 10, 11, 12, 13, 14, 15,\n",
       "        16, 17, 18, 19, 20, 21, 22, 23, 24],\n",
       "       [25, 26, 27, 28, 29, 30, 31, 32, 33, 34, 35, 36, 37, 38, 39, 40,\n",
       "        41, 42, 43, 44, 45, 46, 47, 48, 49],\n",
       "       [50, 51, 52, 53, 54, 55, 56, 57, 58, 59, 60, 61, 62, 63, 64, 65,\n",
       "        66, 67, 68, 69, 70, 71, 72, 73, 74],\n",
       "       [75, 76, 77, 78, 79, 80, 81, 82, 83, 84, 85, 86, 87, 88, 89, 90,\n",
       "        91, 92, 93, 94, 95, 96, 97, 98, 99]])"
      ]
     },
     "execution_count": 43,
     "metadata": {},
     "output_type": "execute_result"
    }
   ],
   "source": [
    "a = np.arange(100).reshape(4,25)\n",
    "a"
   ]
  },
  {
   "cell_type": "code",
   "execution_count": 45,
   "metadata": {},
   "outputs": [
    {
     "data": {
      "text/plain": [
       "array([[[ 0,  1,  2,  3,  4],\n",
       "        [ 5,  6,  7,  8,  9],\n",
       "        [10, 11, 12, 13, 14],\n",
       "        [15, 16, 17, 18, 19],\n",
       "        [20, 21, 22, 23, 24]],\n",
       "\n",
       "       [[25, 26, 27, 28, 29],\n",
       "        [30, 31, 32, 33, 34],\n",
       "        [35, 36, 37, 38, 39],\n",
       "        [40, 41, 42, 43, 44],\n",
       "        [45, 46, 47, 48, 49]],\n",
       "\n",
       "       [[50, 51, 52, 53, 54],\n",
       "        [55, 56, 57, 58, 59],\n",
       "        [60, 61, 62, 63, 64],\n",
       "        [65, 66, 67, 68, 69],\n",
       "        [70, 71, 72, 73, 74]],\n",
       "\n",
       "       [[75, 76, 77, 78, 79],\n",
       "        [80, 81, 82, 83, 84],\n",
       "        [85, 86, 87, 88, 89],\n",
       "        [90, 91, 92, 93, 94],\n",
       "        [95, 96, 97, 98, 99]]])"
      ]
     },
     "execution_count": 45,
     "metadata": {},
     "output_type": "execute_result"
    }
   ],
   "source": [
    "a = np.arange(100).reshape(4,5,5)\n",
    "a"
   ]
  },
  {
   "cell_type": "code",
   "execution_count": 47,
   "metadata": {},
   "outputs": [
    {
     "data": {
      "text/plain": [
       "(4, 5, 5)"
      ]
     },
     "execution_count": 47,
     "metadata": {},
     "output_type": "execute_result"
    }
   ],
   "source": [
    "a.shape"
   ]
  },
  {
   "cell_type": "code",
   "execution_count": 54,
   "metadata": {},
   "outputs": [
    {
     "data": {
      "text/plain": [
       "array([0, 0, 0, 0, 0, 0, 0, 0, 0, 0], dtype=int32)"
      ]
     },
     "execution_count": 54,
     "metadata": {},
     "output_type": "execute_result"
    }
   ],
   "source": [
    "a = np.zeros(10, dtype = 'i')\n",
    "a"
   ]
  },
  {
   "cell_type": "code",
   "execution_count": 56,
   "metadata": {},
   "outputs": [
    {
     "data": {
      "text/plain": [
       "array([1., 1., 1., 1., 1., 1., 1., 1., 1., 1.])"
      ]
     },
     "execution_count": 56,
     "metadata": {},
     "output_type": "execute_result"
    }
   ],
   "source": [
    "a = np.ones(10)\n",
    "a"
   ]
  },
  {
   "cell_type": "code",
   "execution_count": 57,
   "metadata": {},
   "outputs": [],
   "source": [
    "# Practice"
   ]
  },
  {
   "cell_type": "code",
   "execution_count": 74,
   "metadata": {},
   "outputs": [
    {
     "data": {
      "text/plain": [
       "array([[0., 0., 0.],\n",
       "       [0., 0., 0.]])"
      ]
     },
     "execution_count": 74,
     "metadata": {},
     "output_type": "execute_result"
    }
   ],
   "source": [
    "# Q1 How would you create a 2x3 NumPy array \n",
    "# filled with zeros using np.array() and np.zeros()?\n",
    "\n",
    "# a = np.array([[0,0,0],\n",
    "#               [0,0,0]])\n",
    "# a\n",
    "\n",
    "# a = np.array([np.zeros(3, dtype='i'),\n",
    "#               np.zeros(3, dtype='i')])\n",
    "# a\n",
    "\n",
    "a = np.zeros((2,3))\n",
    "a"
   ]
  },
  {
   "cell_type": "code",
   "execution_count": 87,
   "metadata": {},
   "outputs": [
    {
     "data": {
      "text/plain": [
       "array([13, 25, 29, 24, 11])"
      ]
     },
     "execution_count": 87,
     "metadata": {},
     "output_type": "execute_result"
    }
   ],
   "source": [
    "# Q2 How can you generate an array of 5 random integers \n",
    "# between 10 and 50 using np.random.randint?\n",
    "a = np.random.randint(10, 50, size = 5)\n",
    "a"
   ]
  },
  {
   "cell_type": "code",
   "execution_count": 95,
   "metadata": {},
   "outputs": [
    {
     "data": {
      "text/plain": [
       "array(['banana', 'apple', 'date', 'elderberry', 'cherry'], dtype='<U10')"
      ]
     },
     "execution_count": 95,
     "metadata": {},
     "output_type": "execute_result"
    }
   ],
   "source": [
    "# Q3 What does the function np.random.permutation do \n",
    "# when applied to an array of integers from 0 to 9?\n",
    "# How would you use it to shuffle an array of strings?\n",
    "\n",
    "# a = np.random.permutation(np.arange(10))\n",
    "# a\n",
    "\n",
    "a = np.random.permutation(['apple', 'banana', 'cherry', 'date', 'elderberry'])\n",
    "a"
   ]
  },
  {
   "cell_type": "code",
   "execution_count": 99,
   "metadata": {},
   "outputs": [
    {
     "data": {
      "text/plain": [
       "array([[0.97093479, 0.08270304, 0.51257132, 0.58242289],\n",
       "       [0.30604754, 0.74647348, 0.32192077, 0.38209525],\n",
       "       [0.26359391, 0.12970143, 0.07058692, 0.56618768],\n",
       "       [0.44508248, 0.07387923, 0.2477222 , 0.10051173]])"
      ]
     },
     "execution_count": 99,
     "metadata": {},
     "output_type": "execute_result"
    }
   ],
   "source": [
    "# Q4 Describe how np.random.rand works. \n",
    "# How would you use it to generate a 4x4 matrix of \n",
    "# random numbers between 0 and 1?\n",
    "a = np.random.rand(4,4)\n",
    "a"
   ]
  },
  {
   "cell_type": "code",
   "execution_count": 2,
   "metadata": {},
   "outputs": [
    {
     "data": {
      "text/plain": [
       "array([[ 0,  1,  2,  3],\n",
       "       [ 4,  5,  6,  7],\n",
       "       [ 8,  9, 10, 11],\n",
       "       [12, 13, 14, 15]])"
      ]
     },
     "execution_count": 2,
     "metadata": {},
     "output_type": "execute_result"
    }
   ],
   "source": [
    "# Q5 Given a one-dimensional array created using np.arange(16), \n",
    "# how would you reshape it into a 4x4 matrix using np.reshape? \n",
    "# What happens if the total number of elements doesn't match the shape you want?\n",
    "a = np.arange(16).reshape(4,4)\n",
    "a"
   ]
  },
  {
   "cell_type": "code",
   "execution_count": 3,
   "metadata": {},
   "outputs": [],
   "source": [
    "# Numpy Slicing"
   ]
  },
  {
   "cell_type": "code",
   "execution_count": 34,
   "metadata": {},
   "outputs": [
    {
     "data": {
      "text/plain": [
       "array([ 1,  2,  3,  4,  5,  6,  7,  8,  9, 10])"
      ]
     },
     "execution_count": 34,
     "metadata": {},
     "output_type": "execute_result"
    }
   ],
   "source": [
    "a = np.arange(1,11)\n",
    "a"
   ]
  },
  {
   "cell_type": "code",
   "execution_count": 22,
   "metadata": {},
   "outputs": [
    {
     "data": {
      "text/plain": [
       "array([1, 2, 3, 4, 5])"
      ]
     },
     "execution_count": 22,
     "metadata": {},
     "output_type": "execute_result"
    }
   ],
   "source": [
    "a[::2]\n",
    "a[:5]"
   ]
  },
  {
   "cell_type": "code",
   "execution_count": null,
   "metadata": {},
   "outputs": [],
   "source": []
  },
  {
   "cell_type": "code",
   "execution_count": null,
   "metadata": {},
   "outputs": [],
   "source": []
  },
  {
   "cell_type": "code",
   "execution_count": 23,
   "metadata": {},
   "outputs": [
    {
     "data": {
      "text/plain": [
       "array([3, 4, 5])"
      ]
     },
     "execution_count": 23,
     "metadata": {},
     "output_type": "execute_result"
    }
   ],
   "source": [
    "a[2:5]"
   ]
  },
  {
   "cell_type": "code",
   "execution_count": 25,
   "metadata": {},
   "outputs": [
    {
     "data": {
      "text/plain": [
       "array([10,  9,  8,  7,  6,  5,  4,  3,  2,  1])"
      ]
     },
     "execution_count": 25,
     "metadata": {},
     "output_type": "execute_result"
    }
   ],
   "source": [
    "a[::-1]"
   ]
  },
  {
   "cell_type": "code",
   "execution_count": 28,
   "metadata": {},
   "outputs": [
    {
     "data": {
      "text/plain": [
       "array([1, 3, 5, 7, 9])"
      ]
     },
     "execution_count": 28,
     "metadata": {},
     "output_type": "execute_result"
    }
   ],
   "source": [
    "a[::2]"
   ]
  },
  {
   "cell_type": "code",
   "execution_count": 30,
   "metadata": {},
   "outputs": [],
   "source": [
    "# b = a[5::]\n",
    "# # b[0] = -1\n",
    "# # a"
   ]
  },
  {
   "cell_type": "code",
   "execution_count": 37,
   "metadata": {},
   "outputs": [
    {
     "data": {
      "text/plain": [
       "array([ 1,  2,  3,  4,  5,  6,  7,  8,  9, 10])"
      ]
     },
     "execution_count": 37,
     "metadata": {},
     "output_type": "execute_result"
    }
   ],
   "source": [
    "b = a[5::].copy()\n",
    "b[0] = -1\n",
    "a"
   ]
  },
  {
   "cell_type": "code",
   "execution_count": 45,
   "metadata": {},
   "outputs": [],
   "source": [
    "c = np.arange(1000)\n",
    "d = c[::2]"
   ]
  },
  {
   "cell_type": "code",
   "execution_count": 46,
   "metadata": {},
   "outputs": [],
   "source": [
    "d[50] = -1200"
   ]
  },
  {
   "cell_type": "code",
   "execution_count": 48,
   "metadata": {},
   "outputs": [
    {
     "data": {
      "text/plain": [
       "array([    0,     1,     2,     3,     4,     5,     6,     7,     8,\n",
       "           9,    10,    11,    12,    13,    14,    15,    16,    17,\n",
       "          18,    19,    20,    21,    22,    23,    24,    25,    26,\n",
       "          27,    28,    29,    30,    31,    32,    33,    34,    35,\n",
       "          36,    37,    38,    39,    40,    41,    42,    43,    44,\n",
       "          45,    46,    47,    48,    49,    50,    51,    52,    53,\n",
       "          54,    55,    56,    57,    58,    59,    60,    61,    62,\n",
       "          63,    64,    65,    66,    67,    68,    69,    70,    71,\n",
       "          72,    73,    74,    75,    76,    77,    78,    79,    80,\n",
       "          81,    82,    83,    84,    85,    86,    87,    88,    89,\n",
       "          90,    91,    92,    93,    94,    95,    96,    97,    98,\n",
       "          99, -1200,   101,   102,   103,   104,   105,   106,   107,\n",
       "         108,   109,   110,   111,   112,   113,   114,   115,   116,\n",
       "         117,   118,   119,   120,   121,   122,   123,   124,   125,\n",
       "         126,   127,   128,   129,   130,   131,   132,   133,   134,\n",
       "         135,   136,   137,   138,   139,   140,   141,   142,   143,\n",
       "         144,   145,   146,   147,   148,   149,   150,   151,   152,\n",
       "         153,   154,   155,   156,   157,   158,   159,   160,   161,\n",
       "         162,   163,   164,   165,   166,   167,   168,   169,   170,\n",
       "         171,   172,   173,   174,   175,   176,   177,   178,   179,\n",
       "         180,   181,   182,   183,   184,   185,   186,   187,   188,\n",
       "         189,   190,   191,   192,   193,   194,   195,   196,   197,\n",
       "         198,   199,   200,   201,   202,   203,   204,   205,   206,\n",
       "         207,   208,   209,   210,   211,   212,   213,   214,   215,\n",
       "         216,   217,   218,   219,   220,   221,   222,   223,   224,\n",
       "         225,   226,   227,   228,   229,   230,   231,   232,   233,\n",
       "         234,   235,   236,   237,   238,   239,   240,   241,   242,\n",
       "         243,   244,   245,   246,   247,   248,   249,   250,   251,\n",
       "         252,   253,   254,   255,   256,   257,   258,   259,   260,\n",
       "         261,   262,   263,   264,   265,   266,   267,   268,   269,\n",
       "         270,   271,   272,   273,   274,   275,   276,   277,   278,\n",
       "         279,   280,   281,   282,   283,   284,   285,   286,   287,\n",
       "         288,   289,   290,   291,   292,   293,   294,   295,   296,\n",
       "         297,   298,   299,   300,   301,   302,   303,   304,   305,\n",
       "         306,   307,   308,   309,   310,   311,   312,   313,   314,\n",
       "         315,   316,   317,   318,   319,   320,   321,   322,   323,\n",
       "         324,   325,   326,   327,   328,   329,   330,   331,   332,\n",
       "         333,   334,   335,   336,   337,   338,   339,   340,   341,\n",
       "         342,   343,   344,   345,   346,   347,   348,   349,   350,\n",
       "         351,   352,   353,   354,   355,   356,   357,   358,   359,\n",
       "         360,   361,   362,   363,   364,   365,   366,   367,   368,\n",
       "         369,   370,   371,   372,   373,   374,   375,   376,   377,\n",
       "         378,   379,   380,   381,   382,   383,   384,   385,   386,\n",
       "         387,   388,   389,   390,   391,   392,   393,   394,   395,\n",
       "         396,   397,   398,   399,   400,   401,   402,   403,   404,\n",
       "         405,   406,   407,   408,   409,   410,   411,   412,   413,\n",
       "         414,   415,   416,   417,   418,   419,   420,   421,   422,\n",
       "         423,   424,   425,   426,   427,   428,   429,   430,   431,\n",
       "         432,   433,   434,   435,   436,   437,   438,   439,   440,\n",
       "         441,   442,   443,   444,   445,   446,   447,   448,   449,\n",
       "         450,   451,   452,   453,   454,   455,   456,   457,   458,\n",
       "         459,   460,   461,   462,   463,   464,   465,   466,   467,\n",
       "         468,   469,   470,   471,   472,   473,   474,   475,   476,\n",
       "         477,   478,   479,   480,   481,   482,   483,   484,   485,\n",
       "         486,   487,   488,   489,   490,   491,   492,   493,   494,\n",
       "         495,   496,   497,   498,   499,   500,   501,   502,   503,\n",
       "         504,   505,   506,   507,   508,   509,   510,   511,   512,\n",
       "         513,   514,   515,   516,   517,   518,   519,   520,   521,\n",
       "         522,   523,   524,   525,   526,   527,   528,   529,   530,\n",
       "         531,   532,   533,   534,   535,   536,   537,   538,   539,\n",
       "         540,   541,   542,   543,   544,   545,   546,   547,   548,\n",
       "         549,   550,   551,   552,   553,   554,   555,   556,   557,\n",
       "         558,   559,   560,   561,   562,   563,   564,   565,   566,\n",
       "         567,   568,   569,   570,   571,   572,   573,   574,   575,\n",
       "         576,   577,   578,   579,   580,   581,   582,   583,   584,\n",
       "         585,   586,   587,   588,   589,   590,   591,   592,   593,\n",
       "         594,   595,   596,   597,   598,   599,   600,   601,   602,\n",
       "         603,   604,   605,   606,   607,   608,   609,   610,   611,\n",
       "         612,   613,   614,   615,   616,   617,   618,   619,   620,\n",
       "         621,   622,   623,   624,   625,   626,   627,   628,   629,\n",
       "         630,   631,   632,   633,   634,   635,   636,   637,   638,\n",
       "         639,   640,   641,   642,   643,   644,   645,   646,   647,\n",
       "         648,   649,   650,   651,   652,   653,   654,   655,   656,\n",
       "         657,   658,   659,   660,   661,   662,   663,   664,   665,\n",
       "         666,   667,   668,   669,   670,   671,   672,   673,   674,\n",
       "         675,   676,   677,   678,   679,   680,   681,   682,   683,\n",
       "         684,   685,   686,   687,   688,   689,   690,   691,   692,\n",
       "         693,   694,   695,   696,   697,   698,   699,   700,   701,\n",
       "         702,   703,   704,   705,   706,   707,   708,   709,   710,\n",
       "         711,   712,   713,   714,   715,   716,   717,   718,   719,\n",
       "         720,   721,   722,   723,   724,   725,   726,   727,   728,\n",
       "         729,   730,   731,   732,   733,   734,   735,   736,   737,\n",
       "         738,   739,   740,   741,   742,   743,   744,   745,   746,\n",
       "         747,   748,   749,   750,   751,   752,   753,   754,   755,\n",
       "         756,   757,   758,   759,   760,   761,   762,   763,   764,\n",
       "         765,   766,   767,   768,   769,   770,   771,   772,   773,\n",
       "         774,   775,   776,   777,   778,   779,   780,   781,   782,\n",
       "         783,   784,   785,   786,   787,   788,   789,   790,   791,\n",
       "         792,   793,   794,   795,   796,   797,   798,   799,   800,\n",
       "         801,   802,   803,   804,   805,   806,   807,   808,   809,\n",
       "         810,   811,   812,   813,   814,   815,   816,   817,   818,\n",
       "         819,   820,   821,   822,   823,   824,   825,   826,   827,\n",
       "         828,   829,   830,   831,   832,   833,   834,   835,   836,\n",
       "         837,   838,   839,   840,   841,   842,   843,   844,   845,\n",
       "         846,   847,   848,   849,   850,   851,   852,   853,   854,\n",
       "         855,   856,   857,   858,   859,   860,   861,   862,   863,\n",
       "         864,   865,   866,   867,   868,   869,   870,   871,   872,\n",
       "         873,   874,   875,   876,   877,   878,   879,   880,   881,\n",
       "         882,   883,   884,   885,   886,   887,   888,   889,   890,\n",
       "         891,   892,   893,   894,   895,   896,   897,   898,   899,\n",
       "         900,   901,   902,   903,   904,   905,   906,   907,   908,\n",
       "         909,   910,   911,   912,   913,   914,   915,   916,   917,\n",
       "         918,   919,   920,   921,   922,   923,   924,   925,   926,\n",
       "         927,   928,   929,   930,   931,   932,   933,   934,   935,\n",
       "         936,   937,   938,   939,   940,   941,   942,   943,   944,\n",
       "         945,   946,   947,   948,   949,   950,   951,   952,   953,\n",
       "         954,   955,   956,   957,   958,   959,   960,   961,   962,\n",
       "         963,   964,   965,   966,   967,   968,   969,   970,   971,\n",
       "         972,   973,   974,   975,   976,   977,   978,   979,   980,\n",
       "         981,   982,   983,   984,   985,   986,   987,   988,   989,\n",
       "         990,   991,   992,   993,   994,   995,   996,   997,   998,\n",
       "         999])"
      ]
     },
     "execution_count": 48,
     "metadata": {},
     "output_type": "execute_result"
    }
   ],
   "source": [
    "c"
   ]
  },
  {
   "cell_type": "code",
   "execution_count": 65,
   "metadata": {},
   "outputs": [
    {
     "name": "stdout",
     "output_type": "stream",
     "text": [
      "100\n"
     ]
    }
   ],
   "source": [
    "index = np.where(c == -1200)[0][0]\n",
    "print(index)"
   ]
  },
  {
   "cell_type": "code",
   "execution_count": 68,
   "metadata": {},
   "outputs": [
    {
     "data": {
      "text/plain": [
       "array([[    0,     1,     2,     3,     4,     5,     6,     7,     8,\n",
       "            9,    10,    11,    12,    13,    14,    15,    16,    17,\n",
       "           18,    19,    20,    21,    22,    23,    24,    25,    26,\n",
       "           27,    28,    29,    30,    31,    32,    33,    34,    35,\n",
       "           36,    37,    38,    39,    40,    41,    42,    43,    44,\n",
       "           45,    46,    47,    48,    49],\n",
       "       [   50,    51,    52,    53,    54,    55,    56,    57,    58,\n",
       "           59,    60,    61,    62,    63,    64,    65,    66,    67,\n",
       "           68,    69,    70,    71,    72,    73,    74,    75,    76,\n",
       "           77,    78,    79,    80,    81,    82,    83,    84,    85,\n",
       "           86,    87,    88,    89,    90,    91,    92,    93,    94,\n",
       "           95,    96,    97,    98,    99],\n",
       "       [-1200,   101,   102,   103,   104,   105,   106,   107,   108,\n",
       "          109,   110,   111,   112,   113,   114,   115,   116,   117,\n",
       "          118,   119,   120,   121,   122,   123,   124,   125,   126,\n",
       "          127,   128,   129,   130,   131,   132,   133,   134,   135,\n",
       "          136,   137,   138,   139,   140,   141,   142,   143,   144,\n",
       "          145,   146,   147,   148,   149],\n",
       "       [  150,   151,   152,   153,   154,   155,   156,   157,   158,\n",
       "          159,   160,   161,   162,   163,   164,   165,   166,   167,\n",
       "          168,   169,   170,   171,   172,   173,   174,   175,   176,\n",
       "          177,   178,   179,   180,   181,   182,   183,   184,   185,\n",
       "          186,   187,   188,   189,   190,   191,   192,   193,   194,\n",
       "          195,   196,   197,   198,   199],\n",
       "       [  200,   201,   202,   203,   204,   205,   206,   207,   208,\n",
       "          209,   210,   211,   212,   213,   214,   215,   216,   217,\n",
       "          218,   219,   220,   221,   222,   223,   224,   225,   226,\n",
       "          227,   228,   229,   230,   231,   232,   233,   234,   235,\n",
       "          236,   237,   238,   239,   240,   241,   242,   243,   244,\n",
       "          245,   246,   247,   248,   249],\n",
       "       [  250,   251,   252,   253,   254,   255,   256,   257,   258,\n",
       "          259,   260,   261,   262,   263,   264,   265,   266,   267,\n",
       "          268,   269,   270,   271,   272,   273,   274,   275,   276,\n",
       "          277,   278,   279,   280,   281,   282,   283,   284,   285,\n",
       "          286,   287,   288,   289,   290,   291,   292,   293,   294,\n",
       "          295,   296,   297,   298,   299],\n",
       "       [  300,   301,   302,   303,   304,   305,   306,   307,   308,\n",
       "          309,   310,   311,   312,   313,   314,   315,   316,   317,\n",
       "          318,   319,   320,   321,   322,   323,   324,   325,   326,\n",
       "          327,   328,   329,   330,   331,   332,   333,   334,   335,\n",
       "          336,   337,   338,   339,   340,   341,   342,   343,   344,\n",
       "          345,   346,   347,   348,   349],\n",
       "       [  350,   351,   352,   353,   354,   355,   356,   357,   358,\n",
       "          359,   360,   361,   362,   363,   364,   365,   366,   367,\n",
       "          368,   369,   370,   371,   372,   373,   374,   375,   376,\n",
       "          377,   378,   379,   380,   381,   382,   383,   384,   385,\n",
       "          386,   387,   388,   389,   390,   391,   392,   393,   394,\n",
       "          395,   396,   397,   398,   399],\n",
       "       [  400,   401,   402,   403,   404,   405,   406,   407,   408,\n",
       "          409,   410,   411,   412,   413,   414,   415,   416,   417,\n",
       "          418,   419,   420,   421,   422,   423,   424,   425,   426,\n",
       "          427,   428,   429,   430,   431,   432,   433,   434,   435,\n",
       "          436,   437,   438,   439,   440,   441,   442,   443,   444,\n",
       "          445,   446,   447,   448,   449],\n",
       "       [  450,   451,   452,   453,   454,   455,   456,   457,   458,\n",
       "          459,   460,   461,   462,   463,   464,   465,   466,   467,\n",
       "          468,   469,   470,   471,   472,   473,   474,   475,   476,\n",
       "          477,   478,   479,   480,   481,   482,   483,   484,   485,\n",
       "          486,   487,   488,   489,   490,   491,   492,   493,   494,\n",
       "          495,   496,   497,   498,   499],\n",
       "       [  500,   501,   502,   503,   504,   505,   506,   507,   508,\n",
       "          509,   510,   511,   512,   513,   514,   515,   516,   517,\n",
       "          518,   519,   520,   521,   522,   523,   524,   525,   526,\n",
       "          527,   528,   529,   530,   531,   532,   533,   534,   535,\n",
       "          536,   537,   538,   539,   540,   541,   542,   543,   544,\n",
       "          545,   546,   547,   548,   549],\n",
       "       [  550,   551,   552,   553,   554,   555,   556,   557,   558,\n",
       "          559,   560,   561,   562,   563,   564,   565,   566,   567,\n",
       "          568,   569,   570,   571,   572,   573,   574,   575,   576,\n",
       "          577,   578,   579,   580,   581,   582,   583,   584,   585,\n",
       "          586,   587,   588,   589,   590,   591,   592,   593,   594,\n",
       "          595,   596,   597,   598,   599],\n",
       "       [  600,   601,   602,   603,   604,   605,   606,   607,   608,\n",
       "          609,   610,   611,   612,   613,   614,   615,   616,   617,\n",
       "          618,   619,   620,   621,   622,   623,   624,   625,   626,\n",
       "          627,   628,   629,   630,   631,   632,   633,   634,   635,\n",
       "          636,   637,   638,   639,   640,   641,   642,   643,   644,\n",
       "          645,   646,   647,   648,   649],\n",
       "       [  650,   651,   652,   653,   654,   655,   656,   657,   658,\n",
       "          659,   660,   661,   662,   663,   664,   665,   666,   667,\n",
       "          668,   669,   670,   671,   672,   673,   674,   675,   676,\n",
       "          677,   678,   679,   680,   681,   682,   683,   684,   685,\n",
       "          686,   687,   688,   689,   690,   691,   692,   693,   694,\n",
       "          695,   696,   697,   698,   699],\n",
       "       [  700,   701,   702,   703,   704,   705,   706,   707,   708,\n",
       "          709,   710,   711,   712,   713,   714,   715,   716,   717,\n",
       "          718,   719,   720,   721,   722,   723,   724,   725,   726,\n",
       "          727,   728,   729,   730,   731,   732,   733,   734,   735,\n",
       "          736,   737,   738,   739,   740,   741,   742,   743,   744,\n",
       "          745,   746,   747,   748,   749],\n",
       "       [  750,   751,   752,   753,   754,   755,   756,   757,   758,\n",
       "          759,   760,   761,   762,   763,   764,   765,   766,   767,\n",
       "          768,   769,   770,   771,   772,   773,   774,   775,   776,\n",
       "          777,   778,   779,   780,   781,   782,   783,   784,   785,\n",
       "          786,   787,   788,   789,   790,   791,   792,   793,   794,\n",
       "          795,   796,   797,   798,   799],\n",
       "       [  800,   801,   802,   803,   804,   805,   806,   807,   808,\n",
       "          809,   810,   811,   812,   813,   814,   815,   816,   817,\n",
       "          818,   819,   820,   821,   822,   823,   824,   825,   826,\n",
       "          827,   828,   829,   830,   831,   832,   833,   834,   835,\n",
       "          836,   837,   838,   839,   840,   841,   842,   843,   844,\n",
       "          845,   846,   847,   848,   849],\n",
       "       [  850,   851,   852,   853,   854,   855,   856,   857,   858,\n",
       "          859,   860,   861,   862,   863,   864,   865,   866,   867,\n",
       "          868,   869,   870,   871,   872,   873,   874,   875,   876,\n",
       "          877,   878,   879,   880,   881,   882,   883,   884,   885,\n",
       "          886,   887,   888,   889,   890,   891,   892,   893,   894,\n",
       "          895,   896,   897,   898,   899],\n",
       "       [  900,   901,   902,   903,   904,   905,   906,   907,   908,\n",
       "          909,   910,   911,   912,   913,   914,   915,   916,   917,\n",
       "          918,   919,   920,   921,   922,   923,   924,   925,   926,\n",
       "          927,   928,   929,   930,   931,   932,   933,   934,   935,\n",
       "          936,   937,   938,   939,   940,   941,   942,   943,   944,\n",
       "          945,   946,   947,   948,   949],\n",
       "       [  950,   951,   952,   953,   954,   955,   956,   957,   958,\n",
       "          959,   960,   961,   962,   963,   964,   965,   966,   967,\n",
       "          968,   969,   970,   971,   972,   973,   974,   975,   976,\n",
       "          977,   978,   979,   980,   981,   982,   983,   984,   985,\n",
       "          986,   987,   988,   989,   990,   991,   992,   993,   994,\n",
       "          995,   996,   997,   998,   999]])"
      ]
     },
     "execution_count": 68,
     "metadata": {},
     "output_type": "execute_result"
    }
   ],
   "source": [
    "d = c.copy().reshape(20,50)\n",
    "d"
   ]
  },
  {
   "cell_type": "code",
   "execution_count": 79,
   "metadata": {},
   "outputs": [
    {
     "data": {
      "text/plain": [
       "array([2, 0])"
      ]
     },
     "execution_count": 79,
     "metadata": {},
     "output_type": "execute_result"
    }
   ],
   "source": [
    "index = np.argwhere(d == -1200)[0]\n",
    "index"
   ]
  },
  {
   "cell_type": "code",
   "execution_count": 121,
   "metadata": {},
   "outputs": [
    {
     "data": {
      "text/plain": [
       "array([[ 5.,  5.,  7.,  5.,  3.],\n",
       "       [ 4.,  5.,  1.,  5.,  5.],\n",
       "       [ 0., 10.,  5.,  9.,  7.],\n",
       "       [ 4.,  2.,  1.,  6.,  6.]])"
      ]
     },
     "execution_count": 121,
     "metadata": {},
     "output_type": "execute_result"
    }
   ],
   "source": [
    "a = np.round(10 * np.random.rand(4,5))\n",
    "a"
   ]
  },
  {
   "cell_type": "code",
   "execution_count": 104,
   "metadata": {},
   "outputs": [
    {
     "data": {
      "text/plain": [
       "np.float64(3.0)"
      ]
     },
     "execution_count": 104,
     "metadata": {},
     "output_type": "execute_result"
    }
   ],
   "source": [
    "a[1,1] "
   ]
  },
  {
   "cell_type": "code",
   "execution_count": 107,
   "metadata": {},
   "outputs": [
    {
     "data": {
      "text/plain": [
       "array([7., 3., 5., 3., 7.])"
      ]
     },
     "execution_count": 107,
     "metadata": {},
     "output_type": "execute_result"
    }
   ],
   "source": [
    "a[1,:]"
   ]
  },
  {
   "cell_type": "code",
   "execution_count": 109,
   "metadata": {},
   "outputs": [
    {
     "data": {
      "text/plain": [
       "array([1., 3., 0., 1.])"
      ]
     },
     "execution_count": 109,
     "metadata": {},
     "output_type": "execute_result"
    }
   ],
   "source": [
    "a[:,1]"
   ]
  },
  {
   "cell_type": "code",
   "execution_count": 113,
   "metadata": {},
   "outputs": [
    {
     "data": {
      "text/plain": [
       "array([[4., 1., 7., 6.],\n",
       "       [7., 3., 5., 3.],\n",
       "       [6., 0., 1., 0.]])"
      ]
     },
     "execution_count": 113,
     "metadata": {},
     "output_type": "execute_result"
    }
   ],
   "source": [
    "a[:3,:4]"
   ]
  },
  {
   "cell_type": "code",
   "execution_count": 115,
   "metadata": {},
   "outputs": [
    {
     "data": {
      "text/plain": [
       "array([[4., 7., 6., 2.],\n",
       "       [1., 3., 0., 1.],\n",
       "       [7., 5., 1., 0.],\n",
       "       [6., 3., 0., 0.],\n",
       "       [2., 7., 1., 0.]])"
      ]
     },
     "execution_count": 115,
     "metadata": {},
     "output_type": "execute_result"
    }
   ],
   "source": [
    "a.T"
   ]
  },
  {
   "cell_type": "code",
   "execution_count": 123,
   "metadata": {},
   "outputs": [
    {
     "data": {
      "text/plain": [
       "array([[ 0.,  2.,  1.,  5.,  3.],\n",
       "       [ 4.,  5.,  1.,  5.,  5.],\n",
       "       [ 4.,  5.,  5.,  6.,  6.],\n",
       "       [ 5., 10.,  7.,  9.,  7.]])"
      ]
     },
     "execution_count": 123,
     "metadata": {},
     "output_type": "execute_result"
    }
   ],
   "source": [
    "a.sort(axis=0)\n",
    "a"
   ]
  },
  {
   "cell_type": "code",
   "execution_count": 126,
   "metadata": {},
   "outputs": [
    {
     "data": {
      "text/plain": [
       "array([[ 0.,  1.,  2.,  3.,  5.],\n",
       "       [ 1.,  4.,  5.,  5.,  5.],\n",
       "       [ 4.,  5.,  5.,  6.,  6.],\n",
       "       [ 5.,  7.,  7.,  9., 10.]])"
      ]
     },
     "execution_count": 126,
     "metadata": {},
     "output_type": "execute_result"
    }
   ],
   "source": [
    "a.sort(axis=1)\n",
    "a"
   ]
  },
  {
   "cell_type": "code",
   "execution_count": 128,
   "metadata": {},
   "outputs": [
    {
     "data": {
      "text/plain": [
       "array([[ 0.,  1.,  2.,  3.,  5.],\n",
       "       [ 1.,  4.,  5.,  5.,  5.],\n",
       "       [ 4.,  5.,  5.,  6.,  6.],\n",
       "       [ 5.,  7.,  7.,  9., 10.]])"
      ]
     },
     "execution_count": 128,
     "metadata": {},
     "output_type": "execute_result"
    }
   ],
   "source": [
    "a"
   ]
  },
  {
   "cell_type": "code",
   "execution_count": 134,
   "metadata": {},
   "outputs": [
    {
     "data": {
      "text/plain": [
       "array([[ 1.,  4.,  5.,  5.,  5.],\n",
       "       [ 5.,  7.,  7.,  9., 10.]])"
      ]
     },
     "execution_count": 134,
     "metadata": {},
     "output_type": "execute_result"
    }
   ],
   "source": [
    "a[[1,3]]"
   ]
  },
  {
   "cell_type": "code",
   "execution_count": 138,
   "metadata": {},
   "outputs": [
    {
     "data": {
      "text/plain": [
       "array([[0., 1., 2., 3., 5.],\n",
       "       [1., 4., 5., 5., 5.],\n",
       "       [4., 5., 5., 6., 6.]])"
      ]
     },
     "execution_count": 138,
     "metadata": {},
     "output_type": "execute_result"
    }
   ],
   "source": [
    "a[[True,True,True,False]]"
   ]
  },
  {
   "cell_type": "code",
   "execution_count": 142,
   "metadata": {},
   "outputs": [
    {
     "data": {
      "text/plain": [
       "array([ 0,  1,  2,  3,  4,  5,  6,  7,  8,  9, 10, 11, 12, 13, 14, 15, 16,\n",
       "       17, 18, 19, 20, 21, 22, 23, 24, 25, 26, 27, 28, 29, 30, 31, 32, 33,\n",
       "       34, 35, 36, 37, 38, 39, 40, 41, 42, 43, 44, 45, 46, 47, 48, 49, 50,\n",
       "       51, 52, 53, 54, 55, 56, 57, 58, 59, 60, 61, 62, 63, 64, 65, 66, 67,\n",
       "       68, 69, 70, 71, 72, 73, 74, 75, 76, 77, 78, 79, 80, 81, 82, 83, 84,\n",
       "       85, 86, 87, 88, 89, 90, 91, 92, 93, 94, 95, 96, 97, 98, 99])"
      ]
     },
     "execution_count": 142,
     "metadata": {},
     "output_type": "execute_result"
    }
   ],
   "source": [
    "b = np.arange(100)\n",
    "b"
   ]
  },
  {
   "cell_type": "code",
   "execution_count": 142,
   "metadata": {},
   "outputs": [
    {
     "data": {
      "text/plain": [
       "array([ 0,  1,  2,  3,  4,  5,  6,  7,  8,  9, 10, 11, 12, 13, 14, 15, 16,\n",
       "       17, 18, 19, 20, 21, 22, 23, 24, 25, 26, 27, 28, 29, 30, 31, 32, 33,\n",
       "       34, 35, 36, 37, 38, 39, 40, 41, 42, 43, 44, 45, 46, 47, 48, 49, 50,\n",
       "       51, 52, 53, 54, 55, 56, 57, 58, 59, 60, 61, 62, 63, 64, 65, 66, 67,\n",
       "       68, 69, 70, 71, 72, 73, 74, 75, 76, 77, 78, 79, 80, 81, 82, 83, 84,\n",
       "       85, 86, 87, 88, 89, 90, 91, 92, 93, 94, 95, 96, 97, 98, 99])"
      ]
     },
     "execution_count": 142,
     "metadata": {},
     "output_type": "execute_result"
    }
   ],
   "source": [
    "b = np.arange(100)\n",
    "b"
   ]
  },
  {
   "cell_type": "code",
   "execution_count": 156,
   "metadata": {},
   "outputs": [
    {
     "data": {
      "text/plain": [
       "array([51, 52, 53, 54, 55, 56, 57, 58, 59, 60, 61, 62, 63, 64, 65, 66, 67,\n",
       "       68, 69, 70, 71, 72, 73, 74, 75, 76, 77, 78, 79, 80, 81, 82, 83, 84,\n",
       "       85, 86, 87, 88, 89, 90, 91, 92, 93, 94, 95, 96, 97, 98, 99])"
      ]
     },
     "execution_count": 156,
     "metadata": {},
     "output_type": "execute_result"
    }
   ],
   "source": [
    "b[b > 50]"
   ]
  },
  {
   "cell_type": "code",
   "execution_count": 158,
   "metadata": {},
   "outputs": [
    {
     "data": {
      "text/plain": [
       "array([51, 52, 53, 54, 55, 56, 57, 58, 59, 60, 61, 62, 63, 64, 65, 66, 67,\n",
       "       68, 69, 70, 71, 72, 73, 74, 75, 76, 77, 78, 79])"
      ]
     },
     "execution_count": 158,
     "metadata": {},
     "output_type": "execute_result"
    }
   ],
   "source": [
    "b[(b < 80) & (b > 50)]"
   ]
  },
  {
   "cell_type": "code",
   "execution_count": 160,
   "metadata": {},
   "outputs": [
    {
     "data": {
      "text/plain": [
       "array([51, 52, 53, 54, 55, 56, 57, 58, 59, 60, 61, 62, 63, 64, 65, 66, 67,\n",
       "       68, 69, 70, 71, 72, 73, 74, 75, 76, 77, 78, 79])"
      ]
     },
     "execution_count": 160,
     "metadata": {},
     "output_type": "execute_result"
    }
   ],
   "source": [
    "b[(b > 50) & (b < 80)]"
   ]
  },
  {
   "cell_type": "code",
   "execution_count": 189,
   "metadata": {},
   "outputs": [
    {
     "data": {
      "text/plain": [
       "array([[ 0,  1,  2,  3],\n",
       "       [ 4,  5,  6,  7],\n",
       "       [ 8,  9, 10, 11],\n",
       "       [12, 13, 14, 15]])"
      ]
     },
     "execution_count": 189,
     "metadata": {},
     "output_type": "execute_result"
    }
   ],
   "source": [
    "a = np.arange(16).reshape(4,4)\n",
    "a"
   ]
  },
  {
   "cell_type": "code",
   "execution_count": 177,
   "metadata": {},
   "outputs": [
    {
     "data": {
      "text/plain": [
       "array([[ 0,  1,  2,  3],\n",
       "       [ 4,  5,  6,  7],\n",
       "       [ 8,  9, 10, 11],\n",
       "       [12, 13, 14, 15]])"
      ]
     },
     "execution_count": 177,
     "metadata": {},
     "output_type": "execute_result"
    }
   ],
   "source": [
    "a = a + 5\n",
    "a"
   ]
  },
  {
   "cell_type": "code",
   "execution_count": 179,
   "metadata": {},
   "outputs": [
    {
     "data": {
      "text/plain": [
       "array([[-5, -4, -3, -2],\n",
       "       [-1,  0,  1,  2],\n",
       "       [ 3,  4,  5,  6],\n",
       "       [ 7,  8,  9, 10]])"
      ]
     },
     "execution_count": 179,
     "metadata": {},
     "output_type": "execute_result"
    }
   ],
   "source": [
    "a = a - 5\n",
    "a"
   ]
  },
  {
   "cell_type": "code",
   "execution_count": 49,
   "metadata": {},
   "outputs": [],
   "source": [
    "a = a * 2\n",
    "a"
   ]
  },
  {
   "cell_type": "code",
   "execution_count": 16,
   "metadata": {},
   "outputs": [
    {
     "data": {
      "text/plain": [
       "array([[0, 1, 2],\n",
       "       [3, 4, 5]])"
      ]
     },
     "execution_count": 16,
     "metadata": {},
     "output_type": "execute_result"
    }
   ],
   "source": [
    "a = np.arange(6).reshape(2,3)\n",
    "a"
   ]
  },
  {
   "cell_type": "code",
   "execution_count": 10,
   "metadata": {},
   "outputs": [
    {
     "data": {
      "text/plain": [
       "array([[0, 1],\n",
       "       [2, 3]])"
      ]
     },
     "execution_count": 10,
     "metadata": {},
     "output_type": "execute_result"
    }
   ],
   "source": [
    "b = np.arange(4).reshape(2,2)\n",
    "b "
   ]
  },
  {
   "cell_type": "code",
   "execution_count": 48,
   "metadata": {},
   "outputs": [],
   "source": [
    "c = np.hstack((a, b))\n",
    "c"
   ]
  },
  {
   "cell_type": "code",
   "execution_count": 22,
   "metadata": {},
   "outputs": [
    {
     "data": {
      "text/plain": [
       "array([[0, 1],\n",
       "       [2, 3],\n",
       "       [4, 5]])"
      ]
     },
     "execution_count": 22,
     "metadata": {},
     "output_type": "execute_result"
    }
   ],
   "source": [
    "a = np.arange(6).reshape(3,2)\n",
    "a"
   ]
  },
  {
   "cell_type": "code",
   "execution_count": 25,
   "metadata": {},
   "outputs": [
    {
     "data": {
      "text/plain": [
       "array([[0, 1],\n",
       "       [2, 3],\n",
       "       [4, 5],\n",
       "       [0, 1],\n",
       "       [2, 3]])"
      ]
     },
     "execution_count": 25,
     "metadata": {},
     "output_type": "execute_result"
    }
   ],
   "source": [
    "c = np.vstack((a, b))\n",
    "c"
   ]
  },
  {
   "cell_type": "code",
   "execution_count": 26,
   "metadata": {},
   "outputs": [],
   "source": [
    "# Numpy Array vs Python Array"
   ]
  },
  {
   "cell_type": "code",
   "execution_count": 46,
   "metadata": {},
   "outputs": [],
   "source": [
    "def sum(arr):\n",
    "    res = 0\n",
    "    for n in arr:\n",
    "        res += n\n",
    "    return res"
   ]
  },
  {
   "cell_type": "code",
   "execution_count": 32,
   "metadata": {},
   "outputs": [],
   "source": [
    "a = np.arange(100000)"
   ]
  },
  {
   "cell_type": "code",
   "execution_count": 47,
   "metadata": {},
   "outputs": [
    {
     "name": "stdout",
     "output_type": "stream",
     "text": [
      "10.2 ms ± 42.3 μs per loop (mean ± std. dev. of 7 runs, 100 loops each)\n"
     ]
    }
   ],
   "source": [
    "%timeit sum(a)"
   ]
  },
  {
   "cell_type": "code",
   "execution_count": 37,
   "metadata": {},
   "outputs": [
    {
     "name": "stdout",
     "output_type": "stream",
     "text": [
      "19.8 μs ± 642 ns per loop (mean ± std. dev. of 7 runs, 10,000 loops each)\n"
     ]
    }
   ],
   "source": [
    "%timeit np.sum(a)"
   ]
  }
 ],
 "metadata": {
  "kernelspec": {
   "display_name": "Python 3 (ipykernel)",
   "language": "python",
   "name": "python3"
  },
  "language_info": {
   "codemirror_mode": {
    "name": "ipython",
    "version": 3
   },
   "file_extension": ".py",
   "mimetype": "text/x-python",
   "name": "python",
   "nbconvert_exporter": "python",
   "pygments_lexer": "ipython3",
   "version": "3.12.4"
  }
 },
 "nbformat": 4,
 "nbformat_minor": 4
}
